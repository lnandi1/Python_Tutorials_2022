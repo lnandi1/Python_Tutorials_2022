{
  "nbformat": 4,
  "nbformat_minor": 0,
  "metadata": {
    "kernelspec": {
      "display_name": "Python 3",
      "language": "python",
      "name": "python3"
    },
    "language_info": {
      "codemirror_mode": {
        "name": "ipython",
        "version": 3
      },
      "file_extension": ".py",
      "mimetype": "text/x-python",
      "name": "python",
      "nbconvert_exporter": "python",
      "pygments_lexer": "ipython3",
      "version": "3.7.4"
    },
    "colab": {
      "provenance": [],
      "include_colab_link": true
    }
  },
  "cells": [
    {
      "cell_type": "markdown",
      "metadata": {
        "id": "view-in-github",
        "colab_type": "text"
      },
      "source": [
        "<a href=\"https://colab.research.google.com/github/lnandi1/Python_Tutorials_2022/blob/main/Master_Lab_5_Python_While_Loops_Examples_Questions.ipynb\" target=\"_parent\"><img src=\"https://colab.research.google.com/assets/colab-badge.svg\" alt=\"Open In Colab\"/></a>"
      ]
    },
    {
      "cell_type": "markdown",
      "metadata": {
        "id": "IasMPzKCedXm"
      },
      "source": [
        "*Please note that the Notebook was created by CLNandi(Dr) and cannot be replicated or used without the written permission of the author*"
      ]
    },
    {
      "cell_type": "markdown",
      "source": [
        "##**Computer Lab 5 - Introduction - Python - While Loops - Examples and Questions**\n",
        "<br> (1)We are studying worked examples and questions involving WHILE loops.\n",
        "<br> Please note the following about WHILE loops\n",
        "\n",
        "\n",
        "1.   WHILE loops are a form of ITERATION.\n",
        "2.   ITERATION means REPETITION or LOOPING\n",
        "3.   A WHILE Loop is also known as a CONDITION-CONTROLLED LOOP.\n",
        "4.   A WHILE Loop can demonstrate INDEFINITE ITERATION\n",
        "5.   We will look at the STRUCTURE of the WHILE loop and what happens if all the essential components of the structure are not in place.\n",
        "*   So, for example, an INFINITE Loop can be generated if we forget to increment a variable.\n",
        "6. Here is a Youtube video describing the WHILE loop\n",
        "https://youtu.be/UyH3Uxl_clE\n",
        "\n",
        "<br><br>(2) There are Examples and Questions in this Notebook.\n",
        "\n",
        "(3) First of all Run the Program related to each Example. Then Study the Program and the Output.\n",
        "\n",
        "(4)Then answer the associated question."
      ],
      "metadata": {
        "id": "KDE5HYCUmqMJ"
      }
    },
    {
      "cell_type": "markdown",
      "metadata": {
        "id": "s2o3aC07edXm"
      },
      "source": [
        "## **L5 - Example 1 - Program Showing the Basic Structure of a While Loop**\n",
        "\n",
        "<br>This Program shows the Basic Structure of a While loop.\n"
      ]
    },
    {
      "cell_type": "code",
      "metadata": {
        "id": "CqUUgsLDedXn",
        "colab": {
          "base_uri": "https://localhost:8080/"
        },
        "outputId": "4a09e13a-b220-4ff6-e53e-fc7aa4d67c5a"
      },
      "source": [
        "# Example 1\n",
        "# Program Showing Basic Structure of a While Loop\n",
        "def While_Loop():\n",
        "    j = 0            # The variable j is initialised to zero\n",
        "    while j <= 5:\n",
        "        print(j)\n",
        "        j = j+1      # j is incremented\n",
        "\n",
        "# Calling the Program with the While Loop\n",
        "While_Loop()"
      ],
      "execution_count": null,
      "outputs": [
        {
          "output_type": "stream",
          "name": "stdout",
          "text": [
            "0\n",
            "1\n",
            "2\n",
            "3\n",
            "4\n",
            "5\n"
          ]
        }
      ]
    },
    {
      "cell_type": "markdown",
      "source": [
        "## **L5 - Question 1 - Typing and Running 1st Program with the WHILE loop**\n",
        "Type in the above program and run it"
      ],
      "metadata": {
        "id": "yCNvJLmeLPDk"
      }
    },
    {
      "cell_type": "code",
      "source": [
        "#Insert Code"
      ],
      "metadata": {
        "id": "NFKJa6bcJgzN"
      },
      "execution_count": null,
      "outputs": []
    },
    {
      "cell_type": "markdown",
      "metadata": {
        "id": "9wkDp5PFewoc"
      },
      "source": [
        "## **L5 - Example 2 -  Using a WHILE loop to generate the sequence 0,5,10,15**\n"
      ]
    },
    {
      "cell_type": "code",
      "metadata": {
        "id": "3E6_pa3te3tt",
        "colab": {
          "base_uri": "https://localhost:8080/"
        },
        "outputId": "c8857934-3a18-4855-f23f-0e8fdd593b30"
      },
      "source": [
        "# Example 2\n",
        "def While_Loop_2():\n",
        "    j = 0            # The variable j is initialised to zero\n",
        "    while j <= 15:\n",
        "        print(j)\n",
        "        j = j+5      # j is incremented\n",
        "\n",
        "# Calling the Program with the While Loop\n",
        "While_Loop_2()"
      ],
      "execution_count": null,
      "outputs": [
        {
          "output_type": "stream",
          "name": "stdout",
          "text": [
            "0\n",
            "5\n",
            "10\n",
            "15\n"
          ]
        }
      ]
    },
    {
      "cell_type": "markdown",
      "metadata": {
        "id": "ZPUPpXV7e6Ga"
      },
      "source": [
        "## **L5 - Question 2 - Generating the sequence 10,20,30,40,50 using a WHILE loop**\n",
        "<br>Write a Function with a WHILE loop which generates the numbers 10,20,30,40,50"
      ]
    },
    {
      "cell_type": "code",
      "metadata": {
        "id": "Rj_BtSuofAuB"
      },
      "source": [
        "# Insert Code Here"
      ],
      "execution_count": null,
      "outputs": []
    },
    {
      "cell_type": "markdown",
      "metadata": {
        "id": "QTY8BhVredXn"
      },
      "source": [
        "## **L5 - Example 3A - Showing a Syntax error occuring if the variable in the WHILE loop is not initialised**\n",
        "This program shows that  you get a syntax error if you forget to initialise the variable\n",
        "<br><br>In this case the Program has forgotten to initialise the variable j"
      ]
    },
    {
      "cell_type": "code",
      "metadata": {
        "id": "n35GpgMcedXo",
        "colab": {
          "base_uri": "https://localhost:8080/",
          "height": 331
        },
        "outputId": "3f6f1c57-4c7a-4e64-fee2-b8cf0f2a0aad"
      },
      "source": [
        "# Example 3A\n",
        "# Forgetting to Initialise the j variable\n",
        "def While_Loop():\n",
        "    while j <=5:\n",
        "        print(j)\n",
        "        j = j+1\n",
        "While_Loop()"
      ],
      "execution_count": null,
      "outputs": [
        {
          "output_type": "error",
          "ename": "UnboundLocalError",
          "evalue": "ignored",
          "traceback": [
            "\u001b[0;31m---------------------------------------------------------------------------\u001b[0m",
            "\u001b[0;31mUnboundLocalError\u001b[0m                         Traceback (most recent call last)",
            "\u001b[0;32m<ipython-input-17-0e61fe76a476>\u001b[0m in \u001b[0;36m<module>\u001b[0;34m\u001b[0m\n\u001b[1;32m      5\u001b[0m         \u001b[0mprint\u001b[0m\u001b[0;34m(\u001b[0m\u001b[0mj\u001b[0m\u001b[0;34m)\u001b[0m\u001b[0;34m\u001b[0m\u001b[0;34m\u001b[0m\u001b[0m\n\u001b[1;32m      6\u001b[0m         \u001b[0mj\u001b[0m \u001b[0;34m=\u001b[0m \u001b[0mj\u001b[0m\u001b[0;34m+\u001b[0m\u001b[0;36m1\u001b[0m\u001b[0;34m\u001b[0m\u001b[0;34m\u001b[0m\u001b[0m\n\u001b[0;32m----> 7\u001b[0;31m \u001b[0mWhile_Loop\u001b[0m\u001b[0;34m(\u001b[0m\u001b[0;34m)\u001b[0m\u001b[0;34m\u001b[0m\u001b[0;34m\u001b[0m\u001b[0m\n\u001b[0m",
            "\u001b[0;32m<ipython-input-17-0e61fe76a476>\u001b[0m in \u001b[0;36mWhile_Loop\u001b[0;34m()\u001b[0m\n\u001b[1;32m      2\u001b[0m \u001b[0;31m# Forgetting to Initialise the j variable\u001b[0m\u001b[0;34m\u001b[0m\u001b[0;34m\u001b[0m\u001b[0;34m\u001b[0m\u001b[0m\n\u001b[1;32m      3\u001b[0m \u001b[0;32mdef\u001b[0m \u001b[0mWhile_Loop\u001b[0m\u001b[0;34m(\u001b[0m\u001b[0;34m)\u001b[0m\u001b[0;34m:\u001b[0m\u001b[0;34m\u001b[0m\u001b[0;34m\u001b[0m\u001b[0m\n\u001b[0;32m----> 4\u001b[0;31m     \u001b[0;32mwhile\u001b[0m \u001b[0mj\u001b[0m \u001b[0;34m<=\u001b[0m\u001b[0;36m5\u001b[0m\u001b[0;34m:\u001b[0m\u001b[0;34m\u001b[0m\u001b[0;34m\u001b[0m\u001b[0m\n\u001b[0m\u001b[1;32m      5\u001b[0m         \u001b[0mprint\u001b[0m\u001b[0;34m(\u001b[0m\u001b[0mj\u001b[0m\u001b[0;34m)\u001b[0m\u001b[0;34m\u001b[0m\u001b[0;34m\u001b[0m\u001b[0m\n\u001b[1;32m      6\u001b[0m         \u001b[0mj\u001b[0m \u001b[0;34m=\u001b[0m \u001b[0mj\u001b[0m\u001b[0;34m+\u001b[0m\u001b[0;36m1\u001b[0m\u001b[0;34m\u001b[0m\u001b[0;34m\u001b[0m\u001b[0m\n",
            "\u001b[0;31mUnboundLocalError\u001b[0m: local variable 'j' referenced before assignment"
          ]
        }
      ]
    },
    {
      "cell_type": "markdown",
      "metadata": {
        "id": "MKAUEz9-edXo"
      },
      "source": [
        "## **L5 - Example 3B - Showing an Infinite Loop Occuring during runtime if the variable is not incremented in the WHILE loop**\n",
        "<br>The Program shows you get an Infinite Loop if you forget to increment the variable"
      ]
    },
    {
      "cell_type": "code",
      "metadata": {
        "id": "W0ghon7EedXp"
      },
      "source": [
        "# Example 3B\n",
        "# Forgetting to Increment the j variable and you get an Infinite Loop\n",
        "def While_Loop():\n",
        "    j = 0\n",
        "    while j <=5:\n",
        "        print(j)\n",
        "While_Loop()"
      ],
      "execution_count": null,
      "outputs": []
    },
    {
      "cell_type": "markdown",
      "source": [
        "<br>0\n",
        "<br>0\n",
        "<br>0\n",
        "<br>0\n",
        "<br>0"
      ],
      "metadata": {
        "id": "h2X1HmZYE8Ez"
      }
    },
    {
      "cell_type": "markdown",
      "source": [
        "## **L5 - Question 3 - Generating the sequence 2,4,6,8 using a WHILE loop**\n",
        "Write a Program which involves a WHILE loop, outputting the numbers 2,4,6,8."
      ],
      "metadata": {
        "id": "4JhvBvZkQekb"
      }
    },
    {
      "cell_type": "code",
      "source": [
        "# Insert Code"
      ],
      "metadata": {
        "id": "h4yuLc9XQhUa"
      },
      "execution_count": null,
      "outputs": []
    },
    {
      "cell_type": "markdown",
      "metadata": {
        "id": "7nBV5o7xedXq"
      },
      "source": [
        "## **L5 - Example 4 - Using a WHILE loop to prompt an user to enter the correct password**\n",
        "This is a program Using a WHILE loop prompting the user to enter the Correct Password"
      ]
    },
    {
      "cell_type": "code",
      "metadata": {
        "id": "2RYNtIGTedXq",
        "colab": {
          "base_uri": "https://localhost:8080/"
        },
        "outputId": "cf6ef269-d9a0-4621-abb6-724fb4aeb7d3"
      },
      "source": [
        "# Example 4\n",
        "def Correct_Password():\n",
        "    Password = \"Chocolate\"\n",
        "    Active = True\n",
        "    while Active == True:\n",
        "        User_Input = input(\"Enter Password \")\n",
        "        if User_Input == Password:\n",
        "            Active = False\n",
        "        else:\n",
        "            print(\"Try again\")\n",
        "\n",
        "    print(\"Well done. You have entered the Correct Password\")\n",
        "\n",
        "# Calling the Function\n",
        "Correct_Password()"
      ],
      "execution_count": null,
      "outputs": [
        {
          "output_type": "stream",
          "name": "stdout",
          "text": [
            "Enter Password Egg\n",
            "Try again\n",
            "Enter Password Bread\n",
            "Try again\n",
            "Enter Password Chocolate\n",
            "Well done. You have entered the Correct Password\n"
          ]
        }
      ]
    },
    {
      "cell_type": "markdown",
      "metadata": {
        "id": "MUPsE78wfG_O"
      },
      "source": [
        "## **L5 - Question 4 - Using a WHILE loop to prompt user to enter correct Passcode**\n",
        "<br>Write a Program which asks a User to Input a Passcode and keeps on Looping around until the Correct Passcode is entered"
      ]
    },
    {
      "cell_type": "code",
      "metadata": {
        "id": "AccF12DbfVq8"
      },
      "source": [
        "# Insert Code here"
      ],
      "execution_count": null,
      "outputs": []
    },
    {
      "cell_type": "markdown",
      "metadata": {
        "id": "pRpwG4L1edXs"
      },
      "source": [
        "## **L5 - Example 5 - Using a WHILE to Validate that the Password entered is between 5 and 10 characters**\n",
        "\n",
        "This Program is about using a WHILE Loop to Check if a Password of between 5 and 10 characters\n",
        "<br><br>This is an example of Password Validation"
      ]
    },
    {
      "cell_type": "code",
      "metadata": {
        "id": "jsV49A8gedXs",
        "colab": {
          "base_uri": "https://localhost:8080/"
        },
        "outputId": "5446463d-779f-45f3-bdd9-cdde10ac4617"
      },
      "source": [
        "# Example 5\n",
        "## Entering a Password with of between 5 and 10 Characters\n",
        "def Password():\n",
        "    Active = True\n",
        "    while Active == True:\n",
        "        User_Input = input(\"Enter a Password between 5 and 10 characters \")\n",
        "        Length = len(User_Input) #len sees the length of the string\n",
        "        if Length >= 5 and Length <= 10:\n",
        "            Active = False\n",
        "        else:\n",
        "            print(\"Try again\")\n",
        "    print(\"Well done. You have entered a Password between 5 and 10 characters\")\n",
        "\n",
        "# Calling Function\n",
        "Password()"
      ],
      "execution_count": null,
      "outputs": [
        {
          "output_type": "stream",
          "name": "stdout",
          "text": [
            "Enter a Password between 5 and 10 characters 12\n",
            "Try again\n",
            "Enter a Password between 5 and 10 characters 123\n",
            "Try again\n",
            "Enter a Password between 5 and 10 characters 123456\n",
            "Well done. You have entered a Password between 5 and 10 characters\n"
          ]
        }
      ]
    },
    {
      "cell_type": "markdown",
      "metadata": {
        "id": "D9zYOiiraXdh"
      },
      "source": [
        "## **L5 - Question 5 - Check that Passcode entered is between 1 and 8 characters using a WHILE loop**\n",
        "<br>Write a Function which only allows a Passcode of Between 1 and 8 characters"
      ]
    },
    {
      "cell_type": "code",
      "metadata": {
        "id": "ivYUjENeadEF"
      },
      "source": [
        "#Insert Code Here"
      ],
      "execution_count": null,
      "outputs": []
    },
    {
      "cell_type": "markdown",
      "source": [
        "## **L5 - Example 6A - Selecting Characters in Specified Positions from a String**"
      ],
      "metadata": {
        "id": "kxlRWOXggU-P"
      }
    },
    {
      "cell_type": "code",
      "source": [
        "# Example 6A\n",
        "Word = \"Oranges\"\n",
        "print(\"\\nThe word is \",Word)\n",
        "print(\"\\nThe 1st letter is \",Word[0:1])\n",
        "print(\"\\nThe 1st two letters are \",Word[0:2])\n",
        "print(\"\\nThe 1st three letters are \",Word[0:3])\n",
        "print(\"\\nThe 3rd to 6th Characters are \",Word[3:7])"
      ],
      "metadata": {
        "colab": {
          "base_uri": "https://localhost:8080/"
        },
        "id": "iKPjMTYygt8o",
        "outputId": "b4ac5025-5655-406b-f170-46063361a839"
      },
      "execution_count": null,
      "outputs": [
        {
          "output_type": "stream",
          "name": "stdout",
          "text": [
            "\n",
            "The word is  Oranges\n",
            "\n",
            "The 1st letter is  O\n",
            "\n",
            "The 1st two letters are  Or\n",
            "\n",
            "The 1st three letters are  Ora\n",
            "\n",
            "The 3rd to 6th Characters are  nges\n"
          ]
        }
      ]
    },
    {
      "cell_type": "markdown",
      "metadata": {
        "id": "_DwXXlAxedXt"
      },
      "source": [
        "## **L5 - Example 6B - Check (Validate) that Password entered is begins with letter 'A' using a WHILE loop**\n",
        "This program uses a WHILE loop which checks that a Password which starts with the letter 'A'\n",
        "<br><br> This is another example of Password Validation\n"
      ]
    },
    {
      "cell_type": "code",
      "metadata": {
        "id": "m3tqUR6gedXt",
        "colab": {
          "base_uri": "https://localhost:8080/"
        },
        "outputId": "47076f69-7f0f-4ab7-b125-bdb137a7a86c"
      },
      "source": [
        "# Example 6B\n",
        "## Entering a Password which starts with the Letter 'A'\n",
        "def Password_A():\n",
        "    Active = True\n",
        "    while Active == True:\n",
        "        User_Input = input(\"Enter a Password which starts with the Letter A \")\n",
        "        First_Letter = User_Input[0:1] #The '0' refers to the 1st Character\n",
        "                                       # and '1' means it will consider 1 character.\n",
        "        if First_Letter == 'A':\n",
        "            Active = False\n",
        "        else:\n",
        "            print(\"Try again\")\n",
        "    print(\"Well done. You have entered a Password which starts with the letter A\")\n",
        "Password_A()"
      ],
      "execution_count": null,
      "outputs": [
        {
          "output_type": "stream",
          "name": "stdout",
          "text": [
            "Enter a Password which starts with the Letter A Banana\n",
            "Try again\n",
            "Enter a Password which starts with the Letter A Egg\n",
            "Try again\n",
            "Enter a Password which starts with the Letter A Apple\n",
            "Well done. You have entered a Password which starts with the letter A\n"
          ]
        }
      ]
    },
    {
      "cell_type": "code",
      "metadata": {
        "id": "hGyCx8OHedXu"
      },
      "source": [],
      "execution_count": null,
      "outputs": []
    },
    {
      "cell_type": "markdown",
      "source": [
        "## **L5 - Question 6 - Check (Validate) that the Password entered begins with letter 'C' using a WHILE loop**\n",
        "Write a Progran which checks that the Password entered starts with the letter 'C'"
      ],
      "metadata": {
        "id": "wu-G88e7k3h9"
      }
    },
    {
      "cell_type": "code",
      "source": [
        "## Insert Code"
      ],
      "metadata": {
        "id": "Xiz6t5aIk5fo"
      },
      "execution_count": null,
      "outputs": []
    },
    {
      "cell_type": "markdown",
      "source": [
        "## **L5 - Example 7A - Eliciting whether specified characters in a string are alphabetic or numeric**"
      ],
      "metadata": {
        "id": "U9BxsNTllbc_"
      }
    },
    {
      "cell_type": "code",
      "source": [
        "# Example 7A\n",
        "Password = \"ABcd12\"\n",
        "print(\"The Password is \",Password)\n",
        "First_two_characters = Password[0:2]\n",
        "print(\"\\nFirst two Characters \",First_two_characters)\n",
        "if First_two_characters.isalpha():\n",
        "  print(\"We have checked that the 1st two characters are alphabetic\")\n",
        "\n",
        "Last_Two_Characters = Password[4:6]\n",
        "print(\"\\nLast Two Characters \",Last_Two_Characters)\n",
        "if Last_Two_Characters.isdigit():\n",
        "  print(\"We have checkec that the last Two Characters are digits\")\n",
        "\n",
        "Middle_two_Characters = Password[2:4]\n",
        "print(\"\\nMiddle two Chracters \",Middle_two_Characters)\n",
        "if Middle_two_Characters.islower():\n",
        "  print(\"We have checked that the middle two characters are lowercase\")\n",
        "\n",
        "print(\"\\nMiddle two Chracters \",Middle_two_Characters)\n",
        "if (not Middle_two_Characters.isdigit()):\n",
        "  print(\"We have checked that the middle two characters are not digits\")"
      ],
      "metadata": {
        "colab": {
          "base_uri": "https://localhost:8080/"
        },
        "id": "iCA33czkld8X",
        "outputId": "8ad4b96b-23c3-478e-e59a-cedb2477daad"
      },
      "execution_count": null,
      "outputs": [
        {
          "output_type": "stream",
          "name": "stdout",
          "text": [
            "The Password is  ABcd12\n",
            "\n",
            "First two Characters  AB\n",
            "We have checked that the 1st two characters are alphabetic\n",
            "\n",
            "Last Two Characters  12\n",
            "We have checkec that the last Two Characters are digits\n",
            "\n",
            "Middle two Chracters  cd\n",
            "We have checked that the middle two characters are lowercase\n",
            "\n",
            "Middle two Chracters  cd\n",
            "We have checked that the middle two characters are not digits\n"
          ]
        }
      ]
    },
    {
      "cell_type": "markdown",
      "metadata": {
        "id": "G2lbiPAXedXu"
      },
      "source": [
        "## **L5 - Example 7B - Checking/Validating whether first 2 letters of entered Password are alphabetic characters using a WHILE loop**\n",
        "The program uses a WHILE loop to ensure that the first 2 letters of an entered Password are alphabetic characters."
      ]
    },
    {
      "cell_type": "code",
      "metadata": {
        "id": "FzqDxVdwedXu",
        "colab": {
          "base_uri": "https://localhost:8080/"
        },
        "outputId": "becc76c5-aa57-49ae-aba5-892c116e98f0"
      },
      "source": [
        "# Example 7B\n",
        "def Password():\n",
        "     Active = True\n",
        "     while Active == True:\n",
        "        User_Input = input(\"Enter a Password where the 1st 2 characters are alphabetic \")\n",
        "        First_Letter = User_Input[0:2] #'0' refers to the 1st character. '2' refers to the number of Characters considered\n",
        "        if First_Letter.isalpha(): #Checks if the first 2 Characters are Alphabetic\n",
        "            Active = False\n",
        "        else:\n",
        "            print(\"Try again\")\n",
        "     print(\"Well done. You have entered a Password where the 1st 2 characters are alphabetic\")\n",
        "\n",
        "# Calling the Function\n",
        "Password()"
      ],
      "execution_count": null,
      "outputs": [
        {
          "output_type": "stream",
          "name": "stdout",
          "text": [
            "Enter a Password where the 1st 2 characters are alphabetic 12we\n",
            "Try again\n",
            "Enter a Password where the 1st 2 characters are alphabetic EG12\n",
            "Well done. You have entered a Password where the 1st 2 characters are alphabetic\n"
          ]
        }
      ]
    },
    {
      "cell_type": "markdown",
      "metadata": {
        "id": "bhwARGXZeA58"
      },
      "source": [
        "## **L5 - Question 7 - Checking/Validating Format/Structure of a Entered Password - 1st 3 letters alphabetic, next 3 letters numeric**\n",
        "<br>Write a Function which allows a user to enter a password and checks that the first 3 characters entered are alphabetic characters and the next 3 characters entered are numeric"
      ]
    },
    {
      "cell_type": "code",
      "metadata": {
        "id": "d3bWoF3BeAAb"
      },
      "source": [
        "# Insert Code Here"
      ],
      "execution_count": null,
      "outputs": []
    },
    {
      "cell_type": "markdown",
      "source": [
        "## **L5 - Example 8 - Allowing User 3 Attempts to guess Correct Password using a WHILE loop**\n",
        "\n",
        "Program to Allow User 3 attempts to guess Correct Password"
      ],
      "metadata": {
        "id": "kMej2aVGj8J-"
      }
    },
    {
      "cell_type": "code",
      "source": [
        "# Example 8\n",
        "Password = \"Banana\"\n",
        "num_guesses = 0\n",
        "guess = \"\"\n",
        "while guess != Password  and num_guesses < 3:\n",
        "  guess = input(\"Enter your guess: \")\n",
        "  if guess == Password:\n",
        "    print(\"Correct\")\n",
        "    break\n",
        "  print(\"Incorrect - guess again!\")\n",
        "  num_guesses += 1\n",
        "\n",
        "if num_guesses == 3:\n",
        "  print(\"That was 3 tries, the correct Password was \" + str(Password))"
      ],
      "metadata": {
        "id": "HPNAAKXzkCpc",
        "colab": {
          "base_uri": "https://localhost:8080/"
        },
        "outputId": "43371848-c601-46c1-b0be-14c27c01dcea"
      },
      "execution_count": null,
      "outputs": [
        {
          "output_type": "stream",
          "name": "stdout",
          "text": [
            "Enter your guess: Egg\n",
            "Incorrect - guess again!\n",
            "Enter your guess: Bread\n",
            "Incorrect - guess again!\n",
            "Enter your guess: Banana\n",
            "Correct\n"
          ]
        }
      ]
    },
    {
      "cell_type": "markdown",
      "source": [
        "## **L5 - Question 8 - Allowing User 4 Attempts to guess Correct Password using a WHILE loop**\n",
        "\n",
        "Write a Program which allows the user 4 attempts to guess the correct password"
      ],
      "metadata": {
        "id": "obxxiX7plDU7"
      }
    },
    {
      "cell_type": "code",
      "source": [
        "#Insert Code Here"
      ],
      "metadata": {
        "id": "S6bDh4SRlNhx"
      },
      "execution_count": null,
      "outputs": []
    },
    {
      "cell_type": "markdown",
      "source": [
        "## **L5 - Example 9 - Generating Random Numbers within Given Ranges**"
      ],
      "metadata": {
        "id": "Z797L4fbRDmy"
      }
    },
    {
      "cell_type": "code",
      "source": [
        "# Example 9\n",
        "import random\n",
        "print(\"\\n Generating a random number between 1 and 10\")\n",
        "r = random.randint(1,10)\n",
        "print(r)\n",
        "print(\"\\n Generating a random number between 1 and 100\")\n",
        "r = random.randint(1,100)\n",
        "print(r)\n",
        "print(\"\\n Generating a random number between 1000 and 2000\")\n",
        "r = random.randint(1000,2000)\n",
        "print(r)"
      ],
      "metadata": {
        "colab": {
          "base_uri": "https://localhost:8080/"
        },
        "id": "g34Ah-U1RFtc",
        "outputId": "afbc1aa0-6743-4d6e-9d4b-d5b6ca2099fb"
      },
      "execution_count": null,
      "outputs": [
        {
          "output_type": "stream",
          "name": "stdout",
          "text": [
            "\n",
            " Generating a random number between 1 and 10\n",
            "5\n",
            "\n",
            " Generating a random number between 1 and 100\n",
            "82\n",
            "\n",
            " Generating a random number between 1000 and 2000\n",
            "1342\n"
          ]
        }
      ]
    },
    {
      "cell_type": "markdown",
      "metadata": {
        "id": "jJ_DeKE2fAbz"
      },
      "source": [
        "## **L5 - Question 9 - Program for User to Guess the Number which is Randmly generated by the Computer**\n",
        "<br>Write a Function where the Computer Randomly generates a number between 1 and 100. And you as the user have to guess the number until you get it right. The Program will report on whether the number you have guess is too high or too low or if you can guess it correctly.\n",
        "<br><br> For this you will need to know how to generate random numbers and to generate a random number between 1 and 100 you use the following statements.\n",
        "<br><br>import random\n",
        "<br>r = random.randint(1,100)\n",
        "<br><br> You can then study the solution to Question 8"
      ]
    },
    {
      "cell_type": "code",
      "metadata": {
        "id": "yG-8NCPkfMHU"
      },
      "source": [
        "#Insert Code Here"
      ],
      "execution_count": null,
      "outputs": []
    },
    {
      "cell_type": "markdown",
      "metadata": {
        "id": "_oUzjMGiedXv"
      },
      "source": [
        "## **L5 - Question 9 - A solution - Program for User to Guess the Number which is Randmly generated by the Computer**\n"
      ]
    },
    {
      "cell_type": "code",
      "metadata": {
        "id": "ayFCZBLWedXv"
      },
      "source": [
        "# Question 9 - A Solution\n",
        "def Guess_Number():\n",
        "    import random\n",
        "    Computer_Number = random.randint(1,10) # Computer Generates a Random Number between 1 and 10\n",
        "    print(\"The Computer has generated the Number \", Computer_Number)\n",
        "    while True:  #Notice a different way of putting the condition here\n",
        "        User_Guess = int(input(\"Enter a Number \"))\n",
        "        if User_Guess == Computer_Number:\n",
        "            break   #The break statement allows you to come out of the WHILE block\n",
        "        elif User_Guess < Computer_Number:\n",
        "            print(\"Try Again. Your Guess is Too Low \")\n",
        "        else:\n",
        "            print(\"Try again. Your Guess is Too High \")\n",
        "\n",
        "\n",
        "    print(\"Well done. You have guessed the Correct Number\")\n",
        "\n",
        "\n",
        "\n",
        "\n",
        "\n",
        ""
      ],
      "execution_count": null,
      "outputs": []
    },
    {
      "cell_type": "code",
      "metadata": {
        "id": "FOvswPKjedXv",
        "outputId": "6ef02cd2-3948-43b0-a0ca-d601c354a919",
        "colab": {
          "base_uri": "https://localhost:8080/"
        }
      },
      "source": [
        "Guess_Number()"
      ],
      "execution_count": null,
      "outputs": [
        {
          "output_type": "stream",
          "name": "stdout",
          "text": [
            "The Computer has generated the Number  9\n",
            "Enter a Number 7\n",
            "Try Again. Your Guess is Too Low \n",
            "Enter a Number 10\n",
            "Try again. Your Guess is Too High \n",
            "Enter a Number 9\n",
            "Well done. You have guessed the Correct Number\n"
          ]
        }
      ]
    },
    {
      "cell_type": "markdown",
      "source": [
        "## **L5 - Example 10 - There is no Example 10**"
      ],
      "metadata": {
        "id": "X5le4V_4CPzv"
      }
    },
    {
      "cell_type": "markdown",
      "source": [
        "## **L5 - Question 10 - Now go over all the Examples, Questions and Answers**\n",
        "Watch the YouTube video on WHILE loops\n",
        "https://youtu.be/UyH3Uxl_clE\n"
      ],
      "metadata": {
        "id": "JldXDQajjr0m"
      }
    }
  ]
}