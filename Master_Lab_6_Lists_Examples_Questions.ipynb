{
  "nbformat": 4,
  "nbformat_minor": 0,
  "metadata": {
    "colab": {
      "provenance": [],
      "authorship_tag": "ABX9TyOiEJUolO/qAs40jm+sS51W",
      "include_colab_link": true
    },
    "kernelspec": {
      "name": "python3",
      "display_name": "Python 3"
    },
    "language_info": {
      "name": "python"
    }
  },
  "cells": [
    {
      "cell_type": "markdown",
      "metadata": {
        "id": "view-in-github",
        "colab_type": "text"
      },
      "source": [
        "<a href=\"https://colab.research.google.com/github/lnandi1/Python_Tutorials_2022/blob/main/Master_Lab_6_Lists_Examples_Questions.ipynb\" target=\"_parent\"><img src=\"https://colab.research.google.com/assets/colab-badge.svg\" alt=\"Open In Colab\"/></a>"
      ]
    },
    {
      "cell_type": "markdown",
      "metadata": {
        "id": "ZR5vN1nWiyMq"
      },
      "source": [
        "*Please note that the Notebook was created by CLNandi(Dr) and cannot be replicated or used without the permission of the author*\n",
        "\n"
      ]
    },
    {
      "cell_type": "markdown",
      "source": [
        "## **Master - Computer Lab 6 - Introduction - Python - Lists - Examples and Questions**\n",
        "<br><br> Below are a set of worked examples and exercises related to Lists in Python, which look at:-\n",
        "\n",
        "\n",
        "1.   Creating/Defining a List\n",
        "2.   Printing/Displaying the Contents of a List\n",
        "3.   Accessing the Elements of a List through Positive and Negative Indexing\n",
        "4.   How to Get an Item from a List\n",
        "5.   How to Set an Item from a List\n",
        "6.   How to Perform Operations on a List such as:-\n",
        "      *   Adding/Appending an Item\n",
        "      *   Inserting an Item\n",
        "      *   Popping an Item\n",
        "      *   Deleting/Removing an Item\n",
        "      *   Finding the Number of Items in a List or the Length of the List\n",
        "7.    Using a FOR Loop to Read the Items of a List\n",
        "8.    Using a WHILE Loop to Read the Items of a List\n",
        "9.    Using the InBuilt Function Range to Create a List of Items.\n",
        "10.   Using a FOR Loop to Create a List\n",
        "11.   Using Inbuilt Statistics Functions on Loops such as:-\n",
        "     * min\n",
        "     * max\n",
        "     * sum\n",
        "\n",
        "<br><br>A tutorial of Lists can be found in this YouTube Video\n",
        "https://youtu.be/n5-nYG3aUy8\n",
        "\n"
      ],
      "metadata": {
        "id": "yWPHm5gXn-a0"
      }
    },
    {
      "cell_type": "markdown",
      "metadata": {
        "id": "UeUSlNDmYinx"
      },
      "source": [
        "## **L6 - Example 1 - Defining Lists**\n",
        "This Example is defining several Lists"
      ]
    },
    {
      "cell_type": "code",
      "metadata": {
        "id": "xtqsTkyEj-fa"
      },
      "source": [
        "# Example 1\n",
        "temperature = [10,20,30,100, 50, 40]\n",
        "Food = [ \"Apples\",\"Bananas\",\"Peaches\"]\n",
        "film = [\"The Dragon\", 2021, 9.99]\n",
        "Scores = []"
      ],
      "execution_count": null,
      "outputs": []
    },
    {
      "cell_type": "markdown",
      "metadata": {
        "id": "G4wTZPHMkD7B"
      },
      "source": [
        "## **L6 - Example 2 - Outputting the Contents of Lists**\n",
        "Example 2 is showing out the contents of the lists defined above can be printed."
      ]
    },
    {
      "cell_type": "code",
      "metadata": {
        "colab": {
          "base_uri": "https://localhost:8080/"
        },
        "id": "vKgGzp9CiIUU",
        "outputId": "787e8724-1c02-4e80-e8b3-a388c8e19716"
      },
      "source": [
        "# Example 2\n",
        "print(\"temperature \",temperature)\n",
        "print(\"food \", Food)\n",
        "print(\"film \",film)\n",
        "print(\"Scores \",Scores)"
      ],
      "execution_count": null,
      "outputs": [
        {
          "output_type": "stream",
          "name": "stdout",
          "text": [
            "temperature  [10, 20, 30, 100, 50, 40]\n",
            "food  ['Apples', 'Bananas', 'Peaches']\n",
            "film  ['The Dragon', 2021, 9.99]\n",
            "Scores  []\n"
          ]
        }
      ]
    },
    {
      "cell_type": "markdown",
      "metadata": {
        "id": "ftDgy5GhkONj"
      },
      "source": [
        "## **L6 - Example 3 - Accessing items in Lists with Positive Index Values**\n",
        "This example shows how to accessing the elements/items of the List with Positive Index Value\n",
        "\n",
        "\n"
      ]
    },
    {
      "cell_type": "code",
      "metadata": {
        "colab": {
          "base_uri": "https://localhost:8080/"
        },
        "id": "fmdL4d4Uisgm",
        "outputId": "3a80bd4e-20f6-465f-f3e0-aa3d0916ecc9"
      },
      "source": [
        "# Example 3\n",
        "print(temperature[0])\n",
        "print(temperature[3])\n",
        "print(temperature[5])\n",
        "print(Food[0])\n",
        "print(Food[2])\n",
        "print(film[2])"
      ],
      "execution_count": null,
      "outputs": [
        {
          "output_type": "stream",
          "text": [
            "10\n",
            "100\n",
            "40\n",
            "Apples\n",
            "Peaches\n",
            "9.99\n"
          ],
          "name": "stdout"
        }
      ]
    },
    {
      "cell_type": "markdown",
      "metadata": {
        "id": "ql4haX_dlvsH"
      },
      "source": [
        "## **L6 - Example 4 - Accessing Items of Lists with Negative Indexes**\n",
        "Accessing the elements/items of the List with Negative Indexes\n",
        "\n",
        "\n"
      ]
    },
    {
      "cell_type": "code",
      "metadata": {
        "colab": {
          "base_uri": "https://localhost:8080/"
        },
        "id": "RdkdLESYl0HG",
        "outputId": "84f5b682-918f-4574-f1fd-3fc5dfc7399c"
      },
      "source": [
        "# Example 4\n",
        "print(temperature[-6])\n",
        "print(temperature[-1])\n",
        "print(Food[-2])\n"
      ],
      "execution_count": null,
      "outputs": [
        {
          "output_type": "stream",
          "text": [
            "10\n",
            "40\n",
            "Bananas\n"
          ],
          "name": "stdout"
        }
      ]
    },
    {
      "cell_type": "markdown",
      "source": [
        "## **L6 - Questions 1 to 3 - Creating a List and Outputting Certain Items**\n",
        "\n",
        "\n",
        "1.   Create a List with the Numbers 11,22,33,44,55\n",
        "2.   Output the 3rd element of the List\n",
        "3.   Output the 1st element of the List\n"
      ],
      "metadata": {
        "id": "qtnQ9Nt9qgtD"
      }
    },
    {
      "cell_type": "code",
      "source": [
        "#Insert Code"
      ],
      "metadata": {
        "id": "aEjQBK4ZqpPC"
      },
      "execution_count": null,
      "outputs": []
    },
    {
      "cell_type": "markdown",
      "metadata": {
        "id": "AWp_qh7tZ9OX"
      },
      "source": [
        "## **L6 - Example 5 - Getting an Item from a List**\n",
        "How to Get an Item from a List"
      ]
    },
    {
      "cell_type": "code",
      "metadata": {
        "colab": {
          "base_uri": "https://localhost:8080/"
        },
        "id": "IwNDrVtmaGet",
        "outputId": "1907a96b-dbb4-46be-d426-0a752e3b5f03"
      },
      "source": [
        "# Example 5\n",
        "print(\"temperature \", temperature)\n",
        "temp = temperature[0]\n",
        "print(\"temp which is temperature[0] \",temp,\"\\n\")\n",
        "\n",
        "food_stuff = Food[2]\n",
        "print(food_stuff)"
      ],
      "execution_count": null,
      "outputs": [
        {
          "output_type": "stream",
          "text": [
            "temperature  [10, 20, 30, 200, 50, 40]\n",
            "temp which is temperature[0]  10 \n",
            "\n",
            "Peaches\n"
          ],
          "name": "stdout"
        }
      ]
    },
    {
      "cell_type": "markdown",
      "metadata": {
        "id": "Gd8D5jFSaT3x"
      },
      "source": [
        "## **L6 - Example 6 - Setting an Item in a List**\n",
        "How to set an Item in a List"
      ]
    },
    {
      "cell_type": "code",
      "metadata": {
        "colab": {
          "base_uri": "https://localhost:8080/"
        },
        "id": "juTVeUEGaYA9",
        "outputId": "25058253-b1de-45d8-85ec-c2aa771d504b"
      },
      "source": [
        "# Example 6\n",
        "print(\"Temperature before setting an item \", temperature)\n",
        "temperature[3] = 200 # replaces 100 with 200\n",
        "print(\"Temperature after setting an item \", temperature)"
      ],
      "execution_count": null,
      "outputs": [
        {
          "output_type": "stream",
          "text": [
            "Temperature before setting an item  [10, 20, 30, 100, 50, 40]\n",
            "Temperature after setting an item  [10, 20, 30, 200, 50, 40]\n"
          ],
          "name": "stdout"
        }
      ]
    },
    {
      "cell_type": "markdown",
      "metadata": {
        "id": "XhJQa0j3hlpx"
      },
      "source": []
    },
    {
      "cell_type": "markdown",
      "metadata": {
        "id": "RvQyGlJpvCMx"
      },
      "source": [
        "## **L6 - Example 7 - Operations of Adding (or Appending), Inserting, Popping, Deleting and Finding from a List**\n",
        "Operations on a List\n",
        "\n",
        "1.   Add or Append\n",
        "2.   Insert\n",
        "3.   Pop an Item\n",
        "4.   Delete or Remove an Item\n",
        "5.   Find the number of Items\n"
      ]
    },
    {
      "cell_type": "code",
      "metadata": {
        "colab": {
          "base_uri": "https://localhost:8080/"
        },
        "id": "vIytxIEtwYgb",
        "outputId": "6358d33e-6cbe-4c01-a975-4b5e380be6f3"
      },
      "source": [
        "# Example 7\n",
        "temperature = [10,20,30,40]\n",
        "print(\"temperature \",temperature)\n",
        "temperature.append(50)\n",
        "print(\"temperature after an item has been added \", temperature)\n",
        "print(\"\\nInserting an item at index 0\")\n",
        "temperature.insert(0,15)\n",
        "print(\"temperature after inserting item at index 0 \", temperature)\n",
        "temperature.insert(3,35)\n",
        "print(\"temperature after inserting item at index 3 \",temperature)\n",
        "temperature.remove(35) #Remove Number 35\n",
        "print(\"temperature after item with the number 35 has been removed \",temperature)\n",
        "print(\"Popping an item\")\n",
        "temperature.pop()\n",
        "print(\"temperature \",temperature)\n"
      ],
      "execution_count": null,
      "outputs": [
        {
          "output_type": "stream",
          "name": "stdout",
          "text": [
            "temperature  [10, 20, 30, 40]\n",
            "temperature after an item has been added  [10, 20, 30, 40, 50]\n",
            "\n",
            "Inserting an item at index 0\n",
            "temperature after inserting item at index 0  [15, 10, 20, 30, 40, 50]\n",
            "temperature after inserting item at index 3  [15, 10, 20, 35, 30, 40, 50]\n",
            "temperature after item with the number 35 has been removed  [15, 10, 20, 30, 40, 50]\n",
            "Popping an item\n",
            "temperature  [15, 10, 20, 30, 40]\n"
          ]
        }
      ]
    },
    {
      "cell_type": "markdown",
      "source": [
        "## **L6 - Questions 4 to 7 - Creating a List, Replacing, Inserting and Appending Items**\n",
        "\n",
        "4.   Create a List with the Numbers 11,22,33,44,55\n",
        "5. Replace the number 33 with 77\n",
        "6.   Insert the number 40 in the 4th Position\n",
        "7. Append the number 88 to the end of the list\n",
        "<br>\n",
        "<br>7(i) Also additionally, find the number of items of the list. Note that len(A) will give you the number of items in List A\n",
        "\n",
        "\n",
        "<br>Examples 1-7 should help you with this question"
      ],
      "metadata": {
        "id": "4xQMWw0kf12N"
      }
    },
    {
      "cell_type": "code",
      "source": [
        "#Insert Code"
      ],
      "metadata": {
        "id": "FJASWNQPpQoX"
      },
      "execution_count": null,
      "outputs": []
    },
    {
      "cell_type": "markdown",
      "metadata": {
        "id": "SGXjpCfwvrcr"
      },
      "source": [
        "## **L6 - Example 8 - Reading Items in a List with a FOR loop**\n",
        "Reading the Items in a List with a FOR loop"
      ]
    },
    {
      "cell_type": "code",
      "metadata": {
        "colab": {
          "base_uri": "https://localhost:8080/"
        },
        "id": "YPPlYfniN_xu",
        "outputId": "cba50f56-dfb5-438e-eb73-a076ffd968bc"
      },
      "source": [
        "# Example 8\n",
        "scores = [70,80,90,100]\n",
        "for score in scores:\n",
        "  print(score)"
      ],
      "execution_count": null,
      "outputs": [
        {
          "output_type": "stream",
          "text": [
            "70\n",
            "80\n",
            "90\n",
            "100\n"
          ],
          "name": "stdout"
        }
      ]
    },
    {
      "cell_type": "markdown",
      "source": [
        "## **L6 - Question 8 - Creating a List and Reading the Items of the List with a FOR loop**\n",
        "Create a list with the numbers 2,4,6,8 and use a FOR loop to read and output the items of the list"
      ],
      "metadata": {
        "id": "ksEMgLsVhR5Z"
      }
    },
    {
      "cell_type": "code",
      "source": [
        "# Insert Code"
      ],
      "metadata": {
        "id": "OqwVIvf9hfkL"
      },
      "execution_count": null,
      "outputs": []
    },
    {
      "cell_type": "markdown",
      "metadata": {
        "id": "-TaBFP2QvwLp"
      },
      "source": [
        "## **L6 - Example 9 - Creating a List and Reading the Items of the List using a WHILE loop**\n",
        " Reading the Items in a List with a WHILE loop"
      ]
    },
    {
      "cell_type": "code",
      "metadata": {
        "colab": {
          "base_uri": "https://localhost:8080/"
        },
        "id": "9XIxnvb8OQuk",
        "outputId": "17fef568-437c-48f8-88fc-55b7fdb99fd9"
      },
      "source": [
        "# Example 9\n",
        "scores = [70,80,90,100]\n",
        "j = 0\n",
        "while j < len(scores):\n",
        "  print(scores[j])\n",
        "  j=j+1"
      ],
      "execution_count": null,
      "outputs": [
        {
          "output_type": "stream",
          "text": [
            "70\n",
            "80\n",
            "90\n",
            "100\n"
          ],
          "name": "stdout"
        }
      ]
    },
    {
      "cell_type": "markdown",
      "source": [
        "## **L6 - Question 9 - Creating a List and Reading the Items of the List using a WHILE loop**\n",
        "\n",
        "Create a List with the Numbers 1,3,5,7,9 and read and output the items using a WHILE loop"
      ],
      "metadata": {
        "id": "G9oHcz4ahVMp"
      }
    },
    {
      "cell_type": "code",
      "source": [
        "#Insert Code"
      ],
      "metadata": {
        "id": "xlI_YkLJhiI-"
      },
      "execution_count": null,
      "outputs": []
    },
    {
      "cell_type": "markdown",
      "metadata": {
        "id": "3XPrEZfxOlIN"
      },
      "source": [
        "## **L6 - Examples 10A - Creating a List of Consecutive Numbers using List Comprehension**\n",
        "Using range() to make a list of numbers"
      ]
    },
    {
      "cell_type": "code",
      "metadata": {
        "colab": {
          "base_uri": "https://localhost:8080/"
        },
        "id": "ZX1zm0JfOwOk",
        "outputId": "4475a615-bf9d-45e7-a32e-b800408ec31d"
      },
      "source": [
        "# Example 10A\n",
        "numbers = list(range(1,6))\n",
        "print(numbers)"
      ],
      "execution_count": null,
      "outputs": [
        {
          "output_type": "stream",
          "text": [
            "[1, 2, 3, 4, 5]\n"
          ],
          "name": "stdout"
        }
      ]
    },
    {
      "cell_type": "markdown",
      "source": [
        "## **L6 - Example 10B - Creating a List of Even Numbers using List Comprehension**"
      ],
      "metadata": {
        "id": "wayeqrXsofyP"
      }
    },
    {
      "cell_type": "code",
      "metadata": {
        "colab": {
          "base_uri": "https://localhost:8080/"
        },
        "id": "YEljZODIO1g3",
        "outputId": "6c54fef5-788c-49d5-e4d3-b025b6c6d4cb"
      },
      "source": [
        "# Example 10B\n",
        "even_numbers = list(range(2,11,2))\n",
        "print(even_numbers)"
      ],
      "execution_count": null,
      "outputs": [
        {
          "output_type": "stream",
          "text": [
            "[2, 4, 6, 8, 10]\n"
          ],
          "name": "stdout"
        }
      ]
    },
    {
      "cell_type": "markdown",
      "source": [
        "## **L6 - Question 10 - Create a List of Odd Numbers Using List Comprehension**\n",
        "Make a list of odd numbers from 1 to 20 (Hint: Use the keyword 'range')\n"
      ],
      "metadata": {
        "id": "Yjis6oNihYyS"
      }
    },
    {
      "cell_type": "code",
      "source": [
        "#Insert Code"
      ],
      "metadata": {
        "id": "THQbpdbumntx"
      },
      "execution_count": null,
      "outputs": []
    },
    {
      "cell_type": "markdown",
      "metadata": {
        "id": "Nm5xrWdiTFlu"
      },
      "source": [
        "## **L6 - Example 11 - Creating a List of Square Numbers using a FOR loop**\n",
        "Creating a List"
      ]
    },
    {
      "cell_type": "code",
      "metadata": {
        "colab": {
          "base_uri": "https://localhost:8080/"
        },
        "id": "SjPNVlmlTJ3W",
        "outputId": "0b68e21e-1148-4d37-828c-4ccf173935ff"
      },
      "source": [
        "# Example 11\n",
        "squares = []\n",
        "for value in range(1,11):\n",
        "  square = value**2\n",
        "  squares.append(square)\n",
        "\n",
        "print(squares)"
      ],
      "execution_count": null,
      "outputs": [
        {
          "output_type": "stream",
          "text": [
            "[1, 4, 9, 16, 25, 36, 49, 64, 81, 100]\n"
          ],
          "name": "stdout"
        }
      ]
    },
    {
      "cell_type": "markdown",
      "source": [
        "## **L6 - Question 11A - Create a List of Multiples of 3 using a FOR Loop**\n",
        "Make a List of Multiples of 3  from 3 to 30 (i.e 3,6,9,12,15,18,21,24,27,30). And then use a FOR loop to print the numbers in the list\n"
      ],
      "metadata": {
        "id": "UP3OP1eWm0WV"
      }
    },
    {
      "cell_type": "code",
      "source": [
        "#Insert Code"
      ],
      "metadata": {
        "id": "K0HEUNwgm2RL"
      },
      "execution_count": null,
      "outputs": []
    },
    {
      "cell_type": "markdown",
      "source": [
        "## **L6 - Question 11B - Create a List of the 1st 10 Cubed Numbers using a FOR loop**\n",
        "Make a List of the 1st 10 Cubed Numbers\n"
      ],
      "metadata": {
        "id": "5leudHC5nRMd"
      }
    },
    {
      "cell_type": "code",
      "source": [
        "#Insert Code"
      ],
      "metadata": {
        "id": "fXWlHBSxnTsJ"
      },
      "execution_count": null,
      "outputs": []
    },
    {
      "cell_type": "markdown",
      "metadata": {
        "id": "pv-ySWNbTYAV"
      },
      "source": [
        "## **L6 - Example 12 - Using inbuilt functions relating to statistics on Lists (Minimum, Maximum and Sum)**\n",
        "Simple Statistics with a List of Numbers with built-in Functions of Python\n",
        "\n",
        "\n",
        "\n"
      ]
    },
    {
      "cell_type": "code",
      "metadata": {
        "colab": {
          "base_uri": "https://localhost:8080/"
        },
        "id": "B7ZOmkXOTees",
        "outputId": "4de75f17-73e9-4d7c-a377-8bd8f4be2992"
      },
      "source": [
        "# Example 12\n",
        "digits = [1,2,3,4,5,6,7,8,9,0]\n",
        "print(\"Minumum \", min(digits))\n",
        "print(\"Maximum \", max(digits))\n",
        "print(\"Sum \",sum(digits))"
      ],
      "execution_count": null,
      "outputs": [
        {
          "output_type": "stream",
          "text": [
            "Minumum  0\n",
            "Maximum  9\n",
            "Sum  45\n"
          ],
          "name": "stdout"
        }
      ]
    },
    {
      "cell_type": "markdown",
      "metadata": {
        "id": "ndF8iZnDVvYg"
      },
      "source": [
        "## **L6 - Question 12 - Creating a List of Numbers from 1 to a Millon and then Summing the Numbers**\n",
        "Make a List of Numbers 1 to million.  Then use the sum() function to output the sum of the numbers.\n",
        "<br><br>Refer to Examples 12 and 13 above for help."
      ]
    },
    {
      "cell_type": "code",
      "metadata": {
        "id": "ZH-R2ntMWFIE"
      },
      "source": [
        "# Put code here"
      ],
      "execution_count": null,
      "outputs": []
    },
    {
      "cell_type": "markdown",
      "source": [
        "## **L6 - Example 13 - Linear Search Program to Determine if an Item is Within a List**\n",
        "\n",
        "The Program below uses what is known as a Linear Search Algorithm to determine whether an item is within a particular list.\n",
        "<br><br> Run it and then study the program and output\n",
        "<br><br> Then you will probably to need to approach your teacher to ask for a proper explanation of how the program is working\n",
        "<br><br>An explanation of the mechanism of the Linear Search can be found in the 1st 7 minutes of the following YouTube video\n",
        "https://youtu.be/dveRhfihkX0\n"
      ],
      "metadata": {
        "id": "5hYOc7bupiYu"
      }
    },
    {
      "cell_type": "code",
      "source": [
        "#Example 13\n",
        "def Linear_Search(alist,itemSought):\n",
        "  for j in range(len(alist)):\n",
        "    if alist[j] == itemSought:\n",
        "      return j\n",
        "  return -1\n",
        "\n",
        "\n",
        "\n",
        "a = [1,6,4,8,9,10,12,17,2]\n",
        "key = int(input(\"Enter key \"))\n",
        "\n",
        "j = Linear_Search(a,key)\n",
        "if j == -1:\n",
        "  print(\"Key not in list\")\n",
        "else:\n",
        "  print(a[j], \"is at index \",j)"
      ],
      "metadata": {
        "id": "lXDmHcfwpk6-",
        "colab": {
          "base_uri": "https://localhost:8080/"
        },
        "outputId": "357ccbb9-7735-4145-b397-a941f70c7399"
      },
      "execution_count": null,
      "outputs": [
        {
          "output_type": "stream",
          "name": "stdout",
          "text": [
            "Enter key 10\n",
            "10 is at index  5\n"
          ]
        }
      ]
    },
    {
      "cell_type": "markdown",
      "metadata": {
        "id": "L7KGlSCZXv_z"
      },
      "source": [
        "## **L6 - Question 13 - Creating a List and Applying a Linear Search Algorithm to determine if an Item is in a List**\n",
        "Create a List of the Numbers 77,22,23,35,46. Then write some code to identify if the number 77 is in the list."
      ]
    },
    {
      "cell_type": "code",
      "metadata": {
        "id": "6RvWUi2grlaq"
      },
      "source": [
        "# Put Code Here"
      ],
      "execution_count": null,
      "outputs": []
    },
    {
      "cell_type": "markdown",
      "source": [
        "## **L6 - Example 14 - Reversing a List**"
      ],
      "metadata": {
        "id": "cibEN2__pssq"
      }
    },
    {
      "cell_type": "code",
      "source": [
        "#Example 14\n",
        "fruits = ['apple', 'banana', 'cherry']\n",
        "fruits.reverse()\n",
        "print(fruits)"
      ],
      "metadata": {
        "id": "FyORcSvmp3vI",
        "colab": {
          "base_uri": "https://localhost:8080/"
        },
        "outputId": "65996d9e-0387-4a19-d156-97527bea830c"
      },
      "execution_count": null,
      "outputs": [
        {
          "output_type": "stream",
          "name": "stdout",
          "text": [
            "['cherry', 'banana', 'apple']\n"
          ]
        }
      ]
    },
    {
      "cell_type": "markdown",
      "metadata": {
        "id": "dBcg2HFgrnUU"
      },
      "source": [
        "## **L6 - Question 14 - Writing Program to Reverse a given List**\n",
        "Write a Function to reverse the order of a given list of numbers 77,22,23,35,46"
      ]
    },
    {
      "cell_type": "code",
      "metadata": {
        "id": "Wxa4RulbrytK"
      },
      "source": [
        "# Put Code Here"
      ],
      "execution_count": null,
      "outputs": []
    },
    {
      "cell_type": "markdown",
      "source": [
        "## **L6 - Example 15 - Creating a Random List of 3 Numbers. All Numbers are between 1 and 10**"
      ],
      "metadata": {
        "id": "ezLso3Kpp_2v"
      }
    },
    {
      "cell_type": "code",
      "source": [
        "#Example 15\n",
        "import random\n",
        "randomlist = []\n",
        "for i in range(0,3):\n",
        "  n = random.randint(1,10)\n",
        "  randomlist.append(n)\n",
        "print(randomlist)"
      ],
      "metadata": {
        "id": "MLB4wr8kqDXr",
        "colab": {
          "base_uri": "https://localhost:8080/"
        },
        "outputId": "eafa8cc5-bcd0-46e8-c366-6580ff7435a0"
      },
      "execution_count": null,
      "outputs": [
        {
          "output_type": "stream",
          "name": "stdout",
          "text": [
            "[6, 3, 2]\n"
          ]
        }
      ]
    },
    {
      "cell_type": "markdown",
      "metadata": {
        "id": "sL8KhVmxuO_8"
      },
      "source": [
        "## **L6 - Question 15 - Create a Random List of 5 Lottery Numbers**\n",
        "Write a Function to Create a Random List of 5 Lottery Numbers. All of the numbers should be between 1 and 100."
      ]
    },
    {
      "cell_type": "code",
      "metadata": {
        "id": "rEUsnOR6YaeG"
      },
      "source": [
        "# Put Code Here"
      ],
      "execution_count": null,
      "outputs": []
    }
  ]
}