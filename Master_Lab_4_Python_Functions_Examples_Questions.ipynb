{
  "cells": [
    {
      "cell_type": "markdown",
      "metadata": {
        "id": "view-in-github",
        "colab_type": "text"
      },
      "source": [
        "<a href=\"https://colab.research.google.com/github/lnandi1/Python_Tutorials_2022/blob/main/Master_Lab_4_Python_Functions_Examples_Questions.ipynb\" target=\"_parent\"><img src=\"https://colab.research.google.com/assets/colab-badge.svg\" alt=\"Open In Colab\"/></a>"
      ]
    },
    {
      "cell_type": "markdown",
      "metadata": {
        "id": "c9z7rbKWTQk9"
      },
      "source": [
        "*Please note that the Notebook was created by CLNandi(Dr) and cannot be replicated or used without the written permission of the author*"
      ]
    },
    {
      "cell_type": "markdown",
      "source": [
        "### **Computer Lab 4 Introduction - Functions**\n",
        "(1) We will looked at worked examples of FUNCTIONS in Python.\n",
        "<br><br>There are also some programs for you to write regarding FUNCTIONS.\n",
        "<br><br>FUNCTIONS are one of the fundamental building blocks of programming and it is important you get to grips with the concept of FUNCTIONS.\n",
        "<br><br>(2)Click below for a Video providing an explanation to Functions\n",
        "\n",
        "https://youtu.be/kv88dyIDNiE\n",
        "\n",
        "\n",
        "\n",
        "<br>(3) There are Examples and Questions in this Notebook.\n",
        "\n",
        "(4) First of all Run the Program related to each Example. Then Study the Program and the Output.\n",
        "\n",
        "(5)Then answer the associated question."
      ],
      "metadata": {
        "id": "mP64rYEDlDVR"
      }
    },
    {
      "cell_type": "markdown",
      "metadata": {
        "id": "Cj033Mzik9OU"
      },
      "source": [
        "## **L4 - Example 1 - A Function with No parameters**"
      ]
    },
    {
      "cell_type": "code",
      "execution_count": null,
      "metadata": {
        "colab": {
          "base_uri": "https://localhost:8080/"
        },
        "id": "PxqOhfMmTNTo",
        "outputId": "dd4c9489-66aa-4e80-bc5d-3c79a37bd245"
      },
      "outputs": [
        {
          "output_type": "stream",
          "name": "stdout",
          "text": [
            "22\n"
          ]
        }
      ],
      "source": [
        "# Example 1\n",
        "def Addition1():\n",
        "  Apples = 10\n",
        "  Bananas = 12\n",
        "  Total = Apples + Bananas\n",
        "  print(Total)\n",
        "\n",
        "# Calling Addition1\n",
        "Addition1()"
      ]
    },
    {
      "cell_type": "markdown",
      "metadata": {
        "id": "R9YT2eCdcFdu"
      },
      "source": [
        "## **L4 - Question 1 - Typing and Running Your First Function**"
      ]
    },
    {
      "cell_type": "code",
      "source": [
        "#Insert Code"
      ],
      "metadata": {
        "id": "S68nP_wpsVNv"
      },
      "execution_count": null,
      "outputs": []
    },
    {
      "cell_type": "markdown",
      "metadata": {
        "id": "RsO-tvXkcugx"
      },
      "source": [
        "## **L4 - Example 2A - A Function with 2 Input Parameters**\n",
        "<br>Note the following:-\n",
        "<br>(i) The function is called Addition2\n",
        "<br>(ii) The function has 2 parameters a & b\n",
        "<br>(iii) The function is called by the statement 'Addition2(100,200)'\n",
        "<br>(iv) a becomes equal to 100 & b becomes equal to 200\n",
        "<br>(v) Note that data is only being fed into the function.\n"
      ]
    },
    {
      "cell_type": "code",
      "execution_count": null,
      "metadata": {
        "colab": {
          "base_uri": "https://localhost:8080/"
        },
        "id": "RHTCVMCPHRto",
        "outputId": "dd0568ca-7b25-4b43-8998-0b161ccd9fb2"
      },
      "outputs": [
        {
          "name": "stdout",
          "output_type": "stream",
          "text": [
            "300\n"
          ]
        }
      ],
      "source": [
        "# Example 2A\n",
        "def Addition2(a,b):\n",
        "  Total = a + b\n",
        "  print(Total)\n",
        "\n",
        "# Calling Program 2\n",
        "Addition2(100,200)"
      ]
    },
    {
      "cell_type": "markdown",
      "source": [
        "## **L4 - Example 2B - A Function with both Input Parameters and which also Returns a Value**\n",
        "<br>Note the following:-\n",
        "<br>(i) The function is called Addition3\n",
        "<br>(ii) The function has 2 parameters a & b\n",
        "<br>(iii) The function is called by the statement 'Addition3(200,300)'\n",
        "<br>(iv) a becomes equal to 200 & b becomes equal to 300\n",
        "<br>(v) Note that data is being both fed into the function and returned from the function.\n"
      ],
      "metadata": {
        "id": "GUmiu7cHhYvc"
      }
    },
    {
      "cell_type": "code",
      "execution_count": null,
      "metadata": {
        "id": "CcCHMnLqIs38",
        "outputId": "2c9374c6-3b6b-4d6d-846c-c84412211787",
        "colab": {
          "base_uri": "https://localhost:8080/"
        }
      },
      "outputs": [
        {
          "output_type": "stream",
          "name": "stdout",
          "text": [
            "500\n"
          ]
        }
      ],
      "source": [
        "# Example 2B\n",
        "def Addition3(a,b):\n",
        "  Total = a+b\n",
        "  return(Total)\n",
        "\n",
        "# Calling Program 3\n",
        "Sum = Addition3(200,300)\n",
        "print(Sum)"
      ]
    },
    {
      "cell_type": "markdown",
      "metadata": {
        "id": "lWQpUwxMu38O"
      },
      "source": [
        "## **L4 - Question 2A - A Function which Returns the Product of Two Parameters**\n",
        "<br>*Write a Function called Multiplication1 which returns the product of 2 parameters.*"
      ]
    },
    {
      "cell_type": "code",
      "execution_count": null,
      "metadata": {
        "id": "kpCLauKFvGdy"
      },
      "outputs": [],
      "source": [
        "# Write your Function here\n"
      ]
    },
    {
      "cell_type": "markdown",
      "metadata": {
        "id": "kfqHbi2fvLWS"
      },
      "source": [
        "## **L4 - Question 2B -  A Function which Returns the Product of Three Parameters**\n",
        "<br>*Write a Function called Multiplication2 which returns the product of 3 parameters*"
      ]
    },
    {
      "cell_type": "code",
      "execution_count": null,
      "metadata": {
        "id": "0FGOnV2wvT2X"
      },
      "outputs": [],
      "source": [
        "# Write your Function here"
      ]
    },
    {
      "cell_type": "markdown",
      "metadata": {
        "id": "MvUHGvw1lhNc"
      },
      "source": [
        "## **L4 - Example 3 - A Function Calculating the Area of a Rectangle and Returning the Value**\n"
      ]
    },
    {
      "cell_type": "code",
      "execution_count": null,
      "metadata": {
        "id": "DItzfLQ7Og8T",
        "colab": {
          "base_uri": "https://localhost:8080/"
        },
        "outputId": "b6e4e388-15ce-49cd-925a-ede3da22b629"
      },
      "outputs": [
        {
          "output_type": "stream",
          "name": "stdout",
          "text": [
            "Calculating the Area of a Rectangle\n",
            "10\n"
          ]
        }
      ],
      "source": [
        "# Example 3 - Calculate Area of a Rectangle\n",
        "def Area_Rectangle(length,width):\n",
        "  print(\"Calculating the Area of a Rectangle\")\n",
        "  Area = length*width\n",
        "  return(Area)\n",
        "\n",
        "Result = Area_Rectangle(2,5)\n",
        "print(Result)"
      ]
    },
    {
      "cell_type": "markdown",
      "source": [
        "## **L4 - Question 3 - A Function Calculating the Area of a Square and Returning the Value**\n",
        "\n",
        "Write a Function which calculates the area of a square and returns the value"
      ],
      "metadata": {
        "id": "AfDe_TcdkcIu"
      }
    },
    {
      "cell_type": "code",
      "execution_count": null,
      "metadata": {
        "id": "DbV_tQpzv2Y2"
      },
      "outputs": [],
      "source": [
        "#Insert Code Here"
      ]
    },
    {
      "cell_type": "markdown",
      "source": [
        "## **L4 - Example 4 - A Function Calculating the Circumference of a Circle and Returning the Value**"
      ],
      "metadata": {
        "id": "ieL_HYo4ltJ8"
      }
    },
    {
      "cell_type": "code",
      "source": [
        "# Example 4\n",
        "def Circumference_Circle(Radius):\n",
        "  print(\"This Program calculates the Circumference of a Circle with a Given Radius\")\n",
        "  PI = 3.142\n",
        "  Result = 2*PI*Radius\n",
        "  return(Result)\n",
        "\n",
        "# Calling the Function\n",
        "Total = Circumference_Circle(10)\n",
        "print(Total)\n"
      ],
      "metadata": {
        "colab": {
          "base_uri": "https://localhost:8080/"
        },
        "id": "xJOD2UvwmpVM",
        "outputId": "43774027-34b2-468d-a008-7d766e3bc067"
      },
      "execution_count": null,
      "outputs": [
        {
          "output_type": "stream",
          "name": "stdout",
          "text": [
            "This Program calculates the Perimeter of a Circle with a Given Radius\n",
            "62.839999999999996\n"
          ]
        }
      ]
    },
    {
      "cell_type": "markdown",
      "metadata": {
        "id": "wZBocowPxpsC"
      },
      "source": [
        "## **L4 - Question 4 - A Function Calculating the Area of a Circle and Returning the Value**\n",
        "<br>Write a Function which returns the Area of a Circle with a given radius\n",
        "<br>Formula: Area = PI$*$(Radius$**2$) where PI = 3.142\n",
        "<br>Radius**2 means Radius Squared"
      ]
    },
    {
      "cell_type": "code",
      "source": [
        "#Insert Code"
      ],
      "metadata": {
        "id": "wkWdOlFJpIVR"
      },
      "execution_count": null,
      "outputs": []
    },
    {
      "cell_type": "markdown",
      "source": [
        "## **L4 - Example 5 - Using the math module to obtain the value of PI**\n",
        "<br>Please note:-\n",
        "<br>(i) We are importing a library called math\n",
        "<br>(ii) Then math provides us with the value of PI to 15 decimal places"
      ],
      "metadata": {
        "id": "iqhB_oKGqHvt"
      }
    },
    {
      "cell_type": "code",
      "source": [
        "#Example 5\n",
        "print(\"We are importing the library math and from there we are obtaining the value of PI\")\n",
        "import math\n",
        "print(\"\\nThe value of PI to 15 decimal places \")\n",
        "print(math.pi)\n",
        "print(\"\\nThe value of PI  to 2 decimal places\")\n",
        "print(round(math.pi,2))\n",
        "print(\"\\nThe value of PI to 3 decimal places\")\n",
        "print(round(math.pi,3))\n",
        "print(\"\\nThe value of PI to 4 decimal places\")\n",
        "print(round(math.pi,4))\n",
        "\n"
      ],
      "metadata": {
        "colab": {
          "base_uri": "https://localhost:8080/"
        },
        "id": "baBaH1Pp6VsE",
        "outputId": "60333385-078e-4acf-8656-6196ca879ce0"
      },
      "execution_count": null,
      "outputs": [
        {
          "output_type": "stream",
          "name": "stdout",
          "text": [
            "We are importing the library math and from there we are obtaining the value of PI\n",
            "\n",
            "The value of PI to 15 decimal places \n",
            "3.141592653589793\n",
            "\n",
            "The value of PI  to 2 decimal places\n",
            "3.14\n",
            "\n",
            "The value of PI to 3 decimal places\n",
            "3.142\n",
            "\n",
            "The value of PI to 4 decimal places\n",
            "3.1416\n"
          ]
        }
      ]
    },
    {
      "cell_type": "markdown",
      "source": [
        "## **L4 - Question 5 - Calculating the area of a circle and returning the value using the math module**\n",
        "<br>Write a Function which returns the Area of a Circle with a given radius using the math module/library\n",
        "<br><br>Formula: Area = PI$*$(Radius$**2$)  \n",
        "<br>Radius**2 means Radius Squared"
      ],
      "metadata": {
        "id": "iMs5R9-fspOz"
      }
    },
    {
      "cell_type": "code",
      "source": [
        "#Insert Code"
      ],
      "metadata": {
        "id": "bF8lTUeBtj1g"
      },
      "execution_count": null,
      "outputs": []
    },
    {
      "cell_type": "markdown",
      "source": [
        "## **L4 - Example 6 - Showing how the Square Root of a Number is Obtained**"
      ],
      "metadata": {
        "id": "54m0mehquNGd"
      }
    },
    {
      "cell_type": "code",
      "source": [
        "# Example 6\n",
        "print(\"Calculating the Square root of a number - note any number to the power 0.5 gives the square root of the number\")\n",
        "X = 9\n",
        "print(\"The Square root of \", X, \" is \",X**0.5)"
      ],
      "metadata": {
        "colab": {
          "base_uri": "https://localhost:8080/"
        },
        "id": "DRHMVG_HxiLy",
        "outputId": "a371a34a-999c-484f-cc26-acd7f9360207"
      },
      "execution_count": null,
      "outputs": [
        {
          "output_type": "stream",
          "name": "stdout",
          "text": [
            "Calculating the Square root of a number - note any number to the power 0.5 gives the square root of the number\n",
            "The Square root of  9  is  3.0\n"
          ]
        }
      ]
    },
    {
      "cell_type": "markdown",
      "source": [
        "## **L4 - Question 6 - Function to return Square Root of any number**\n",
        "Write a Function which returns the Square root of any given function"
      ],
      "metadata": {
        "id": "X7DVJRumyX6l"
      }
    },
    {
      "cell_type": "code",
      "source": [
        "#Insert Code"
      ],
      "metadata": {
        "id": "-3nnUNNVRCj8"
      },
      "execution_count": null,
      "outputs": []
    },
    {
      "cell_type": "markdown",
      "source": [
        "## **L4 - Example 7 - Using the math module to obtain the square root of a number**"
      ],
      "metadata": {
        "id": "doP-oCSxuPCm"
      }
    },
    {
      "cell_type": "code",
      "source": [
        "# Example 7\n",
        "import math\n",
        "print(\"Using the math module to output the square root of a number\")\n",
        "X = 9\n",
        "print(math.sqrt(X))"
      ],
      "metadata": {
        "colab": {
          "base_uri": "https://localhost:8080/"
        },
        "id": "xVtymhegy-X8",
        "outputId": "d994abd3-1e25-4624-e19a-edab36840ed8"
      },
      "execution_count": null,
      "outputs": [
        {
          "output_type": "stream",
          "name": "stdout",
          "text": [
            "Using the math module to output the square root of a number\n",
            "3.0\n"
          ]
        }
      ]
    },
    {
      "cell_type": "markdown",
      "source": [
        "## **L4 - Question 7 - Function Using the math module to obtain the square root of a number**\n",
        "Write a Function which returns the Square root of any given function using the math module"
      ],
      "metadata": {
        "id": "vYl6dMFWCh_6"
      }
    },
    {
      "cell_type": "code",
      "source": [
        "# Insert Code"
      ],
      "metadata": {
        "id": "dHJJ7F2RCmEM"
      },
      "execution_count": null,
      "outputs": []
    },
    {
      "cell_type": "markdown",
      "source": [
        "## **L4 - Example 8 - Using Math Module for Square of a Number**"
      ],
      "metadata": {
        "id": "Xvr_K__luRDa"
      }
    },
    {
      "cell_type": "code",
      "source": [
        "# Example 8\n",
        "import math\n",
        "print(\"Using the math module to output the square of a number\")\n",
        "X = 10\n",
        "print(math.pow(X,2))"
      ],
      "metadata": {
        "colab": {
          "base_uri": "https://localhost:8080/"
        },
        "id": "DFa93uVi0iwk",
        "outputId": "92130333-68f6-4878-8481-e9d31be699a8"
      },
      "execution_count": null,
      "outputs": [
        {
          "output_type": "stream",
          "name": "stdout",
          "text": [
            "Using the math module to output the square of a number\n",
            "100.0\n"
          ]
        }
      ]
    },
    {
      "cell_type": "markdown",
      "source": [
        "## **L4 - Question 8 - Function Using Math Module for Square of a Number**\n",
        "Write a program which returns the square of any given number using the math module."
      ],
      "metadata": {
        "id": "gp9hGPD4DaSj"
      }
    },
    {
      "cell_type": "code",
      "source": [
        "# Insert Code Here"
      ],
      "metadata": {
        "id": "aVCZLa0dDs5Z"
      },
      "execution_count": null,
      "outputs": []
    },
    {
      "cell_type": "markdown",
      "source": [
        "## **L4 - Example 9 - A Currency Conversion Program using Several Functions**\n",
        "\n",
        "<br><br>You will probably need to ask your teacher about how the program is working\n",
        "<br><br> Please note:-\n",
        "<br> This Program has several functions\n",
        "<br> The main function is called first."
      ],
      "metadata": {
        "id": "vI2eRY75vQNR"
      }
    },
    {
      "cell_type": "markdown",
      "metadata": {
        "id": "qBMoBvTAlpn-"
      },
      "source": []
    },
    {
      "cell_type": "code",
      "execution_count": null,
      "metadata": {
        "id": "P5b5pS8QOtHw"
      },
      "outputs": [],
      "source": [
        "# Example 9 - Currency Conversion\n",
        "def Pound_Dollar():\n",
        "  Pound = int(input(\"Enter Pounds \"))\n",
        "  Dollar = Pound * 1.38\n",
        "  print(Dollar)\n",
        "\n",
        "def Dollar_Pound():\n",
        "  Dollar = int(input(\"Enter Dollars \"))\n",
        "  Pound = Dollar * 0.73\n",
        "  print(Pound)\n",
        "\n",
        "\n",
        "def Pound_Yen():\n",
        "  Pound = int(input(\"Enter Pounds \"))\n",
        "  Yen = Pound * 153.61\n",
        "  print(Yen)\n",
        "\n",
        "def Yen_Pound():\n",
        "  Yen = int(input(\"Enter Yen \"))\n",
        "  Pound = Yen* 161.95\n",
        "  print(Pound)\n",
        "\n",
        "\n",
        "def main():\n",
        "  print(\"Enter 1 if you would like to convert Pounds to Dollars \")\n",
        "  print(\"Enter 2 if you would like to convert Dollars to Pounds \")\n",
        "  print(\"Enter 3 if you would like to convert Pounds to Yen \")\n",
        "  print(\"Enter 4 if you would like to convert Yen to Pounds\")\n",
        "  Answer = input(\"Enter Number \")\n",
        "  if Answer == \"1\":\n",
        "    Pound_Dollar()\n",
        "  elif Answer == \"2\":\n",
        "    Dollar_Pound()\n",
        "  elif Answer == \"3\":\n",
        "    Pound_Yen()\n",
        "  elif Answer == \"4\":\n",
        "    Yen_Pound()\n",
        "  else:\n",
        "    print(\"Invalid Answer\")\n",
        "\n",
        "\n",
        "\n",
        "\n"
      ]
    },
    {
      "cell_type": "code",
      "execution_count": null,
      "metadata": {
        "colab": {
          "base_uri": "https://localhost:8080/"
        },
        "id": "NxZcql9vz6jd",
        "outputId": "13931042-1017-477e-9d1f-aa1a0a417b99"
      },
      "outputs": [
        {
          "output_type": "stream",
          "name": "stdout",
          "text": [
            "Enter 1 if you would like to convert Pounds to Dollars \n",
            "Enter 2 if you would like to convert Dollars to Pounds \n",
            "Enter 3 if you would like to convert Pounds to Yen \n",
            "Enter 4 if you would like to convert Yen to Pounds\n",
            "Enter Number 4\n",
            "Enter Yen 3\n",
            "485.84999999999997\n"
          ]
        }
      ],
      "source": [
        "main()"
      ]
    },
    {
      "cell_type": "markdown",
      "metadata": {
        "id": "J9boVejo2XV4"
      },
      "source": [
        "## **L4 - Question 9- Now answer the following question**\n",
        "<br>Copy and Paste this Program into the cell below and insert a couple of other currency conversions of your choice"
      ]
    },
    {
      "cell_type": "code",
      "execution_count": null,
      "metadata": {
        "id": "D-zfb9VDQXDS"
      },
      "outputs": [],
      "source": [
        "#Insert Code"
      ]
    },
    {
      "cell_type": "markdown",
      "source": [
        "## **L4 - Example 10 - There is no Example 10**"
      ],
      "metadata": {
        "id": "3MRAB2_5B6XE"
      }
    },
    {
      "cell_type": "markdown",
      "source": [
        "## **L4 - Question 10 - Recap and YouTube Video on Functions**\n",
        "\n",
        "Now go over all of the examples, questions and answers & watch the video on functions\n",
        "https://youtu.be/kv88dyIDNiE"
      ],
      "metadata": {
        "id": "_s_8neUDwLqC"
      }
    }
  ],
  "metadata": {
    "colab": {
      "provenance": [],
      "include_colab_link": true
    },
    "kernelspec": {
      "display_name": "Python 3",
      "name": "python3"
    },
    "language_info": {
      "name": "python"
    }
  },
  "nbformat": 4,
  "nbformat_minor": 0
}