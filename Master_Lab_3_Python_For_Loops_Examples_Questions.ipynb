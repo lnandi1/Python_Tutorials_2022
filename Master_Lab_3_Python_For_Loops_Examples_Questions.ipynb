{
  "nbformat": 4,
  "nbformat_minor": 0,
  "metadata": {
    "colab": {
      "provenance": [],
      "include_colab_link": true
    },
    "kernelspec": {
      "name": "python3",
      "display_name": "Python 3"
    },
    "language_info": {
      "name": "python"
    }
  },
  "cells": [
    {
      "cell_type": "markdown",
      "metadata": {
        "id": "view-in-github",
        "colab_type": "text"
      },
      "source": [
        "<a href=\"https://colab.research.google.com/github/lnandi1/Python_Tutorials_2022/blob/main/Master_Lab_3_Python_For_Loops_Examples_Questions.ipynb\" target=\"_parent\"><img src=\"https://colab.research.google.com/assets/colab-badge.svg\" alt=\"Open In Colab\"/></a>"
      ]
    },
    {
      "cell_type": "markdown",
      "source": [
        "*Please note that this notebook has been created by CLNandi(Dr) and cannot be used or replicated without the written permission of the author*"
      ],
      "metadata": {
        "id": "oVLpqImai6lr"
      }
    },
    {
      "cell_type": "markdown",
      "source": [
        "### **Computer Lab 3 - Introduction - Python Programs - FOR loops - Examples and Questions**\n",
        "**(1) We will study and write programs involving the FOR loop.\n",
        "<br> Please note the following about the FOR loop:-**\n",
        "\n",
        "\n",
        "1.   The FOR loop is a form of ITERATION\n",
        "2.   ITERATION means REPETITION or LOOPING.\n",
        "3.  The FOR loop demonstrates DEFINITE ITERATION.\n",
        "4.   Just for the sake of completeness - there are what is known as 3 Fundamental Programming constructs:-\n",
        " (i) ITERATION\n",
        " (ii) SELECTION\n",
        " (iii) SEQUENCE\n",
        "5.   The FOR loop is known as a COUNT-CONTROLLED loop.\n",
        "6.   We will look at the FOR loop in its primary form.\n",
        "7.   We will also look at the NESTED FOR loop.\n",
        "<br><br>(2) Here is a YouTube related to FOR statements in Python\n",
        "https://youtu.be/bgiPG6bp7bY\n",
        "<br><br>(3) There are Examples and Questions in this Notebook.\n",
        "\n",
        "(4) First of all Run the Program related to each Example. Then Study the Program and the Output.\n",
        "\n",
        "(5)Then answer the associated question."
      ],
      "metadata": {
        "id": "qXxAX6CTi9jb"
      }
    },
    {
      "cell_type": "markdown",
      "metadata": {
        "id": "HDPUKMFuUdLM"
      },
      "source": [
        "## **L3 - Example 1 - Outputting Consecutive Numbers 0-4 using a FOR loop with 1 argument**"
      ]
    },
    {
      "cell_type": "code",
      "metadata": {
        "colab": {
          "base_uri": "https://localhost:8080/"
        },
        "id": "dKAarstzUeGf",
        "outputId": "a4415b20-2071-4886-d262-88e9d7440ffc"
      },
      "source": [
        "# Example 1 - The FOR loop is an example of ITERATION or REPETITION\n",
        "# Python is a Zero-based Language\n",
        "print(\"This Program Outputs Consecutive Numbers 0 to 4\")\n",
        "for j in range(5):\n",
        "  print(j)"
      ],
      "execution_count": null,
      "outputs": [
        {
          "output_type": "stream",
          "name": "stdout",
          "text": [
            "This Program Outputs Consecutive Numbers 0 to 4\n",
            "0\n",
            "1\n",
            "2\n",
            "3\n",
            "4\n"
          ]
        }
      ]
    },
    {
      "cell_type": "markdown",
      "source": [
        "## **L3 - Question 1 - Typing and Running the 1st FOR loop Program**"
      ],
      "metadata": {
        "id": "0F8IVYucxMg6"
      }
    },
    {
      "cell_type": "code",
      "source": [
        "#Insert Code Here"
      ],
      "metadata": {
        "id": "GtmYyxV2xTOE"
      },
      "execution_count": null,
      "outputs": []
    },
    {
      "cell_type": "markdown",
      "source": [
        "## **L3 - Example 2 - Another FOR loop with 1 argument**"
      ],
      "metadata": {
        "id": "mhD0LlSrxlfs"
      }
    },
    {
      "cell_type": "code",
      "metadata": {
        "colab": {
          "base_uri": "https://localhost:8080/"
        },
        "id": "JqN9fJHVKc2z",
        "outputId": "eda10b84-faa6-41da-e63f-a4ecf967f032"
      },
      "source": [
        "# Example 2\n",
        "print(\"This Program outputs Consecutive Numbers 0 to 2\")\n",
        "for j in range(3):\n",
        "  print(j)"
      ],
      "execution_count": null,
      "outputs": [
        {
          "output_type": "stream",
          "name": "stdout",
          "text": [
            "This Program outputs Consecutive Numbers 0 to 2\n",
            "0\n",
            "1\n",
            "2\n"
          ]
        }
      ]
    },
    {
      "cell_type": "markdown",
      "metadata": {
        "id": "AkBE7o-eneeo"
      },
      "source": [
        "## **L3 - Question 2 - Generating numbers 0-10 with a FOR loop**\n",
        "Write a Program which outputs the numbers 0 to 10"
      ]
    },
    {
      "cell_type": "code",
      "metadata": {
        "id": "DM7gY_h3nvpS"
      },
      "source": [
        "# Write your Program Here"
      ],
      "execution_count": null,
      "outputs": []
    },
    {
      "cell_type": "markdown",
      "metadata": {
        "id": "S9mRGgQ3KKms"
      },
      "source": [
        "## **L3 - Example 3A - A FOR loop with 1 arguments outputting consecutive numbers 1-5**\n",
        "Now Study the Programs below and ensure you understand how they are working\n",
        "<br><br> What do you notice about the difference in the structure of this FOR loop with that in the previous example?"
      ]
    },
    {
      "cell_type": "code",
      "metadata": {
        "colab": {
          "base_uri": "https://localhost:8080/"
        },
        "id": "2-2JVzv-Kiy4",
        "outputId": "252564df-9bea-44af-a972-ffe82a514d17"
      },
      "source": [
        "# Example 3A\n",
        "print(\"This Program outputs Consecutive Numbers 1 to 5\")\n",
        "for j in range(1,6):\n",
        "  print(j)"
      ],
      "execution_count": null,
      "outputs": [
        {
          "output_type": "stream",
          "name": "stdout",
          "text": [
            "This Program outputs Consecutive Numbers 1 to 5\n",
            "1\n",
            "2\n",
            "3\n",
            "4\n",
            "5\n"
          ]
        }
      ]
    },
    {
      "cell_type": "markdown",
      "source": [
        "## **L3 - Example 3B - Another FOR loop with 2 arguments outputting numbers 1 to 3**"
      ],
      "metadata": {
        "id": "PChw-TSZyWtd"
      }
    },
    {
      "cell_type": "code",
      "metadata": {
        "colab": {
          "base_uri": "https://localhost:8080/"
        },
        "id": "jGitIJSBKnNL",
        "outputId": "1781ee32-7ca2-4d40-b679-5cf1bdd9a2e6"
      },
      "source": [
        "# Example 3B\n",
        "print(\"This Program outputs Consecutive Numbers 1 to 3\")\n",
        "for j in range(1,4):\n",
        "  print(j)"
      ],
      "execution_count": null,
      "outputs": [
        {
          "output_type": "stream",
          "name": "stdout",
          "text": [
            "This Program outputs Consecutive Numbers 1 to 3\n",
            "1\n",
            "2\n",
            "3\n"
          ]
        }
      ]
    },
    {
      "cell_type": "markdown",
      "metadata": {
        "id": "BSmShHP1n1e7"
      },
      "source": [
        "## **L3 - Question 3 - Question to Output Numbers 2-6 using a FOR loop**\n",
        "Write a Program which outputs the numbers 2-6 (that is 2,3,4,5,6)"
      ]
    },
    {
      "cell_type": "code",
      "metadata": {
        "id": "VjwhxoBKn587"
      },
      "source": [
        "# Write your program here"
      ],
      "execution_count": null,
      "outputs": []
    },
    {
      "cell_type": "markdown",
      "metadata": {
        "id": "bmnm9x8_KY5G"
      },
      "source": [
        "## **L3 - Example 4 - A FOR loop with 3 arguments generating odd numbers**\n",
        "\n",
        "(i) What do you notice about the difference in structure in this FOR loop as compared to the previous example?"
      ]
    },
    {
      "cell_type": "code",
      "metadata": {
        "colab": {
          "base_uri": "https://localhost:8080/"
        },
        "id": "Z19OUxN3Ktdn",
        "outputId": "7426c573-beb4-4da1-e3ed-4f9d49fd964e"
      },
      "source": [
        "# Example 4\n",
        "print(\"This Program outputs the 1st 5 odd numbers\")\n",
        "for j in range(1,10,2):\n",
        "  print(j)"
      ],
      "execution_count": null,
      "outputs": [
        {
          "output_type": "stream",
          "name": "stdout",
          "text": [
            "This Program outputs the 1st 5 odd numbers\n",
            "1\n",
            "3\n",
            "5\n",
            "7\n",
            "9\n"
          ]
        }
      ]
    },
    {
      "cell_type": "markdown",
      "metadata": {
        "id": "tdNkIiT3Km6x"
      },
      "source": [
        "## **L3 - Question 4 - Using a FOR loop to generate even numbers**\n",
        "Write a program which outputs the 1st five even numbers"
      ]
    },
    {
      "cell_type": "code",
      "source": [
        "#Insert Code Here"
      ],
      "metadata": {
        "id": "SKL5_xbh_ZKE"
      },
      "execution_count": null,
      "outputs": []
    },
    {
      "cell_type": "markdown",
      "metadata": {
        "id": "vsJ1VW_cK0XE"
      },
      "source": [
        "## **L3 - Example 5 - Using a FOR loop to generate a Multiplication Table**\n",
        "\n",
        "This Program is about Multiplication Tables"
      ]
    },
    {
      "cell_type": "code",
      "metadata": {
        "colab": {
          "base_uri": "https://localhost:8080/"
        },
        "id": "0nzjZxMXK41u",
        "outputId": "3cafa26e-2772-4a94-920f-82fb8b4897ee"
      },
      "source": [
        "# Example 5\n",
        "print(\"This Program relates to Multiplication Tables\")\n",
        "for j in range(1,6):\n",
        "  Product = j * 10\n",
        "  print(j, \"* 10 = \",Product)"
      ],
      "execution_count": null,
      "outputs": [
        {
          "output_type": "stream",
          "name": "stdout",
          "text": [
            "This Program relates to Multiplication Tables\n",
            "1 * 10 =  10\n",
            "2 * 10 =  20\n",
            "3 * 10 =  30\n",
            "4 * 10 =  40\n",
            "5 * 10 =  50\n"
          ]
        }
      ]
    },
    {
      "cell_type": "markdown",
      "metadata": {
        "id": "dzI5SOhJn_Ed"
      },
      "source": [
        "## **L3 - Question 5 - Generating the 13 times table using a FOR loop**\n",
        "Write a Program which outputs the 13 times table"
      ]
    },
    {
      "cell_type": "code",
      "metadata": {
        "id": "5VKUwpqtoNag"
      },
      "source": [
        "# Insert Code Here"
      ],
      "execution_count": null,
      "outputs": []
    },
    {
      "cell_type": "markdown",
      "source": [
        "## **L3 - Example 6 - Generating 1st 4 Square Numbers using a FOR loop**"
      ],
      "metadata": {
        "id": "jh61see-WTdV"
      }
    },
    {
      "cell_type": "code",
      "source": [
        "# Example 6\n",
        "print(\"This Program relates to Square Numbers\")\n",
        "for j in range(1,5):\n",
        "  Square = j**2\n",
        "  print(j, \"**2 = \",Square)"
      ],
      "metadata": {
        "colab": {
          "base_uri": "https://localhost:8080/"
        },
        "id": "q4djCmyWW-Vd",
        "outputId": "399e29c8-f792-4ab8-cc71-e1c83e7fccac"
      },
      "execution_count": null,
      "outputs": [
        {
          "output_type": "stream",
          "name": "stdout",
          "text": [
            "This Program relates to Square Numbers\n",
            "1 **2 =  1\n",
            "2 **2 =  4\n",
            "3 **2 =  9\n",
            "4 **2 =  16\n"
          ]
        }
      ]
    },
    {
      "cell_type": "markdown",
      "metadata": {
        "id": "hsKLNZhuoQ7w"
      },
      "source": [
        "## **L3 - Question 6 - Generating 1st 5 cubed numbers using a FOR loop**\n",
        "Write a Program which outputs the first 5 cubed numbers (i.e 1,8,27,64,125)"
      ]
    },
    {
      "cell_type": "code",
      "metadata": {
        "id": "S0MyYrIko0XT"
      },
      "source": [
        "# Write your program here"
      ],
      "execution_count": null,
      "outputs": []
    },
    {
      "cell_type": "markdown",
      "source": [
        "## **L3 - Example 7 - Summing 1+2+3+4+5+6+7+8+9+10 using a FOR loop**\n",
        "<br>This Program which outputs the sum of the numbers 1 to 10 i.e 1+2+3+4+5+6+7+8+9+10\n",
        "<br><br>Please make sure you understand how it works. To understand how it works, you will most definitely need to trace it & you will probably need to ask your teacher for a detailed explanation about this."
      ],
      "metadata": {
        "id": "U-cHMFlfZvWe"
      }
    },
    {
      "cell_type": "code",
      "metadata": {
        "colab": {
          "base_uri": "https://localhost:8080/"
        },
        "id": "jRSzbDwnMwbT",
        "outputId": "ce3e2ed8-30af-4549-b826-6c86fa4a19c3"
      },
      "source": [
        "#Example 7 - Summing Numbers 1 to 10\n",
        "print(\"This Program outputs the sum of 1+2+3+4+5+6+7+8+9+10\")\n",
        "sum = 0\n",
        "for j in range(1,11):\n",
        "  sum = sum + j\n",
        "\n",
        "print(sum)"
      ],
      "execution_count": null,
      "outputs": [
        {
          "output_type": "stream",
          "name": "stdout",
          "text": [
            "This Program outputs the sum of 1+2+3+4+5+6+7+8+9+10\n",
            "55\n"
          ]
        }
      ]
    },
    {
      "cell_type": "markdown",
      "metadata": {
        "id": "aFtMK6w4pUyT"
      },
      "source": [
        "## **L3 - Question 7 - Sum the numbers 1 to a Million (1000,000) using a FOR loop**\n",
        "\n",
        "<br>Write a Program which sums the numbers 1 to a Million (1000,000)\n",
        "<br><br>i.e 1+2+3+4+5+6+7+8+...+1000,000"
      ]
    },
    {
      "cell_type": "code",
      "metadata": {
        "id": "H4MJLSbUpawX"
      },
      "source": [
        "# Write your Program here"
      ],
      "execution_count": null,
      "outputs": []
    },
    {
      "cell_type": "markdown",
      "metadata": {
        "id": "PcWNG3qZL3o5"
      },
      "source": [
        "## **L3 - Example 8 - Calculating the Average of a group of numbers using a FOR loop**\n",
        "\n",
        "<br>Below is a Programs which calculates and outputs the average of a group of numbers\n",
        "<br><br>Please ensure you understand how the program is working\n",
        "<br><br>To understand them, you will most probably need to ask your teacher."
      ]
    },
    {
      "cell_type": "code",
      "metadata": {
        "colab": {
          "base_uri": "https://localhost:8080/"
        },
        "id": "dn3-rYqPRr25",
        "outputId": "ab5a5b89-87a9-4ed0-dd38-86e7f1b35bd2"
      },
      "source": [
        "# Example 8 - Calculating Sum and Average of Numbers\n",
        "print(\"This is a Program which calculates and outputs the average of 3 integers entered by the user\")\n",
        "sum = 0  # Here we are initializing the variable sum to zero.\n",
        "for j in range(1,4):\n",
        "  Number = int(input(\"Enter a number \"))\n",
        "  sum = sum + Number\n",
        "Average = sum/3\n",
        "print(round(Average,2))"
      ],
      "execution_count": null,
      "outputs": [
        {
          "output_type": "stream",
          "name": "stdout",
          "text": [
            "This is a Program which calculates and outputs the average of 3 integers entered by the user\n",
            "Enter a number 1\n",
            "Enter a number 2\n",
            "Enter a number 3\n",
            "2.0\n"
          ]
        }
      ]
    },
    {
      "cell_type": "markdown",
      "source": [
        "## **L3 - Question 8 - Question on calculating average of numbers using FOR loop**\n",
        "Write a Program which asks the user for 4 numbers and calculates and outputs the average of these 4 numbers"
      ],
      "metadata": {
        "id": "D1L0lIlqg_wy"
      }
    },
    {
      "cell_type": "code",
      "source": [
        "#Insert Code"
      ],
      "metadata": {
        "id": "e63a0FOTI7Md"
      },
      "execution_count": null,
      "outputs": []
    },
    {
      "cell_type": "markdown",
      "source": [
        "## **L3 - Example 9 - Calculating both Average and Sum of a group of numbers using a FOR loop**"
      ],
      "metadata": {
        "id": "Pmp3WJK6hDTQ"
      }
    },
    {
      "cell_type": "code",
      "metadata": {
        "id": "1d1MF6tcSS7-",
        "colab": {
          "base_uri": "https://localhost:8080/"
        },
        "outputId": "656776a8-8d09-40a1-f122-2c7f1fa037a5"
      },
      "source": [
        "# Example 9\n",
        "print(\"This is a Program which calculates and outputs the average of 3 integers entered by the user and also the sum of the numbers\")\n",
        "Total_Score = 0 # We initialize this to zero\n",
        "for j in range(3):\n",
        "  Score = int(input(\"Enter the Score \"))\n",
        "  Total_Score = Total_Score + Score\n",
        "Average_Score = Total_Score/3\n",
        "print(\"Total_Score \",Total_Score)\n",
        "print(\"Average_Score \",Average_Score)\n"
      ],
      "execution_count": null,
      "outputs": [
        {
          "output_type": "stream",
          "name": "stdout",
          "text": [
            "This is a Program which calculates and outputs the average of 3 integers entered by the user and also the sum of the numbers\n",
            "Enter the Score 4\n",
            "Enter the Score 2\n",
            "Enter the Score 3\n",
            "Total_Score  9\n",
            "Average_Score  3.0\n"
          ]
        }
      ]
    },
    {
      "cell_type": "markdown",
      "source": [
        "## **L3 - Question 9 - Question on calculating the average and sum of a group of numbers using a FOR loop**\n",
        "Write a Program which allows you to choose how many numbers you will input and output the sum and average of those numbers"
      ],
      "metadata": {
        "id": "iJgO1c0RhLvg"
      }
    },
    {
      "cell_type": "code",
      "source": [
        "#Insert Code Here"
      ],
      "metadata": {
        "id": "3Hhb5vsJhOGJ"
      },
      "execution_count": null,
      "outputs": []
    },
    {
      "cell_type": "markdown",
      "source": [
        "## **L3 - Question 9 - A Solution**"
      ],
      "metadata": {
        "id": "sMLrY4uIJ4ZQ"
      }
    },
    {
      "cell_type": "code",
      "metadata": {
        "id": "erHBLbIOqXyz",
        "colab": {
          "base_uri": "https://localhost:8080/"
        },
        "outputId": "d14342fe-f39d-499f-94df-00b2c5e00743"
      },
      "source": [
        "# Question 9\n",
        "# Here is a solution to the Question 9!\n",
        "Total_score = 0\n",
        "x =int(input(\"enter how many numbers do you want to deal with? \"))\n",
        "for j in range(x):\n",
        "  Score = int(input(\"enter a score \"))\n",
        "  Total_score = Total_score + Score\n",
        "Average_score = Total_score/x\n",
        "print(\"Total score\", Total_score)\n",
        "print(\"Averge score\", Average_score)\n"
      ],
      "execution_count": null,
      "outputs": [
        {
          "output_type": "stream",
          "text": [
            "enter how many numbers do you want to deal with? 2\n",
            "enter a score 3\n",
            "enter a score 4\n",
            "Total score 7\n",
            "Sverge score 3.5\n"
          ],
          "name": "stdout"
        }
      ]
    },
    {
      "cell_type": "markdown",
      "source": [
        "## **L3 - Example 10 - There is no Example 10**"
      ],
      "metadata": {
        "id": "OwL2gtxI5Irl"
      }
    },
    {
      "cell_type": "markdown",
      "source": [
        "## **L3 - Question 10 - Recap and YouTube video on FOR loop**\n",
        "Now go over the Examples, Questions and Answers for FOR loops\n",
        "and watch the YouTube video on FOR loops\n",
        "https://youtu.be/bgiPG6bp7bY\n"
      ],
      "metadata": {
        "id": "D-mLUvWuW8sb"
      }
    },
    {
      "cell_type": "markdown",
      "source": [
        "## **L3 - Example 11 - Using a FOR loop to output Even Numbers using the MOD(%) Operator**"
      ],
      "metadata": {
        "id": "A16UodwBKArM"
      }
    },
    {
      "cell_type": "code",
      "metadata": {
        "id": "HHuRT1usUtxz",
        "colab": {
          "base_uri": "https://localhost:8080/"
        },
        "outputId": "4da2142a-e585-4706-e1e1-8182aca1dd7a"
      },
      "source": [
        "# Example 11 - Outputting Even Numbers\n",
        "for j in range(1,10):\n",
        "  if j%2==0:\n",
        "    print(j, \" is even\")\n",
        "\n"
      ],
      "execution_count": null,
      "outputs": [
        {
          "output_type": "stream",
          "text": [
            "2  is even\n",
            "4  is even\n",
            "6  is even\n",
            "8  is even\n"
          ],
          "name": "stdout"
        }
      ]
    },
    {
      "cell_type": "markdown",
      "metadata": {
        "id": "kvtb96Ouqgx4"
      },
      "source": [
        "## **L3 - Question 11 -  Using a FOR loop to say whether a number is odd or even**\n",
        "Write a Program which will tells you if the numbers between 1 and 10 are odd or even"
      ]
    },
    {
      "cell_type": "code",
      "metadata": {
        "id": "uHC3Frs6NGmx"
      },
      "source": [
        "# Insert Code Here"
      ],
      "execution_count": null,
      "outputs": []
    },
    {
      "cell_type": "markdown",
      "source": [
        "## **L3 - Question 11 - A solution for FOR loop for saying whether number is odd or even**"
      ],
      "metadata": {
        "id": "N8Q7hWWpaoAc"
      }
    },
    {
      "cell_type": "code",
      "metadata": {
        "id": "BQ-6V4BbqxhK"
      },
      "source": [
        "# Here is a solution to the Question 11\n",
        "for j in range (1,10):\n",
        "  if j%2==1:\n",
        "   print(j, \"is odd\")\n",
        "  else:\n",
        "    print(j, \" is even\")"
      ],
      "execution_count": null,
      "outputs": []
    },
    {
      "cell_type": "markdown",
      "metadata": {
        "id": "JmdVwuYrI3y2"
      },
      "source": [
        "## **L3 - Example 12 - An example of a NESTED FOR loop**\n",
        "<br>This is an example of a program with a NESTED FOR loop within it.\n",
        "<br>Work out how the program is working. For this you will most definitely need to ask your teacher about it."
      ]
    },
    {
      "cell_type": "code",
      "metadata": {
        "colab": {
          "base_uri": "https://localhost:8080/"
        },
        "id": "POu6C-84q8vr",
        "outputId": "bf111eaf-6d78-4dc8-83b2-37c8d36fef04"
      },
      "source": [
        "# Example 12 - Nested For loop\n",
        "print(\"A Program with a NESTED FOR loop\")\n",
        "for j in range(1,5): #OUTER for loop\n",
        "  print()\n",
        "  for k in range(6,10): #INNER for loop\n",
        "    print(\"j = \", j, \" k = \", k)\n"
      ],
      "execution_count": null,
      "outputs": [
        {
          "output_type": "stream",
          "name": "stdout",
          "text": [
            "A Program with a NESTED FOR loop\n",
            "\n",
            "j =  1  k =  6\n",
            "j =  1  k =  7\n",
            "j =  1  k =  8\n",
            "j =  1  k =  9\n",
            "\n",
            "j =  2  k =  6\n",
            "j =  2  k =  7\n",
            "j =  2  k =  8\n",
            "j =  2  k =  9\n",
            "\n",
            "j =  3  k =  6\n",
            "j =  3  k =  7\n",
            "j =  3  k =  8\n",
            "j =  3  k =  9\n",
            "\n",
            "j =  4  k =  6\n",
            "j =  4  k =  7\n",
            "j =  4  k =  8\n",
            "j =  4  k =  9\n"
          ]
        }
      ]
    },
    {
      "cell_type": "markdown",
      "metadata": {
        "id": "rQx-iJBOsJvo"
      },
      "source": [
        "## **L3 - Question 12 - Question on writing Program with NESTED FOR loop**\n",
        "Now write a similar program to this yourself"
      ]
    },
    {
      "cell_type": "code",
      "metadata": {
        "id": "gqARhBaGsOy5"
      },
      "source": [
        "#  Insert Program\n"
      ],
      "execution_count": null,
      "outputs": []
    },
    {
      "cell_type": "markdown",
      "metadata": {
        "id": "tL1VpUdNJb71"
      },
      "source": [
        "## **L3 - Example 13 - Outputting the Factors of a Given Integer using a FOR loop**\n",
        "(i) How do you think the program is working? After some thought you may (will probably) need to ask your teacher about it.\n",
        "<br><br>Please note there is no associated Question 13"
      ]
    },
    {
      "cell_type": "code",
      "metadata": {
        "colab": {
          "base_uri": "https://localhost:8080/"
        },
        "id": "XfuitD8grUJd",
        "outputId": "33ebd45e-f855-4e60-b378-fd0eb4317ca9"
      },
      "source": [
        "# Example 13 - The Factors of a Number\n",
        "print(\"This Program outputs the Factors of a given Integer\")\n",
        "X = int(input(\"Enter a number\"))\n",
        "for j in range(1,X):\n",
        "  if X%j ==0:\n",
        "    print(j)"
      ],
      "execution_count": null,
      "outputs": [
        {
          "output_type": "stream",
          "name": "stdout",
          "text": [
            "This Program outputs the Factors of a given Integer\n",
            "Enter a number10\n",
            "1\n",
            "2\n",
            "5\n"
          ]
        }
      ]
    },
    {
      "cell_type": "markdown",
      "source": [
        "## **L3 - Question 13 - There is no Question 13**"
      ],
      "metadata": {
        "id": "IP-_JWO05ckU"
      }
    },
    {
      "cell_type": "markdown",
      "metadata": {
        "id": "GLrSRWzRr9K7"
      },
      "source": [
        "## **L3 - Example 14 - Marvel at the output of a FOR loop producing a Grid showing Multiplication Table!**\n",
        "Please note that there is no associated Question 14"
      ]
    },
    {
      "cell_type": "code",
      "metadata": {
        "colab": {
          "base_uri": "https://localhost:8080/"
        },
        "id": "_LLj9Kr7lB1A",
        "outputId": "2021195b-0607-4ab1-e190-16ca14d974af"
      },
      "source": [
        "# Example 14\n",
        "# Display a Multiplication Table\n",
        "MIN = 1\n",
        "MAX = 10\n",
        "\n",
        "# Display the top row of labels\n",
        "print(\"    \", end = \"\")\n",
        "\n",
        "for j in range(MIN, MAX+1):\n",
        "  print( \"%4d\" %j, end=\"\")\n",
        "print()\n",
        "\n",
        "# Display the table\n",
        "\n",
        "for j in range(MIN, MAX+1):\n",
        "  print(\"%4d\" %j, end = \"\")\n",
        "  for k in range(MIN, MAX+1):\n",
        "      print(\"%4d\" %(j*k),end=\"\")\n",
        "  print()\n"
      ],
      "execution_count": null,
      "outputs": [
        {
          "output_type": "stream",
          "text": [
            "       1   2   3   4   5   6   7   8   9  10\n",
            "   1   1   2   3   4   5   6   7   8   9  10\n",
            "   2   2   4   6   8  10  12  14  16  18  20\n",
            "   3   3   6   9  12  15  18  21  24  27  30\n",
            "   4   4   8  12  16  20  24  28  32  36  40\n",
            "   5   5  10  15  20  25  30  35  40  45  50\n",
            "   6   6  12  18  24  30  36  42  48  54  60\n",
            "   7   7  14  21  28  35  42  49  56  63  70\n",
            "   8   8  16  24  32  40  48  56  64  72  80\n",
            "   9   9  18  27  36  45  54  63  72  81  90\n",
            "  10  10  20  30  40  50  60  70  80  90 100\n"
          ],
          "name": "stdout"
        }
      ]
    },
    {
      "cell_type": "markdown",
      "source": [
        "## **L3 - Question 14 - There is no Question 14**"
      ],
      "metadata": {
        "id": "vURyfoDM5ko7"
      }
    },
    {
      "cell_type": "markdown",
      "source": [
        "## **L3 - Example 15 - Combining NESTED FOR Loops with Lists**\n",
        "<br>This program combines NESTED FOR loops with lists. We will learn about Lists later."
      ],
      "metadata": {
        "id": "vhlRbPc0iPBL"
      }
    },
    {
      "cell_type": "code",
      "source": [
        "# Example 15\n",
        "# FOR loops with Lists\n",
        "print(\"A Program combining NESTED FOR loops with lists\")\n",
        "adj = [\"red\", \"big\", \"tasty\"]\n",
        "fruits = [\"apple\", \"banana\", \"cherry\"]\n",
        "\n",
        "for x in adj:\n",
        "  for y in fruits:\n",
        "    print(x, y)"
      ],
      "metadata": {
        "colab": {
          "base_uri": "https://localhost:8080/"
        },
        "id": "YFI3eleTiQ67",
        "outputId": "57b478bf-0428-4082-e833-c5a447599378"
      },
      "execution_count": null,
      "outputs": [
        {
          "output_type": "stream",
          "name": "stdout",
          "text": [
            "A Program combining NESTED FOR loops with lists\n",
            "red apple\n",
            "red banana\n",
            "red cherry\n",
            "big apple\n",
            "big banana\n",
            "big cherry\n",
            "tasty apple\n",
            "tasty banana\n",
            "tasty cherry\n"
          ]
        }
      ]
    },
    {
      "cell_type": "markdown",
      "source": [
        "## **L3 - Question 15 - Now write a similar program with NESTED FOR loops to the one in Example 15**"
      ],
      "metadata": {
        "id": "IiDDs_M25r0Y"
      }
    },
    {
      "cell_type": "code",
      "source": [
        "#Insert Code"
      ],
      "metadata": {
        "id": "59HR3y1rXoFL"
      },
      "execution_count": null,
      "outputs": []
    }
  ]
}