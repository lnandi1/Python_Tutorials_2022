{
  "nbformat": 4,
  "nbformat_minor": 0,
  "metadata": {
    "colab": {
      "provenance": [],
      "collapsed_sections": []
    },
    "kernelspec": {
      "name": "python3",
      "display_name": "Python 3"
    },
    "language_info": {
      "name": "python"
    }
  },
  "cells": [
    {
      "cell_type": "markdown",
      "source": [
        "*Please note that this notebook has been created by CLNandi(Dr) and cannot be used or replicated without the permission of the author*"
      ],
      "metadata": {
        "id": "zgiIy2i5D8oq"
      }
    },
    {
      "cell_type": "markdown",
      "source": [
        "### **Computer Lab 1 - Python Programs related to Input & Output - Examples and Questions**\n",
        " \n",
        "(1)Our Objective is both study and create Python Programs related to the  Input & Output of Strings and Numbers.\n",
        "<br>\n",
        "<br>(2) Let us see what this means in practice\n",
        "<br><br>(3) A YouTube Video of Python Programs related to Input and Output can be found here:-\n",
        "https://youtu.be/c4ISj2f_UIM\n",
        "<br><br>(4) There are Examples and Questions in this Notebook. \n",
        "<br><br>(5) First of all Run the Program related to each Example. Then Study the Program and the Output. \n",
        "<br><br>(6)Then answer the associated question.\n"
      ],
      "metadata": {
        "id": "ENoLVt6dD8tZ"
      }
    },
    {
      "cell_type": "markdown",
      "source": [
        "## **L1 - Example 1 - Outputting a Phrase**"
      ],
      "metadata": {
        "id": "gJYvlH8AxJE1"
      }
    },
    {
      "cell_type": "code",
      "metadata": {
        "id": "VUCBtcCsEnG5",
        "outputId": "21a2aed5-4262-4f8b-ac36-471150128c71",
        "colab": {
          "base_uri": "https://localhost:8080/"
        }
      },
      "source": [
        "# Example 1 - My First Program\n",
        "# Demonstrating Output\n",
        "print(\"Happy New Year\")"
      ],
      "execution_count": null,
      "outputs": [
        {
          "output_type": "stream",
          "name": "stdout",
          "text": [
            "Happy New Year\n"
          ]
        }
      ]
    },
    {
      "cell_type": "markdown",
      "source": [
        "## **L1 - Question 1 - Typing and Running your first program to input/output**"
      ],
      "metadata": {
        "id": "EOSM5dvCzGO4"
      }
    },
    {
      "cell_type": "code",
      "source": [
        "#Insert Code Here"
      ],
      "metadata": {
        "id": "Qu_645QmzNGU"
      },
      "execution_count": null,
      "outputs": []
    },
    {
      "cell_type": "markdown",
      "source": [
        "## **L1 - Example 2 - Outputting another Phrase**"
      ],
      "metadata": {
        "id": "jLqNFDePzrC0"
      }
    },
    {
      "cell_type": "code",
      "source": [
        "#Example 2\n",
        "# A Shakespheare Quote\n",
        "print(\"All the world's a stage\")"
      ],
      "metadata": {
        "colab": {
          "base_uri": "https://localhost:8080/"
        },
        "id": "3xh3gpVyzx-i",
        "outputId": "9ff8b282-041c-4530-d991-40939e2b4b7e"
      },
      "execution_count": null,
      "outputs": [
        {
          "output_type": "stream",
          "name": "stdout",
          "text": [
            "All the world's a stage\n"
          ]
        }
      ]
    },
    {
      "cell_type": "markdown",
      "source": [
        "## **L1 - Question 2 - Outputting a Given Phrase**\n",
        "\n",
        "Write a Program which outputs the phrase \"To be or not to be\""
      ],
      "metadata": {
        "id": "NO4nEOPZ0jyx"
      }
    },
    {
      "cell_type": "code",
      "source": [
        "# Insert Code Here"
      ],
      "metadata": {
        "id": "kvoPB_b20oZR"
      },
      "execution_count": null,
      "outputs": []
    },
    {
      "cell_type": "markdown",
      "source": [
        "## **L1 - Example 3 - Outputting Phrases on Different Lines**\n",
        "*Note the following '\\n' means newline*"
      ],
      "metadata": {
        "id": "glYAwdPp157V"
      }
    },
    {
      "cell_type": "code",
      "metadata": {
        "colab": {
          "base_uri": "https://localhost:8080/"
        },
        "id": "TFWjLPsMJRHb",
        "outputId": "6f38168f-1f97-42cf-f6c7-ce2bcf7c62fc"
      },
      "source": [
        "#Example 3\n",
        "print(\"I like Chocolate\\n\")\n",
        "print(\"I like Mangoes\\n\")"
      ],
      "execution_count": null,
      "outputs": [
        {
          "output_type": "stream",
          "text": [
            "I like Chocolate\n",
            "\n",
            "I like Mangoes\n",
            "\n"
          ],
          "name": "stdout"
        }
      ]
    },
    {
      "cell_type": "markdown",
      "metadata": {
        "id": "5bs7AQ0DCEVr"
      },
      "source": [
        "## **L1 - Question 3 - Outputting Given Phrases on Different Lines**\n",
        "\n",
        "Write a Program to Output the phrases from one of Shakespheare's sonnets  \n",
        "<br>(i) \"Music to hear, why hear'st music so sadly\" \n",
        "<br>(ii) \"Sweets with sweets warre not, joy delights in delight\" on 2 separate lines"
      ]
    },
    {
      "cell_type": "code",
      "metadata": {
        "id": "8JJb67llCk2t"
      },
      "source": [
        "# Insert Code Here"
      ],
      "execution_count": null,
      "outputs": []
    },
    {
      "cell_type": "markdown",
      "source": [
        "## **L1 - Example 4 - Outputting Given Input**"
      ],
      "metadata": {
        "id": "T_bSHvxu45Lz"
      }
    },
    {
      "cell_type": "code",
      "metadata": {
        "colab": {
          "base_uri": "https://localhost:8080/"
        },
        "id": "ZoGT0wL6Jifc",
        "outputId": "95d58501-4c9c-45ac-f68b-734233436c08"
      },
      "source": [
        "# Example 4 - Input and Output\n",
        "Phrase = input(\"Enter a Phrase \")\n",
        "print(Phrase)"
      ],
      "execution_count": null,
      "outputs": [
        {
          "output_type": "stream",
          "text": [
            "Enter a Phrase Hello World\n",
            "Hello World\n"
          ],
          "name": "stdout"
        }
      ]
    },
    {
      "cell_type": "markdown",
      "source": [
        "## **L1 - Question 4 - Outputting Given Input**\n",
        "Write a Program which invites the user to enter a name and then outputs it"
      ],
      "metadata": {
        "id": "GhboGhCi5Rh1"
      }
    },
    {
      "cell_type": "code",
      "metadata": {
        "colab": {
          "base_uri": "https://localhost:8080/"
        },
        "id": "C0E3TgmcJwa9",
        "outputId": "f37cfa13-90b9-4277-d582-647b85c1bdbd"
      },
      "source": [
        "# Insert Code Here"
      ],
      "execution_count": null,
      "outputs": [
        {
          "output_type": "stream",
          "text": [
            "Enter Your Name Peter\n",
            "Peter\n"
          ],
          "name": "stdout"
        }
      ]
    },
    {
      "cell_type": "markdown",
      "source": [
        "## **L1 - Example 5 - Outputting Given Input Again**"
      ],
      "metadata": {
        "id": "6XCsR4ghBJqa"
      }
    },
    {
      "cell_type": "code",
      "metadata": {
        "colab": {
          "base_uri": "https://localhost:8080/"
        },
        "id": "MPEaxTpjKlpt",
        "outputId": "adf6459d-8a3a-4828-bec4-799403e0e322"
      },
      "source": [
        "# Example 5 - Input and Output\n",
        "Capital = input(\"What is the Capital of France? \")\n",
        "print(\"The Capital of France is \", Capital)"
      ],
      "execution_count": null,
      "outputs": [
        {
          "output_type": "stream",
          "text": [
            "What is the Capital of France? Paris\n",
            "The Capital of France is  Paris\n"
          ],
          "name": "stdout"
        }
      ]
    },
    {
      "cell_type": "markdown",
      "metadata": {
        "id": "L2BJ4LFiC2zw"
      },
      "source": [
        "## **L1 - Question 5 - Outputting Given Input Again**\n",
        "Write a Program which invites the user to input an answer to any question of your choice and then displays the answer on the screen"
      ]
    },
    {
      "cell_type": "code",
      "metadata": {
        "id": "tnradUC4DIU5"
      },
      "source": [
        "# Insert Code Here"
      ],
      "execution_count": null,
      "outputs": []
    },
    {
      "cell_type": "markdown",
      "source": [
        "## **L1 - Example 6 - Dealing with Input of Integers**\n",
        "*Note the following, 'int' means integer. An integer is a whole number. Examples of integers are 9,4,-100*"
      ],
      "metadata": {
        "id": "lYX-HSO2HsRk"
      }
    },
    {
      "cell_type": "code",
      "metadata": {
        "colab": {
          "base_uri": "https://localhost:8080/"
        },
        "id": "w_5FyJqVL680",
        "outputId": "728264be-4c22-4e0c-d604-dac2831fe324"
      },
      "source": [
        "# Example 6 - Dealing with Input of Numbers - Integers\n",
        "Countries = int(input(\"How many countries are there in the world? \"))\n",
        "print(Countries)"
      ],
      "execution_count": null,
      "outputs": [
        {
          "output_type": "stream",
          "text": [
            "How many countries are there in the world? 196\n",
            "196\n"
          ],
          "name": "stdout"
        }
      ]
    },
    {
      "cell_type": "markdown",
      "metadata": {
        "id": "uALvUoPnDQ0Y"
      },
      "source": [
        "## **L1 - Question 6 - Question dealing with input of integers**\n",
        "Write a Program which invites the user to input the number of river in the world and displays the answer"
      ]
    },
    {
      "cell_type": "code",
      "metadata": {
        "id": "uTN9JdMFDhYI"
      },
      "source": [
        "# Put Your Code Here"
      ],
      "execution_count": null,
      "outputs": []
    },
    {
      "cell_type": "markdown",
      "source": [
        "## **L1 - Example 7 - Calculating the Area of a Square**"
      ],
      "metadata": {
        "id": "wS6b2vsYJUWh"
      }
    },
    {
      "cell_type": "code",
      "metadata": {
        "colab": {
          "base_uri": "https://localhost:8080/"
        },
        "id": "-Dg-K2j6JJtW",
        "outputId": "e762ca71-f84e-459b-f608-e0ac2330787a"
      },
      "source": [
        "# Example 7 - Performing Calculations\n",
        "# Calculating the area of a square\n",
        "Length = int(input(\"Enter the length of a square in cm \"))\n",
        "Area = Length * Length\n",
        "print(\"The area of the square is \", Area, \" cm square\")"
      ],
      "execution_count": null,
      "outputs": [
        {
          "output_type": "stream",
          "text": [
            "Enter the length of a square in cm 5\n",
            "The area of the square is  25  cm square\n"
          ],
          "name": "stdout"
        }
      ]
    },
    {
      "cell_type": "markdown",
      "metadata": {
        "id": "UesMfwo4Dqzo"
      },
      "source": [
        "## **L1 - Question 7 - Calculating the Area of a Rectangle**\n",
        "\n",
        "Write a Program which calculates the area of a rectangle by inviting the user to input the height and width of the rectangle"
      ]
    },
    {
      "cell_type": "code",
      "metadata": {
        "id": "5xqm_aIXD9tG"
      },
      "source": [
        "# Insert Your Code Here"
      ],
      "execution_count": null,
      "outputs": []
    },
    {
      "cell_type": "markdown",
      "source": [
        "## **L1 - Example 8 - Calculating Area of a Square with the Squared Term**\n",
        "Note the following:-\n",
        "<br>(i) Length**2 means Length Squared meaning Length * Length\n",
        "<br>(ii) 'float' means the user can enter decimal/real values such the number 3.4 or 9.6"
      ],
      "metadata": {
        "id": "UB8VgA6KKpGU"
      }
    },
    {
      "cell_type": "code",
      "metadata": {
        "id": "lP3EuWAuJsoF",
        "colab": {
          "base_uri": "https://localhost:8080/"
        },
        "outputId": "196e1371-3d6d-4e9a-f240-404102be93d8"
      },
      "source": [
        "# Example 8 - Perfoming Calculations\n",
        "# Calculating the Area of a Square\n",
        "Length = float(input(\"Enter the length of a square in cm \"))\n",
        "Area = Length **2\n",
        "print(\" The area of the square is \", Area, \" cm square \")"
      ],
      "execution_count": null,
      "outputs": [
        {
          "output_type": "stream",
          "text": [
            "Enter the length of a square in cm 3.4\n",
            " The area of the square is  11.559999999999999  cm square \n"
          ],
          "name": "stdout"
        }
      ]
    },
    {
      "cell_type": "markdown",
      "source": [
        "## **L1 - Question 8 - Area of a Circle**\n",
        "Write a Program which calculates the area of a circle and outputs the answer \n",
        "<br>\n",
        "<br>\n",
        "(Note the Formula for Area of a Circle is:-  PI ∗𝑅𝑎𝑑𝑖𝑢𝑠$^2$  where PI = 3.142)"
      ],
      "metadata": {
        "id": "HbM8O4FTM3oU"
      }
    },
    {
      "cell_type": "code",
      "metadata": {
        "id": "VYWdvLEdFp_L"
      },
      "source": [
        "# Insert Code Here"
      ],
      "execution_count": null,
      "outputs": []
    },
    {
      "cell_type": "markdown",
      "source": [
        "## **L1 - Example 9 - Rounding numbers to a specified number of decimal places**\n",
        "*Please note that:-\n",
        "<br> 'round(x,2)' gives the output to 2 decimal places; \n",
        "<br>'round(x,3)' will give the output to 3 decimal places; \n",
        "<br>'round(x,4)' will give the output to 4 decimal places* "
      ],
      "metadata": {
        "id": "yjXCIyauSr8r"
      }
    },
    {
      "cell_type": "code",
      "source": [
        "# Example 9\n",
        "Apples = 10.1234567\n",
        "print(\"Apples \",Apples)\n",
        "print(\"Output to 2 decimal places \", round(Apples,2))\n",
        "print(\"Output to 3 decimal places \",round(Apples,3))\n",
        "print(\"Output to 4 decimal places \", round(Apples,4))"
      ],
      "metadata": {
        "colab": {
          "base_uri": "https://localhost:8080/"
        },
        "id": "cgjGMI0hTDxP",
        "outputId": "1cf2cf26-22ad-4c0a-e396-a7bbf080f5f0"
      },
      "execution_count": null,
      "outputs": [
        {
          "output_type": "stream",
          "name": "stdout",
          "text": [
            "Apples  10.1234567\n",
            "Output to 2 decimal places  10.12\n",
            "Output to 3 decimal palces  10.123\n",
            "Output to 4 decimal places  10.1235\n"
          ]
        }
      ]
    },
    {
      "cell_type": "markdown",
      "metadata": {
        "id": "ddL2V8TaF9h6"
      },
      "source": [
        "## **L1 - Question 9  - Circumference of a Circle**\n",
        "\n",
        "Write a Program which calculates the circumference of a circle and outputs the result to 2 decimal places \n",
        "<br>\n",
        "<br>(Formula: Circumference = 2 * PI * Radius where PI=3.142)"
      ]
    },
    {
      "cell_type": "code",
      "metadata": {
        "id": "y33wylKAGMJ4"
      },
      "source": [
        "# Insert Code Here"
      ],
      "execution_count": null,
      "outputs": []
    },
    {
      "cell_type": "markdown",
      "source": [
        "## **L1 - Example 10 - There is nothing for Example 10**"
      ],
      "metadata": {
        "id": "vPtGufJw4Gob"
      }
    },
    {
      "cell_type": "markdown",
      "source": [
        "## **L1 - Question 10 - Recap and YouTube Video on Input/Output**\n",
        "\n",
        "Now go over all of the Examples and Questions in this section & then watch the following video showing input and output examples in Python Programs\n",
        "https://youtu.be/c4ISj2f_UIM\n"
      ],
      "metadata": {
        "id": "cl7R_jjFNkC3"
      }
    }
  ]
}