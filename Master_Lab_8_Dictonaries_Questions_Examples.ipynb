{
  "cells": [
    {
      "cell_type": "markdown",
      "metadata": {
        "id": "view-in-github",
        "colab_type": "text"
      },
      "source": [
        "<a href=\"https://colab.research.google.com/github/lnandi1/Python_Tutorials_2022/blob/main/Master_Lab_8_Dictonaries_Questions_Examples.ipynb\" target=\"_parent\"><img src=\"https://colab.research.google.com/assets/colab-badge.svg\" alt=\"Open In Colab\"/></a>"
      ]
    },
    {
      "cell_type": "markdown",
      "metadata": {
        "id": "ylG3w-NMpNEI"
      },
      "source": [
        "**Dictionaries - Questions and Notes**"
      ]
    },
    {
      "cell_type": "markdown",
      "metadata": {
        "id": "2pm3I-Fbqx8w"
      },
      "source": [
        "**1.0 Creating a Dictionary**"
      ]
    },
    {
      "cell_type": "code",
      "execution_count": null,
      "metadata": {
        "colab": {
          "base_uri": "https://localhost:8080/"
        },
        "id": "12unvl5gpSt6",
        "outputId": "4bdf52c1-fb6b-4aeb-d621-59976f0c8609"
      },
      "outputs": [
        {
          "name": "stdout",
          "output_type": "stream",
          "text": [
            "Contents of the Dictionary Pets\n",
            "  {'Anna': 'Cat', 'David': 'Dog', 'Alex': 'Fish'}\n"
          ]
        }
      ],
      "source": [
        "# Program 1 - Creating a Dictionary of 3 Key-Value Pairs\n",
        "# Anna is a Key and Cat is a Value\n",
        "# David is a Key and Dog is a Value\n",
        "# Alex is a Key and Fish is a Value\n",
        "# There are 3 key-value pairs\n",
        "Pets = {'Anna':'Cat',\n",
        "        'David':'Dog',\n",
        "        'Alex':'Fish'}\n",
        "print(\"Contents of the Dictionary Pets\\n \",Pets)"
      ]
    },
    {
      "cell_type": "markdown",
      "metadata": {
        "id": "o25j1O86rovq"
      },
      "source": [
        "**2.0 Accessing Values in a Dictionary**"
      ]
    },
    {
      "cell_type": "code",
      "execution_count": null,
      "metadata": {
        "colab": {
          "base_uri": "https://localhost:8080/"
        },
        "id": "RH8oUsoZrznI",
        "outputId": "010c5042-24a9-4c3e-9ee3-7e268f4d7f4d"
      },
      "outputs": [
        {
          "name": "stdout",
          "output_type": "stream",
          "text": [
            "Pets[Anna]  Cat\n",
            "Pets[David]  Dog\n",
            "Pets[Alex]  Fish\n"
          ]
        }
      ],
      "source": [
        "# Program 2 - Accessing Values in a Dictionary\n",
        "Pets = {'Anna':'Cat',\n",
        "        'David':'Dog',\n",
        "        'Alex':'Fish'}\n",
        "print(\"Pets[Anna] \",Pets['Anna'])\n",
        "print(\"Pets[David] \",Pets['David'])\n",
        "print(\"Pets[Alex] \",Pets['Alex'])"
      ]
    },
    {
      "cell_type": "markdown",
      "metadata": {
        "id": "TXP2vH72sgmH"
      },
      "source": [
        "**3.0 Adding New Key-Value Pairs**"
      ]
    },
    {
      "cell_type": "code",
      "execution_count": null,
      "metadata": {
        "colab": {
          "base_uri": "https://localhost:8080/"
        },
        "id": "qwLJzc6QuEbF",
        "outputId": "9e27ba3c-14b7-4e50-881b-2160dd771262"
      },
      "outputs": [
        {
          "name": "stdout",
          "output_type": "stream",
          "text": [
            "Contents of Dictionary Pets before Adding New Key-Value Pairs\n",
            "  {'Anna': 'Cat', 'David': 'Dog', 'Alex': 'Fish'}\n",
            "\n",
            "Contents of Dictionary Pets after Adding New Key-Value Pairs\n",
            "  {'Anna': 'Cat', 'David': 'Dog', 'Alex': 'Fish', 'Jacob': 'Goat', 'May': 'Horse'}\n"
          ]
        }
      ],
      "source": [
        "# Program 3 - Adding new Key-Value Pairs\n",
        "Pets = {'Anna':'Cat',\n",
        "        'David':'Dog',\n",
        "        'Alex':'Fish'}\n",
        "print(\"Contents of Dictionary Pets before Adding New Key-Value Pairs\\n \",Pets)\n",
        "Pets['Jacob']='Goat'\n",
        "Pets['May'] = 'Horse'\n",
        "print()\n",
        "print(\"Contents of Dictionary Pets after Adding New Key-Value Pairs\\n \",Pets)"
      ]
    },
    {
      "cell_type": "markdown",
      "metadata": {
        "id": "Ia1DI2F8rNOG"
      },
      "source": []
    },
    {
      "cell_type": "markdown",
      "metadata": {
        "id": "WSS0z-Khu4Z_"
      },
      "source": [
        "**Exercise 1 - Please do the following:-**\n",
        "1.   Create a Dictionary containing 4 Key-Value Pairs where the Key is a Person and the Value is the Favourite Country of that Person.\n",
        "2.   Display the Contents of the Dictionary on the Screen.\n",
        "3.   Now add another 2 Key-Value Pairs\n",
        "4.   Display the Contents of the Dictionary on the Screen.\n",
        "5.   Access the Value of two of the Key-Value Pairs and Display them on the screen.\n",
        "\n",
        "\n",
        "\n"
      ]
    },
    {
      "cell_type": "code",
      "execution_count": null,
      "metadata": {
        "id": "GwKFzQmDwzZw"
      },
      "outputs": [],
      "source": [
        "# Insert Code"
      ]
    },
    {
      "cell_type": "markdown",
      "metadata": {
        "id": "-6Fca5txw1Ht"
      },
      "source": [
        "**4.0 Modifying Values in a Dictionary**"
      ]
    },
    {
      "cell_type": "code",
      "execution_count": null,
      "metadata": {
        "colab": {
          "base_uri": "https://localhost:8080/"
        },
        "id": "qo9JGLuXy6uy",
        "outputId": "fe9e4f7a-6a59-4957-8dbd-c17446de35ae"
      },
      "outputs": [
        {
          "name": "stdout",
          "output_type": "stream",
          "text": [
            "Contents of Dictionary Pets before Modification of New Key-Value Pairs\n",
            "  {'Anna': 'Cat', 'David': 'Dog', 'Alex': 'Fish'}\n",
            "\n",
            "Contents of Dictionary Pets after Modification of New Key-Value Pairs\n",
            "  {'Anna': 'Cat', 'David': 'Dog', 'Alex': 'Horse'}\n"
          ]
        }
      ],
      "source": [
        "# Program 4 - Modifying Values in a Dictionary\n",
        "Pets = {'Anna':'Cat',\n",
        "        'David':'Dog',\n",
        "        'Alex':'Fish'}\n",
        "print(\"Contents of Dictionary Pets before Modification of New Key-Value Pairs\\n \",Pets)\n",
        "Pets['Alex']='Horse'\n",
        "print()\n",
        "print(\"Contents of Dictionary Pets after Modification of New Key-Value Pairs\\n \",Pets)"
      ]
    },
    {
      "cell_type": "markdown",
      "metadata": {
        "id": "82im-OAuxQGV"
      },
      "source": [
        "**5.0 Removing/Deleting Values in a Dictionary**"
      ]
    },
    {
      "cell_type": "code",
      "execution_count": null,
      "metadata": {
        "colab": {
          "base_uri": "https://localhost:8080/"
        },
        "id": "poexc1Mj07CL",
        "outputId": "f01846ca-0e28-4dd1-bd7b-0647d1d3a427"
      },
      "outputs": [
        {
          "name": "stdout",
          "output_type": "stream",
          "text": [
            "Contents of Dictionary Pets before Deletion of New Key-Value Pairs\n",
            "  {'Anna': 'Cat', 'David': 'Dog', 'Alex': 'Fish'}\n",
            "\n",
            "Contents of Dictionary Pets after Deletion of New Key-Value Pairs\n",
            "  {'Anna': 'Cat', 'David': 'Dog'}\n"
          ]
        }
      ],
      "source": [
        "# Program 5 - Deleting Values in a Dictionary\n",
        "Pets = {'Anna':'Cat',\n",
        "        'David':'Dog',\n",
        "        'Alex':'Fish'}\n",
        "print(\"Contents of Dictionary Pets before Deletion of New Key-Value Pairs\\n \",Pets)\n",
        "del Pets['Alex']\n",
        "print()\n",
        "print(\"Contents of Dictionary Pets after Deletion of New Key-Value Pairs\\n \",Pets)"
      ]
    },
    {
      "cell_type": "markdown",
      "metadata": {
        "id": "o7ebhixgfcrN"
      },
      "source": [
        "**Exercise 2 - Write a Program in which:-**\n",
        "\n",
        "1.   A Dictionary of 5 Key-Value Pairs are Created relating to Country and Continent\n",
        "2.   Display the Contents of the Dictionary on the Screen.\n",
        "3.   Choose a Key-Value Pair and replace it with another Key-Value Pair.\n",
        "4.   Display the Contents of the Dictionary on the Screen.\n",
        "5.   Choose a Key-Value Pair and delete it.\n",
        "6.   Display the Contents of the Dictionary on the Screen   \n",
        "\n"
      ]
    },
    {
      "cell_type": "code",
      "execution_count": null,
      "metadata": {
        "id": "fw3Gt__fgXC5"
      },
      "outputs": [],
      "source": [
        "# Insert Code Here"
      ]
    },
    {
      "cell_type": "markdown",
      "metadata": {
        "id": "fW6pZoc93Mgq"
      },
      "source": [
        "**6.0 Creating/Starting with -  an Empty Dictionary and Populating it**"
      ]
    },
    {
      "cell_type": "code",
      "execution_count": null,
      "metadata": {
        "colab": {
          "base_uri": "https://localhost:8080/"
        },
        "id": "b7aPf7OA3iFi",
        "outputId": "7bff12e4-6a4a-4bd9-9c65-5df42fa21218"
      },
      "outputs": [
        {
          "name": "stdout",
          "output_type": "stream",
          "text": [
            "Empty Dictionary of Olympic_Medals {}\n",
            "\n",
            "Populated Dictionary of Olympic_Medals\n",
            " {'France': 10, 'Japan': 10, 'UK': 15, 'Australia': 20}\n"
          ]
        }
      ],
      "source": [
        "# Program 6 - Creating or Starting an Empty Dictionary and Populating it\n",
        "Olympic_Medals = {}\n",
        "print(\"Empty Dictionary of Olympic_Medals\",Olympic_Medals)\n",
        "Olympic_Medals['France'] = 10\n",
        "Olympic_Medals['Japan']= 10\n",
        "Olympic_Medals['UK']= 15\n",
        "Olympic_Medals['Australia']=20\n",
        "print()\n",
        "print(\"Populated Dictionary of Olympic_Medals\\n\",Olympic_Medals)\n"
      ]
    },
    {
      "cell_type": "markdown",
      "metadata": {
        "id": "mwSuppQIgpT2"
      },
      "source": [
        "**Exercise 3 - Please do the following**\n",
        "\n",
        "\n",
        "1.   Create an Empty Dictionary of a name of your choosing.\n",
        "2.   Populate the Empty Dictionary with 3 Key-Value Pairs but here get the information from the user.\n",
        "\n"
      ]
    },
    {
      "cell_type": "code",
      "execution_count": null,
      "metadata": {
        "id": "pNI5P41ShC7B"
      },
      "outputs": [],
      "source": [
        "# Insert Code Here"
      ]
    },
    {
      "cell_type": "markdown",
      "metadata": {
        "id": "-5V2CQGu7ms9"
      },
      "source": [
        "**7.0 Looping Through All Key-Value Pairs**\n",
        "\n",
        "\n",
        "\n"
      ]
    },
    {
      "cell_type": "code",
      "execution_count": null,
      "metadata": {
        "colab": {
          "base_uri": "https://localhost:8080/"
        },
        "id": "9miiLw4i7v3N",
        "outputId": "aac07fe8-2f0c-4ea3-96d8-d2233147da77"
      },
      "outputs": [
        {
          "name": "stdout",
          "output_type": "stream",
          "text": [
            "France    Paris\n",
            "England    London\n",
            "India    New Delhi\n",
            "Australia    Canberra\n"
          ]
        }
      ],
      "source": [
        "# Program 7 - Looping through all key-value pairs\n",
        "Capitals = {\n",
        "    'France':'Paris',\n",
        "    'England':'London',\n",
        "    'India':'New Delhi',\n",
        "    'Australia':'Canberra',\n",
        "}\n",
        "for k, v in Capitals.items():\n",
        "           print(k,\"  \", v)"
      ]
    },
    {
      "cell_type": "markdown",
      "metadata": {
        "id": "OaeSVJcxYK--"
      },
      "source": [
        "**8.0 Looping through all keys**"
      ]
    },
    {
      "cell_type": "code",
      "execution_count": null,
      "metadata": {
        "colab": {
          "base_uri": "https://localhost:8080/"
        },
        "id": "lpk00vgeYQ2o",
        "outputId": "29fd5c56-38bf-48a6-bcf3-dec021dc31cb"
      },
      "outputs": [
        {
          "name": "stdout",
          "output_type": "stream",
          "text": [
            "France\n",
            "England\n",
            "India\n",
            "Australia\n"
          ]
        }
      ],
      "source": [
        "# Program 8 - Looping through all key-value pairs\n",
        "Capitals = {\n",
        "    'France':'Paris',\n",
        "    'England':'London',\n",
        "    'India':'New Delhi',\n",
        "    'Australia':'Canberra',\n",
        "}\n",
        "for k in Capitals.keys():\n",
        "           print(k)"
      ]
    },
    {
      "cell_type": "markdown",
      "metadata": {
        "id": "MooUJ3YgYd2E"
      },
      "source": [
        "**9.0 Looping through all values**"
      ]
    },
    {
      "cell_type": "code",
      "execution_count": null,
      "metadata": {
        "colab": {
          "base_uri": "https://localhost:8080/"
        },
        "id": "gSgkYrVPYhuB",
        "outputId": "26599182-1f04-4d59-f757-7e8c855b6a3e"
      },
      "outputs": [
        {
          "name": "stdout",
          "output_type": "stream",
          "text": [
            "Paris\n",
            "London\n",
            "New Delhi\n",
            "Canberra\n"
          ]
        }
      ],
      "source": [
        "# Program 9 - Looping through all key-value pairs\n",
        "Capitals = {\n",
        "    'France':'Paris',\n",
        "    'England':'London',\n",
        "    'India':'New Delhi',\n",
        "    'Australia':'Canberra',\n",
        "}\n",
        "for v in Capitals.values():\n",
        "           print(v)"
      ]
    },
    {
      "cell_type": "markdown",
      "metadata": {
        "id": "NHkU4FCkfNnP"
      },
      "source": [
        "**10.0 Number of Key Value Pairs in a Dictionary**"
      ]
    },
    {
      "cell_type": "code",
      "execution_count": null,
      "metadata": {
        "colab": {
          "base_uri": "https://localhost:8080/"
        },
        "id": "Cj_UNs5MfVfK",
        "outputId": "5be86e13-d3f1-4c55-894d-07a485142eee"
      },
      "outputs": [
        {
          "name": "stdout",
          "output_type": "stream",
          "text": [
            "There are  4  Key-Value Pairs in the Dictionary Capitals\n"
          ]
        }
      ],
      "source": [
        "# Program 9 - Looping through all key-value pairs\n",
        "Capitals = {\n",
        "    'France':'Paris',\n",
        "    'England':'London',\n",
        "    'India':'New Delhi',\n",
        "    'Australia':'Canberra',\n",
        "}\n",
        "Number = len(Capitals)\n",
        "print(\"There are \", Number, \" Key-Value Pairs in the Dictionary Capitals\")"
      ]
    },
    {
      "cell_type": "markdown",
      "metadata": {
        "id": "Xrzv0_bNhQgW"
      },
      "source": [
        "**Exercise 4 - Please do the following**\n",
        "\n",
        "\n",
        "1.   Create a Dictionary with 3 Key-Value Pairs Containing Name and Favourite Food.\n",
        "2.   Loop through the Dictionary, displaying each Key and Value in turn\n",
        "3.   Output how many Key-Value Pairs there are in the Dictionary.\n",
        "\n"
      ]
    },
    {
      "cell_type": "code",
      "execution_count": null,
      "metadata": {
        "id": "0nKDx8jXhqhm"
      },
      "outputs": [],
      "source": [
        "# Insert Code Here"
      ]
    },
    {
      "cell_type": "markdown",
      "metadata": {
        "id": "Zyqh0v0FcSaP"
      },
      "source": [
        "**11.0 A Quiz Program using Dictionaries - please do the following**\n",
        "\n",
        "\n",
        "1.   Run the Program and Study the Output\n",
        "2.   Go through the Program line by line to understand how it is working.\n",
        "3.   At some point you should have the Program embedded in your mind (memorised) as you will be writing many programs with the same/similar structure.\n",
        "\n"
      ]
    },
    {
      "cell_type": "code",
      "execution_count": null,
      "metadata": {
        "colab": {
          "background_save": true,
          "base_uri": "https://localhost:8080/"
        },
        "id": "hsYl3AlMaz9z",
        "outputId": "ee11ec54-e501-40a2-dd2e-352f3055ead8"
      },
      "outputs": [
        {
          "name": "stdout",
          "output_type": "stream",
          "text": [
            "What is the capital of Spain?\n",
            "Correct\n",
            "Who is the President of the United States?\n",
            "Correct\n",
            "How many planets are there in the Solar System?\n",
            "Incorrect\n",
            "How many countries are there in world?\n"
          ]
        }
      ],
      "source": [
        "# Program 10\n",
        "# This is a Quiz\n",
        "# Create and add contents to the dictionary, my_dict{}\n",
        "\n",
        "my_dict ={}\n",
        "my_dict['What is the capital of Spain?']=\"Madrid\"\n",
        "my_dict[\"Who is the President of the United States?\"]= \"Biden\"\n",
        "my_dict[\"How many planets are there in the Solar System?\"]=\"9\"\n",
        "my_dict['How many countries are there in world?']= \"196\"\n",
        "counter = 0\n",
        "# Loop round the questions\n",
        "# Ask for userinput\n",
        "# If the answer is correct then add one to the counter\n",
        "for k, v in my_dict.items():\n",
        "# print(k, v)\n",
        "  print(k)\n",
        "  ans = input()\n",
        "  if ans == v:\n",
        "    print(\"Correct\")\n",
        "    counter = counter +1\n",
        "  else:\n",
        "    print(\"Incorrect\")\n",
        "#Print out the score, note len(my_dict) refers to the number of questions\n",
        "print('You have scored', counter, ' out of ', len(my_dict))"
      ]
    },
    {
      "cell_type": "markdown",
      "metadata": {
        "id": "sIWiDXutc0OR"
      },
      "source": [
        "**Exercise - Extend the Above Program so that it includes 2 more general knowledge questions**"
      ]
    },
    {
      "cell_type": "code",
      "execution_count": null,
      "metadata": {
        "id": "nWDEJrI2dAvt"
      },
      "outputs": [],
      "source": [
        "# Insert Code Here"
      ]
    },
    {
      "cell_type": "markdown",
      "metadata": {
        "id": "o_jbkPNJctMA"
      },
      "source": [
        "**Exercise 5 - Now write a Program in which the user is asked what the French/Spanish/German is for certain words given in English. A score is then provided at the end.**\n",
        "\n"
      ]
    },
    {
      "cell_type": "code",
      "execution_count": null,
      "metadata": {
        "id": "qVKvR6GldgOq"
      },
      "outputs": [],
      "source": [
        "# Insert Code"
      ]
    },
    {
      "cell_type": "markdown",
      "metadata": {
        "id": "sWE6GIBydsz2"
      },
      "source": [
        "**12.0 Now, please study the Program below with the WHILE loop, and reaquaint yourself with the WHILE loop, as the next program you will write will include the WHILE loop**"
      ]
    },
    {
      "cell_type": "code",
      "execution_count": null,
      "metadata": {
        "id": "tRPzntJYeGIm"
      },
      "outputs": [],
      "source": [
        "# Program 11 - Using While Loop for Correct entry of Password\n",
        "# This is an example of Verification\n",
        "# Verification is Checking for Correct User Entry\n",
        "# Breaking out of a While Loop with a Flag variable\n",
        "def Program_5():\n",
        "    print(\"\\nProgram 5\")\n",
        "    print(\"\\nWhile Loop using a Flag Variable for guessing the Correct Password\")\n",
        "    Password = \"chocolate\"\n",
        "    Active = True\n",
        "    while Active == True:\n",
        "        User_Entry = input(\"Enter the Password \")\n",
        "        if User_Entry == Password:\n",
        "            Active = False\n",
        "        else:\n",
        "            print(\"Try again\")\n",
        "\n",
        "    print(\"Well done. You have entered the correct password\")"
      ]
    },
    {
      "cell_type": "markdown",
      "metadata": {
        "id": "tkYKR05OePJX"
      },
      "source": [
        "**Exercise 6 - Write a Program which invites an user to enter an username and password and invites the user to keep on trying until they have entered a correct combination**"
      ]
    },
    {
      "cell_type": "code",
      "execution_count": null,
      "metadata": {
        "id": "qoSG_QcDfJuP"
      },
      "outputs": [],
      "source": [
        "# Insert Code Here"
      ]
    },
    {
      "cell_type": "markdown",
      "metadata": {
        "id": "SgCvRkpRePlx"
      },
      "source": []
    },
    {
      "cell_type": "markdown",
      "metadata": {
        "id": "vBvBsXnEeP54"
      },
      "source": []
    },
    {
      "cell_type": "code",
      "execution_count": null,
      "metadata": {
        "id": "X0m_uzd-dcmD"
      },
      "outputs": [],
      "source": [
        "# Program 12 - Using a While Loop to see if Username and Password Exists\n",
        "# Here a While Loop is Combined with Dictionaries\n",
        "def Program_12():\n",
        "    print(\"\\nProgram 12\")\n",
        "    print(\"\\nWhile Loop using a Combined with Dictionaries to Check if User Input is within a certain set \")\n",
        "    User_details = {\n",
        "      'Anna':'Chocolate',\n",
        "      'Jane':'Banana',\n",
        "      'Emma':'Apples'\n",
        "      }\n",
        "\n",
        "    print(User_details)\n",
        "    Active = True\n",
        "    while Active == True:\n",
        "        Username = input(\"Enter Username \")\n",
        "        Password = input(\"Enter Password \")\n",
        "        for key, value in User_details.items():\n",
        "          if Username == key and Password == value:\n",
        "            Active = False\n",
        "        else:\n",
        "            print(\"Try again with valid User Details\")\n",
        "    print(\"Well Done. User Details Authenticated\")\n",
        "    return Username, Password"
      ]
    },
    {
      "cell_type": "code",
      "execution_count": null,
      "metadata": {
        "id": "_ieia4-jdwQt"
      },
      "outputs": [],
      "source": [
        "\n"
      ]
    },
    {
      "cell_type": "code",
      "execution_count": null,
      "metadata": {
        "id": "pHwOqxCie2vm"
      },
      "outputs": [],
      "source": [
        "# This is a Quiz\n",
        "# Create and add contents to the dictionary, my_dict{}\n",
        "\n",
        "my_dict ={}\n",
        "my_dict[\"What is French for bread?\"]=\"La pain\"\n",
        "my_dict[\"What is the French for house\"]= \"La maison\"\n",
        "my_dict[\"Which is the French for the number five?\"]=\"cinq\"\n",
        "\n",
        "counter = 0\n",
        "# Loop round the questions\n",
        "# Ask for userinput\n",
        "# If the answer is correct then add one to the counter\n",
        "\n",
        "for k, v in my_dict.items():\n",
        "          #  print(k, v)\n",
        "           print(k)\n",
        "           ans = input()\n",
        "           if ans == v:\n",
        "            print(\"Correct\")\n",
        "            counter = counter +1\n",
        "           else:\n",
        "            print(\"Incorrect\")\n",
        "\n",
        "#Print out the score, note len(my_dict) refers to the number of questions\n",
        "\n",
        "print('You have scored', counter, ' out of ', len(my_dict))"
      ]
    }
  ],
  "metadata": {
    "colab": {
      "provenance": [],
      "authorship_tag": "ABX9TyOEh6PBgvclYMW7wI2QWN6L",
      "include_colab_link": true
    },
    "kernelspec": {
      "display_name": "Python 3",
      "name": "python3"
    },
    "language_info": {
      "name": "python"
    }
  },
  "nbformat": 4,
  "nbformat_minor": 0
}