{
  "nbformat": 4,
  "nbformat_minor": 0,
  "metadata": {
    "colab": {
      "provenance": [],
      "authorship_tag": "ABX9TyNFSAH7Awcb0XqEWwsApdsm",
      "include_colab_link": true
    },
    "kernelspec": {
      "name": "python3",
      "display_name": "Python 3"
    },
    "language_info": {
      "name": "python"
    }
  },
  "cells": [
    {
      "cell_type": "markdown",
      "metadata": {
        "id": "view-in-github",
        "colab_type": "text"
      },
      "source": [
        "<a href=\"https://colab.research.google.com/github/lnandi1/Python_Tutorials_2022/blob/main/Master_Lab_9_Strings_Questions_Answers.ipynb\" target=\"_parent\"><img src=\"https://colab.research.google.com/assets/colab-badge.svg\" alt=\"Open In Colab\"/></a>"
      ]
    },
    {
      "cell_type": "markdown",
      "metadata": {
        "id": "CLsgb9YfNJSg"
      },
      "source": [
        "## **Strings**"
      ]
    },
    {
      "cell_type": "markdown",
      "metadata": {
        "id": "hSXjuF86VZeH"
      },
      "source": [
        "## **1.0 Assigning Values to Strings**"
      ]
    },
    {
      "cell_type": "code",
      "metadata": {
        "colab": {
          "base_uri": "https://localhost:8080/"
        },
        "id": "n2fkYta2NLog",
        "outputId": "5b2c9a13-7f3a-421b-ab80-46fddc62211e"
      },
      "source": [
        "# Program 1 - Assigning Strings\n",
        "Word = \"Decomposition\"\n",
        "print(\"Word \", Word)\n",
        "Phrase = \"I love Python\"\n",
        "print(\"Phrase \", Phrase)\n"
      ],
      "execution_count": null,
      "outputs": [
        {
          "output_type": "stream",
          "text": [
            "Word  Decomposition\n",
            "Phrase  I love Python\n"
          ],
          "name": "stdout"
        }
      ]
    },
    {
      "cell_type": "markdown",
      "metadata": {
        "id": "Rhujl2VfOIpU"
      },
      "source": [
        "## **2.0 Accessing individual items/letters in the Strings**"
      ]
    },
    {
      "cell_type": "code",
      "metadata": {
        "colab": {
          "base_uri": "https://localhost:8080/"
        },
        "id": "QcJ5y9nDNjlK",
        "outputId": "8f06e866-434e-4421-c419-768413678443"
      },
      "source": [
        "# Program 2 - Accessing Individual Characters in a String\n",
        "Word = \"Decomposition\"\n",
        "print(Word)\n",
        "First_Letter = Word[0]\n",
        "print(\"First Letter \", First_Letter)\n",
        "Second_Letter = Word[1]\n",
        "print(\"Second Letter \", Second_Letter)\n",
        "Fifth_Letter = Word[4]\n",
        "print(\"Fifth Letter \", Fifth_Letter)"
      ],
      "execution_count": null,
      "outputs": [
        {
          "output_type": "stream",
          "name": "stdout",
          "text": [
            "Decomposition\n",
            "First Letter  D\n",
            "Second Letter  e\n",
            "Fifth Letter  m\n"
          ]
        }
      ]
    },
    {
      "cell_type": "markdown",
      "metadata": {
        "id": "G6edZnioLlvZ"
      },
      "source": [
        "**Exercise 1 - Write a Program to:**\n",
        "\n",
        "\n",
        "1.   Assign a String to a Variable of your Choice - the String should be 8 characters.\n",
        "2.   Display the 1st character of the string.\n",
        "3.   Display the 4th character of the string.\n",
        "4.   Display the last character of the string.\n",
        "5.   Display the number of characters in the string. For this you will need to use the len keyword.\n",
        "\n"
      ]
    },
    {
      "cell_type": "code",
      "metadata": {
        "id": "k-tiWc-ys2OM"
      },
      "source": [
        "# Insert Code Here"
      ],
      "execution_count": null,
      "outputs": []
    },
    {
      "cell_type": "markdown",
      "metadata": {
        "id": "k9PKb0l1S4z-"
      },
      "source": [
        "## **3.0 What happens when you try and access a character via an index which does not exist**\n",
        "**You get an error message - please look at the following below:-**"
      ]
    },
    {
      "cell_type": "code",
      "metadata": {
        "colab": {
          "base_uri": "https://localhost:8080/",
          "height": 214
        },
        "id": "_3_XhzSdTYqV",
        "outputId": "22b40302-5890-429c-ec5c-ab599f3dbd3b"
      },
      "source": [
        "# Program 3\n",
        "Food = \"Egg\"\n",
        "Letter = Food[3]"
      ],
      "execution_count": null,
      "outputs": [
        {
          "output_type": "error",
          "ename": "IndexError",
          "evalue": "ignored",
          "traceback": [
            "\u001b[0;31m---------------------------------------------------------------------------\u001b[0m",
            "\u001b[0;31mIndexError\u001b[0m                                Traceback (most recent call last)",
            "\u001b[0;32m<ipython-input-10-788aec251a6d>\u001b[0m in \u001b[0;36m<module>\u001b[0;34m()\u001b[0m\n\u001b[1;32m      1\u001b[0m \u001b[0;31m# Program 3\u001b[0m\u001b[0;34m\u001b[0m\u001b[0;34m\u001b[0m\u001b[0;34m\u001b[0m\u001b[0m\n\u001b[1;32m      2\u001b[0m \u001b[0mFood\u001b[0m \u001b[0;34m=\u001b[0m \u001b[0;34m\"Egg\"\u001b[0m\u001b[0;34m\u001b[0m\u001b[0;34m\u001b[0m\u001b[0m\n\u001b[0;32m----> 3\u001b[0;31m \u001b[0mLetter\u001b[0m \u001b[0;34m=\u001b[0m \u001b[0mFood\u001b[0m\u001b[0;34m[\u001b[0m\u001b[0;36m3\u001b[0m\u001b[0;34m]\u001b[0m\u001b[0;34m\u001b[0m\u001b[0;34m\u001b[0m\u001b[0m\n\u001b[0m",
            "\u001b[0;31mIndexError\u001b[0m: string index out of range"
          ]
        }
      ]
    },
    {
      "cell_type": "markdown",
      "metadata": {
        "id": "eXWBldOOVoqi"
      },
      "source": [
        "## **4.0 Negative Indexing to Access a Character in a String**"
      ]
    },
    {
      "cell_type": "code",
      "metadata": {
        "id": "9KNE1GAoWb_1",
        "colab": {
          "base_uri": "https://localhost:8080/"
        },
        "outputId": "faeffb9a-d9ff-402d-93d6-5991f224a8c4"
      },
      "source": [
        "# Program 4\n",
        "Word = 'Output'\n",
        "print(Word[-1])\n",
        "print(Word[-2])\n",
        "print(Word[-3])"
      ],
      "execution_count": null,
      "outputs": [
        {
          "output_type": "stream",
          "name": "stdout",
          "text": [
            "t\n",
            "u\n",
            "p\n"
          ]
        }
      ]
    },
    {
      "cell_type": "markdown",
      "metadata": {
        "id": "0hPgIHllOg85"
      },
      "source": [
        "## **5.0 Slicing a String**"
      ]
    },
    {
      "cell_type": "code",
      "metadata": {
        "id": "BnZh-CIQOFkm",
        "colab": {
          "base_uri": "https://localhost:8080/"
        },
        "outputId": "998a27e9-c9f2-47c7-f567-0e37578cb9b5"
      },
      "source": [
        "#Program 5\n",
        "Name = \"Palindrome\"\n",
        "Slice = Name[0:6:1]\n",
        "print(Slice)\n",
        "Slice = Name[0:6:2]\n",
        "print(Slice)\n",
        "Slice = Name[0:6:3]\n",
        "print(Slice)"
      ],
      "execution_count": null,
      "outputs": [
        {
          "output_type": "stream",
          "name": "stdout",
          "text": [
            "Palind\n",
            "Pln\n",
            "Pi\n"
          ]
        }
      ]
    },
    {
      "cell_type": "code",
      "metadata": {
        "id": "ChVTkSgVUzyE",
        "colab": {
          "base_uri": "https://localhost:8080/"
        },
        "outputId": "1bf1907a-422b-4070-c081-01c92f4fcfb1"
      },
      "source": [
        "#Program 6\n",
        "Name = \"Iteration\"\n",
        "Slice = Name[2:7:1]\n",
        "print(Slice)\n",
        "Slice = Name[2:7:2]\n",
        "print(Slice)\n",
        "Slice = Name[2:7:3]\n",
        "print(Slice)"
      ],
      "execution_count": null,
      "outputs": [
        {
          "output_type": "stream",
          "name": "stdout",
          "text": [
            "erati\n",
            "eai\n",
            "et\n"
          ]
        }
      ]
    },
    {
      "cell_type": "markdown",
      "metadata": {
        "id": "1DA_LxLGMOhc"
      },
      "source": [
        "**Exercise 2 - Please write a program which:-**\n",
        "1.  Assigns the string \"ITERATION** to the variable Word.\n",
        "2.  Extract the 1st, 2nd, 3rd characters (\"ITE\")\n",
        "3.  Extract the 4th,5th, 6th characters (\"RAT\")\n",
        "4.  Exract the  2nd, 4th and 6th characters (\"TRT\")\n"
      ]
    },
    {
      "cell_type": "code",
      "metadata": {
        "id": "2b28HZRMs-KJ"
      },
      "source": [
        "#Insert Code Here"
      ],
      "execution_count": null,
      "outputs": []
    },
    {
      "cell_type": "markdown",
      "metadata": {
        "id": "t3wr8G6jVnbb"
      },
      "source": [
        "## **6.0 Searching for Term within a String**"
      ]
    },
    {
      "cell_type": "code",
      "metadata": {
        "id": "MVytPoTtV6RM"
      },
      "source": [
        "#Program 7\n",
        "spam = \"Congratulations. You have won a Million Dollars.\"\n",
        "print(\"Million\" in spam)\n",
        "print(\"wo\" in spam)\n",
        "print(\"million\" in spam)\n",
        "print(\"dollars \" in spam)"
      ],
      "execution_count": null,
      "outputs": []
    },
    {
      "cell_type": "markdown",
      "metadata": {
        "id": "03pB8lIONURb"
      },
      "source": [
        "**Exercise 3 - Write a Program which:-**\n",
        "\n",
        "\n",
        "1.   Assigns the string \"To be or not to be, that is the question\" to the variable Shakespheare.\n",
        "2.   Write a statement to find out whether the term \"answer\" is in the string.\n",
        "3.   Write a statement to find out whether the term \"that\" is in the string.\n",
        "\n"
      ]
    },
    {
      "cell_type": "code",
      "metadata": {
        "id": "o6jbXVrHtEk1"
      },
      "source": [
        "#Insert Code Here"
      ],
      "execution_count": null,
      "outputs": []
    },
    {
      "cell_type": "code",
      "metadata": {
        "id": "cYH0NL4SXETu",
        "colab": {
          "base_uri": "https://localhost:8080/"
        },
        "outputId": "8c81958f-a64a-49ed-dcc0-43ddb4be0342"
      },
      "source": [
        "# Program 8\n",
        "spam = \"Congratulations. You have won a Million Dollars.\"\n",
        "search_term = input(\"Enter search term: \")\n",
        "if search_term in spam:\n",
        "  print(\"Term found\")\n",
        "else:\n",
        "  print(\"Term not found\")"
      ],
      "execution_count": null,
      "outputs": [
        {
          "output_type": "stream",
          "text": [
            "Enter search term: Dollars\n",
            "Term found\n"
          ],
          "name": "stdout"
        }
      ]
    },
    {
      "cell_type": "markdown",
      "metadata": {
        "id": "Y4Pwxhz5Xl8N"
      },
      "source": [
        "**7.0 Looping over each character in a string**"
      ]
    },
    {
      "cell_type": "code",
      "metadata": {
        "id": "rkveZlHqXr2c"
      },
      "source": [
        "#Program 9\n",
        "message = \"Hi!\"\n",
        "for char in message:\n",
        "  print(char)"
      ],
      "execution_count": null,
      "outputs": []
    },
    {
      "cell_type": "markdown",
      "metadata": {
        "id": "yGp4NN17OLLK"
      },
      "source": [
        "**Exercise 4 - Write a Program which does the following:-**\n",
        "\n",
        "\n",
        "1.   Assigns the phrase \"I am the captain of my fate. I am the master of my soul\" to the variable Poem\n",
        "2.   Then work out how many times the letter 'm' occurs in the phrase (you will need to use the FOR loop for this)\n",
        "\n"
      ]
    },
    {
      "cell_type": "code",
      "metadata": {
        "id": "ZRrYEPUNbFTt"
      },
      "source": [
        "# Insert Code Here"
      ],
      "execution_count": null,
      "outputs": []
    },
    {
      "cell_type": "markdown",
      "metadata": {
        "id": "5BuiFrxWW6EN"
      },
      "source": [
        "**8.0 Code that prints the ordinal value for each character in a string**"
      ]
    },
    {
      "cell_type": "code",
      "metadata": {
        "id": "-OnNsGSPYtbP",
        "colab": {
          "base_uri": "https://localhost:8080/"
        },
        "outputId": "efc0a576-9494-4033-afc8-4db591a5c967"
      },
      "source": [
        "# Program 10\n",
        "message = \"ABC 123 !?#\"\n",
        "for char in message:\n",
        "  print(ord(char),end=\" \")"
      ],
      "execution_count": null,
      "outputs": [
        {
          "output_type": "stream",
          "text": [
            "65 66 67 32 49 50 51 32 33 63 35 "
          ],
          "name": "stdout"
        }
      ]
    },
    {
      "cell_type": "markdown",
      "metadata": {
        "id": "FSSXpZZhYIhC"
      },
      "source": [
        "**9.0 Splitting Strings using the split() method**"
      ]
    },
    {
      "cell_type": "code",
      "metadata": {
        "id": "HrX-z6-nYa3i",
        "colab": {
          "base_uri": "https://localhost:8080/"
        },
        "outputId": "62b7df85-2ed5-4c2b-a570-49201607985e"
      },
      "source": [
        "#Program 11\n",
        "Einstein_Quote = \"In the middle of difficulty lies opportunity.\"\n",
        "words = Einstein_Quote.split()\n",
        "\n",
        "print(words[0])\n",
        "print(words[1])\n",
        "print(words[2])\n",
        "print(words[6])\n",
        "print(words[-1])"
      ],
      "execution_count": null,
      "outputs": [
        {
          "output_type": "stream",
          "text": [
            "In\n",
            "the\n",
            "middle\n",
            "opportunity.\n",
            "opportunity.\n"
          ],
          "name": "stdout"
        }
      ]
    },
    {
      "cell_type": "markdown",
      "metadata": {
        "id": "XWnt5IXDZ7bA"
      },
      "source": [
        "**10.0 Replacing Strings Using the replace() method**"
      ]
    },
    {
      "cell_type": "code",
      "metadata": {
        "id": "7NK5ONF-W5XD",
        "colab": {
          "base_uri": "https://localhost:8080/"
        },
        "outputId": "f2a2bff5-ce88-4bd4-bc03-fcc9eca76494"
      },
      "source": [
        "# Program 12\n",
        "Phrase = \"The cat sat on the mat\"\n",
        "print(\"Phrase before replacing \",Phrase)\n",
        "Phrase = Phrase.replace(\"the\",\"a\")\n",
        "print()\n",
        "print(\"Phrase after replacing \",Phrase)"
      ],
      "execution_count": null,
      "outputs": [
        {
          "output_type": "stream",
          "text": [
            "Phrase before replacing  The cat sat on the mat\n",
            "\n",
            "Phrase after replacing  The cat sat on a mat\n"
          ],
          "name": "stdout"
        }
      ]
    },
    {
      "cell_type": "markdown",
      "metadata": {
        "id": "3ApfA-DOfEj3"
      },
      "source": [
        "**11.0 Remove Characters in Strings by using the replace() method**"
      ]
    },
    {
      "cell_type": "code",
      "metadata": {
        "colab": {
          "base_uri": "https://localhost:8080/"
        },
        "id": "hulpen8vfXeR",
        "outputId": "ce2544c9-560c-4a7d-c467-4a4bba3352f7"
      },
      "source": [
        "# Program 13\n",
        "Phrase = \"To be, or not to be\\n\"\n",
        "Phrase = Phrase + \"That is the Question\"\n",
        "print(\"Phrase before replacing \", Phrase)\n",
        "Phrase = Phrase.replace(\"\\n\",\" \")\n",
        "Phrase = Phrase.replace(\",\",\"\")\n",
        "print()\n",
        "print(Phrase)"
      ],
      "execution_count": null,
      "outputs": [
        {
          "output_type": "stream",
          "text": [
            "Phrase before replacing  To be, or not to be\n",
            "That is the Question\n",
            "\n",
            "To be or not to be That is the Question\n"
          ],
          "name": "stdout"
        }
      ]
    },
    {
      "cell_type": "markdown",
      "metadata": {
        "id": "sbXW__V9dift"
      },
      "source": [
        "**12.0 Exercise 5 - Let us Build a Program which counts the number of unique words in a file**"
      ]
    },
    {
      "cell_type": "code",
      "metadata": {
        "id": "hoG9TTZNdwWQ"
      },
      "source": [
        "def Create_File():\n",
        "  with open(\"Space.txt\",\"w\") as file:\n",
        "    file.write(\"We choose to go to the moon.\\n\")\n",
        "    file.write(\"We choose to go to the moon in this decade\\n\")\n",
        "    file.write(\"and do the other things, not because they are easy,\\n\")\n",
        "    file.write(\"but because they are hard,\\n\")\n",
        "    file.write(\"because that goal will serve to organize\\n\")\n",
        "    file.write(\"and measure the best of our energies\\n\")\n",
        "    file.write(\"and skills, because that challenge\\n\")\n",
        "    file.write(\"is one that we are willing to accept,\\n\")\n",
        "    file.write(\"one we are unwilling to postpone,\\n\")\n",
        "    file.write(\"and one which we intend to win,\\n\")\n",
        "    file.write(\"and the others, too.\\n\")\n",
        "\n",
        "\n",
        "def get_words_from_file(filename):\n",
        "#   with open(filename) as file:\n",
        "#     text = file.read()\n",
        "\n",
        "# Write a statement which replaces the new lines with a space in the text\n",
        "# Write a statement which removes the commas in the text\n",
        "# Write a statement which removes the full stops in the text\n",
        "# Write a statement which converts all the characters to lowercase in the text\n",
        "\n",
        "#   text=text.lower()\n",
        "#   words = text.split(\" \") #This converts str to a list\n",
        "#  write a statement which sorts the list words\n",
        "# write a statement which returns words\n",
        "\n",
        "\n",
        "def get_unique_words(words):\n",
        "  unique_words =[]\n",
        "  unique_words.append(words[0])\n",
        "\n",
        "  for i in range(1, len(words)):\n",
        "    if words[i] == words[i-1]:\n",
        "      continue\n",
        "    else:\n",
        "      unique_words.append(words[i])\n",
        "  return unique_words\n",
        "\n",
        "\n",
        "def main():\n",
        "  Create_File()\n",
        "  filename = \"Space.txt\"\n",
        "  print(\"The Word Counter Program\\n\")\n",
        "\n",
        "  # get words and unique words\n",
        "  words  = get_words_from_file(filename)\n",
        "  unique_words = get_unique_words(words)\n",
        "\n",
        "  #display number of words and unique words\n",
        "  print(\"Number of words = \", len(words))\n",
        "  print(\"Number of unique words \",len(unique_words))\n",
        "\n",
        "  # display unique words and their word counts\n",
        "  print(\"Unique Word Occurences:\")\n",
        "  for word in unique_words:\n",
        "    print(word)\n",
        "\n",
        "\n",
        "# main()\n",
        "\n",
        "\n",
        "\n",
        "\n",
        "\n",
        "\n"
      ],
      "execution_count": null,
      "outputs": []
    },
    {
      "cell_type": "code",
      "metadata": {
        "colab": {
          "base_uri": "https://localhost:8080/"
        },
        "id": "ZfLkK22QSp_Y",
        "outputId": "03ccdff3-be77-44b1-f573-cb62c2f1556f"
      },
      "source": [
        "# Program 14\n",
        "def Create_File():\n",
        "  with open(\"Space.txt\",\"w\") as file:\n",
        "    file.write(\"We choose to go to the moon.\\n\")\n",
        "    file.write(\"We choose to go to the moon in this decade.\\n\")\n",
        "    file.write(\"and do the other things, not because they are easy.\\n\")\n",
        "    file.write(\"but because they are hard.\\n\")\n",
        "    file.write(\"because that goal will serve to organize.\\n\")\n",
        "    file.write(\"and measure the best of our energies.\\n\")\n",
        "    file.write(\"and skills, because that challenge.\\n\")\n",
        "    file.write(\"is one that we are willing to accept\\n\")\n",
        "    file.write(\"one we are unwilling to postpone\\n\")\n",
        "    file.write(\"and one which we intend to win\\n\")\n",
        "    file.write(\"and the others, too.\\n\")\n",
        "\n",
        "\n",
        "\n",
        "def get_words_from_file(filename):\n",
        "  with open(filename) as file:\n",
        "         text = file.read()\n",
        "\n",
        "# Write a statement which replaces the new lines with a space in the text\n",
        "# Write a statement which removes the comma in the text\n",
        "# Write a statement which removes the full stops in the text\n",
        "# Write a statement which converts all the characters to lowercase in the text\n",
        "\n",
        "  text = text.replace(\"\\n\",\" \")\n",
        "  text = text.replace(\",\",\"\")\n",
        "  text = text.replace(\".\",\"\")\n",
        "  text = text.lower()\n",
        "\n",
        "  words = text.split(\" \")\n",
        "  words.sort()\n",
        "  return words\n",
        "\n",
        "#   words = text.split(\" \") #This converts str to a list\n",
        "#  write a statement which sorts the list words\n",
        "# write a statement which returns words\n",
        "\n",
        "\n",
        "def get_unique_words(words):\n",
        "  unique_words =[]\n",
        "  unique_words.append(words[0])\n",
        "\n",
        "  for i in range(1, len(words)):\n",
        "    if words[i] == words[i-1]:\n",
        "      continue\n",
        "    else:\n",
        "      unique_words.append(words[i])\n",
        "  return unique_words\n",
        "\n",
        "def main():\n",
        "  Create_File()\n",
        "  filename = \"Space.txt\"\n",
        "  print(\"The Word Counter Program\\n\")\n",
        "\n",
        "  # get words and unique words\n",
        "  words  = get_words_from_file(filename)\n",
        "  unique_words = get_unique_words(words)\n",
        "\n",
        "  #display number of words and unique words\n",
        "  print(\"Number of words = \", len(words))\n",
        "  print(\"Number of unique words \",len(unique_words))\n",
        "\n",
        "  # display unique words and their word counts\n",
        "  print(\"Unique Word Occurences:\")\n",
        "  for word in unique_words:\n",
        "    print(word)\n",
        "\n",
        "\n",
        "\n",
        "main()\n",
        "\n",
        "\n"
      ],
      "execution_count": null,
      "outputs": [
        {
          "output_type": "stream",
          "text": [
            "The Word Counter Program\n",
            "\n",
            "Number of words =  77\n",
            "Number of unique words  44\n",
            "Unique Word Occurences:\n",
            "\n",
            "accept\n",
            "and\n",
            "are\n",
            "because\n",
            "best\n",
            "but\n",
            "challenge\n",
            "choose\n",
            "decade\n",
            "do\n",
            "easy\n",
            "energies\n",
            "go\n",
            "goal\n",
            "hard\n",
            "in\n",
            "intend\n",
            "is\n",
            "measure\n",
            "moon\n",
            "not\n",
            "of\n",
            "one\n",
            "organize\n",
            "other\n",
            "others\n",
            "our\n",
            "postpone\n",
            "serve\n",
            "skills\n",
            "that\n",
            "the\n",
            "they\n",
            "things\n",
            "this\n",
            "to\n",
            "too\n",
            "unwilling\n",
            "we\n",
            "which\n",
            "will\n",
            "willing\n",
            "win\n"
          ],
          "name": "stdout"
        }
      ]
    }
  ]
}