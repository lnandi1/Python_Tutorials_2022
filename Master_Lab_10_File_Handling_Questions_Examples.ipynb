{
  "cells": [
    {
      "cell_type": "markdown",
      "metadata": {
        "id": "view-in-github",
        "colab_type": "text"
      },
      "source": [
        "<a href=\"https://colab.research.google.com/github/lnandi1/Python_Tutorials_2022/blob/main/Master_Lab_10_File_Handling_Questions_Examples.ipynb\" target=\"_parent\"><img src=\"https://colab.research.google.com/assets/colab-badge.svg\" alt=\"Open In Colab\"/></a>"
      ]
    },
    {
      "cell_type": "markdown",
      "metadata": {
        "id": "xx_EjtsbfTTX"
      },
      "source": [
        "**<H1> File Handling Questions </H1>**"
      ]
    },
    {
      "cell_type": "markdown",
      "source": [
        "##**Section 1.0 Writing and Reading to files**\n",
        "Below are programs which show you how to WRITE and READ to Files. Writing and Reading are File Handling operations"
      ],
      "metadata": {
        "id": "iTIdZFaGhfjC"
      }
    },
    {
      "cell_type": "markdown",
      "source": [
        "\n",
        "**This will open a file called members.txt. The \"w\" stands for \"write\" and if the file does not exist\n",
        "the \"w\" mode will create it and if it exists then, this mode will erase all existing data.**"
      ],
      "metadata": {
        "id": "ANWkhKAuiiTa"
      }
    },
    {
      "cell_type": "code",
      "source": [
        "# PROGRAM 1\n",
        "# Writing to a Text File\n",
        "with open(\"members.txt\", \"w\") as file:\n",
        "    file.write(\"Alex Jones\\n\")"
      ],
      "metadata": {
        "id": "_qe-B60oi9EC"
      },
      "execution_count": null,
      "outputs": []
    },
    {
      "cell_type": "markdown",
      "source": [
        "**If the file does not exist then this mode creates it. If the file exist then this mode appends (\"a\") mode data\n",
        "to the end of the file**"
      ],
      "metadata": {
        "id": "TNfpoTKzmQoJ"
      }
    },
    {
      "cell_type": "code",
      "source": [
        "# PROGRAM 2\n",
        "# Appending to a File\n",
        "with open(\"members.txt\",\"a\") as file:\n",
        "    file.write(\"Jane Smith\\n\")"
      ],
      "metadata": {
        "id": "0th1DyxTmRqF"
      },
      "execution_count": null,
      "outputs": []
    },
    {
      "cell_type": "markdown",
      "metadata": {
        "id": "Rkd2kCqAfTTa"
      },
      "source": [
        "**Question1 - Write a Program which creates a file called Cinemas.txt and populate it with your 3 favourite films.**\n"
      ]
    },
    {
      "cell_type": "code",
      "source": [
        "# Insert Code Here"
      ],
      "metadata": {
        "id": "_Nwb-GWWkpLz"
      },
      "execution_count": null,
      "outputs": []
    },
    {
      "cell_type": "markdown",
      "source": [
        "**Question 2 - Now, write a Program which adds 2 more films to the file Cinema.txt.**"
      ],
      "metadata": {
        "id": "zZFE-22MmlsT"
      }
    },
    {
      "cell_type": "code",
      "source": [
        "# Insert Code Here"
      ],
      "metadata": {
        "id": "q1QRCJzImvcN"
      },
      "execution_count": null,
      "outputs": []
    },
    {
      "cell_type": "markdown",
      "source": [
        "##**Section 2.0 - Code which Reads the Contents in Different Ways from a File and then Outputted:-**\n",
        "1.   Contents are outputted line by line\n",
        "2.   Contents Read as a String and then Outputted\n",
        "3.   Contents places into a List and then Outputted\n",
        "4.   Read each line of a file and then Output\n",
        "\n"
      ],
      "metadata": {
        "id": "sk56OiGfkyuj"
      }
    },
    {
      "cell_type": "code",
      "source": [
        "# PROGRAM 3\n",
        "# Using a FOR statement to read each line of the file\n",
        "with open(\"members.txt\") as file:\n",
        "    for line in file:\n",
        "        print(line, end=\"\")\n",
        "\n",
        "    print()"
      ],
      "metadata": {
        "colab": {
          "base_uri": "https://localhost:8080/"
        },
        "id": "JTx9WucKn7rz",
        "outputId": "de91de29-29fd-4a9e-aa44-1430322a50d8"
      },
      "execution_count": null,
      "outputs": [
        {
          "output_type": "stream",
          "name": "stdout",
          "text": [
            "Alex Jones\n",
            "Jane Smith\n",
            "\n"
          ]
        }
      ]
    },
    {
      "cell_type": "code",
      "source": [
        "# PROGRAM 4\n",
        "# How to read the entire file as a string\n",
        "with open(\"members.txt\") as file:\n",
        "    contents = file.read()\n",
        "    print(contents)"
      ],
      "metadata": {
        "colab": {
          "base_uri": "https://localhost:8080/"
        },
        "id": "Luzcr78UoM3B",
        "outputId": "a377262b-e554-4f16-e1fb-888438a3c4fe"
      },
      "execution_count": null,
      "outputs": [
        {
          "output_type": "stream",
          "name": "stdout",
          "text": [
            "Alex Jones\n",
            "Jane Smith\n",
            "\n"
          ]
        }
      ]
    },
    {
      "cell_type": "code",
      "source": [
        "# PROGRAM 5\n",
        "# How to read the entire file as a list\n",
        "with open(\"members.txt\") as file:\n",
        "    members = file.readlines();\n",
        "print(members[0], end=\"\")\n",
        "print(members[1])"
      ],
      "metadata": {
        "colab": {
          "base_uri": "https://localhost:8080/"
        },
        "id": "Ifrbp_LipYD1",
        "outputId": "04269a8c-cd7d-4cd8-8828-c7a51915ab48"
      },
      "execution_count": null,
      "outputs": [
        {
          "output_type": "stream",
          "name": "stdout",
          "text": [
            "Alex Jones\n",
            "Jane Smith\n",
            "\n"
          ]
        }
      ]
    },
    {
      "cell_type": "code",
      "source": [
        "# PROGRAM 6\n",
        "# How to read each line of a file\n",
        "with open(\"members.txt\") as file:\n",
        "    member1=file.readline();\n",
        "    print(member1, end =\"\")\n",
        "    member2 = file.readline()\n",
        "    print(member2)"
      ],
      "metadata": {
        "colab": {
          "base_uri": "https://localhost:8080/"
        },
        "id": "vSl3IQiupu5p",
        "outputId": "ac47bd0e-5dd8-400e-9b1b-687eaf93b192"
      },
      "execution_count": null,
      "outputs": [
        {
          "output_type": "stream",
          "name": "stdout",
          "text": [
            "Alex Jones\n",
            "Jane Smith\n",
            "\n"
          ]
        }
      ]
    },
    {
      "cell_type": "markdown",
      "metadata": {
        "id": "QC3szZnLfTTc"
      },
      "source": [
        "**Question 3 - Write a Program which reads the file Cinema.txt and outputs the contents line by line.**\n"
      ]
    },
    {
      "cell_type": "code",
      "source": [
        "#Insert Code Here"
      ],
      "metadata": {
        "id": "zm0o6KXyqYua"
      },
      "execution_count": null,
      "outputs": []
    },
    {
      "cell_type": "markdown",
      "metadata": {
        "id": "RTCQkl_WfTTf"
      },
      "source": [
        "**Question 4 - Write a Program which reads the contents of the file Cinema.txt into a list and then outputs the list in alphabetical order.**\n",
        "<br>Note if there is a list called members then to sort it in alphabetical order use:- members = sorted(members)"
      ]
    },
    {
      "cell_type": "code",
      "source": [
        "#Insert Code Here"
      ],
      "metadata": {
        "id": "u6p691pnql0C"
      },
      "execution_count": null,
      "outputs": []
    },
    {
      "cell_type": "markdown",
      "metadata": {
        "id": "i9fzkSHlfTTh"
      },
      "source": [
        "**Question 5 -  Write a Function called Favourite_Books which invites the user to enter the names of\n",
        "5  favourite books and writes the names to a file called Book.txt.\n",
        "(Afterwards check that the file Book.txt is created with the relevant contents).So, the file Books.txt could contain:-**\n",
        "\n",
        "1.   The Autobiography of Bill Gates\n",
        "2.   Explaining Big Data\n",
        "3.   Artificial Intelligence Made Simple\n",
        "4.   Elon Musk in his own words.\n",
        "5.   The Bitcoin Revolution\n",
        "\n",
        "\n"
      ]
    },
    {
      "cell_type": "code",
      "source": [
        "#Insert Code Here"
      ],
      "metadata": {
        "id": "VSaYGSAHqwNh"
      },
      "execution_count": null,
      "outputs": []
    },
    {
      "cell_type": "markdown",
      "source": [
        "##**Section 3.0 - Reading from File and storing the Data which is Read.**"
      ],
      "metadata": {
        "id": "6U2kNB1MXvMC"
      }
    },
    {
      "cell_type": "code",
      "source": [
        "# PROGRAM 7\n",
        "# How to write and read a list of strings\n",
        "members = [\"Alex Taylor\",\"Royal Eden\"]\n",
        "with open(\"members.txt\",\"a\") as file:\n",
        "    for m in members:\n",
        "        file.write(m + \"\\n\")\n"
      ],
      "metadata": {
        "id": "bCKwvEc0X8qH"
      },
      "execution_count": null,
      "outputs": []
    },
    {
      "cell_type": "code",
      "source": [
        "# PROGRAM 8\n",
        "# How to Read the Lines of a File into a List\n",
        "members = []\n",
        "with open(\"members.txt\") as file:\n",
        "    for line in file:\n",
        "        line = line.replace(\"\\n\",\"\")\n",
        "        members.append(line)\n",
        "print(members)"
      ],
      "metadata": {
        "id": "EIjRM9lJZgzH"
      },
      "execution_count": null,
      "outputs": []
    },
    {
      "cell_type": "code",
      "source": [
        "# PROGRAM 9\n",
        "# How to write and read a list of numbers to a file\n",
        "# How to write the numbers\n",
        "years = [2016,2017,2019,2020,2021]\n",
        "with open(\"years.txt\",\"w\") as years_file:\n",
        "    for year in years:\n",
        "        years_file.write(str(year) + \"\\n\")  # Converts int to str\n"
      ],
      "metadata": {
        "id": "mNv8V6zeZkMx"
      },
      "execution_count": null,
      "outputs": []
    },
    {
      "cell_type": "code",
      "source": [
        "# PROGRAM 10\n",
        "# How to read the items in a list from a file\n",
        "years = []\n",
        "with open(\"years.txt\") as file:\n",
        "    for line in file:\n",
        "        line = line.replace(\"\\n\",\"\")\n",
        "        years.append(int(line))    # Converts str to int\n",
        "print(years)"
      ],
      "metadata": {
        "id": "EFCw52tDZsGr"
      },
      "execution_count": null,
      "outputs": []
    },
    {
      "cell_type": "markdown",
      "source": [
        "##**Section 4.0 - Code related to Producing a  CSV File (Comma Separated Files) from a 2-D Array**"
      ],
      "metadata": {
        "id": "baVJQWBFrF8D"
      }
    },
    {
      "cell_type": "code",
      "source": [
        "# PROGRAM 11\n",
        "# Creating a 2-D list with 3 rows and 2 columns\n",
        "movies = [[\"The White Swan\", 2016],\n",
        "         [\"Royal Blues\", 2019],\n",
        "         [\"Time Machines\", 2020]]\n",
        "# Importing the CSV Module\n",
        "import csv\n",
        "# Writing the List to a CSV File\n",
        "with open(\"movies.csv\",\"w\", newline=\"\") as file:\n",
        "    writer = csv.writer(file)\n",
        "    writer.writerows(movies)"
      ],
      "metadata": {
        "id": "Hg5Ep6UqsT3Z"
      },
      "execution_count": null,
      "outputs": []
    },
    {
      "cell_type": "markdown",
      "metadata": {
        "id": "LFfouSBQfTTj"
      },
      "source": [
        "**Question 6 - Write a Function called Inventions_Year() which reads the contents\n",
        "of the following 2-D array and stores it in a file called Inventions.csv.**\n"
      ]
    },
    {
      "cell_type": "markdown",
      "source": [
        "Inventions = [[\"Television\",1927], [\"Computer\",  1832],[\"5G\",2013],[\"WWW\", 1989]]"
      ],
      "metadata": {
        "id": "ma_2obRNusG_"
      }
    },
    {
      "cell_type": "code",
      "source": [
        "##Insert Code"
      ],
      "metadata": {
        "id": "ohtx-w2PtQdY"
      },
      "execution_count": null,
      "outputs": []
    },
    {
      "cell_type": "markdown",
      "metadata": {
        "id": "cCUjgbWSfTTk"
      },
      "source": [
        "**Question 7 - Write a Function which reads the contents of the file\n",
        "Inventions.txt which outputs the contents of the file Inventions.csv**\n"
      ]
    },
    {
      "cell_type": "code",
      "source": [
        "##Insert Code"
      ],
      "metadata": {
        "id": "CMtfYpxZtaQB"
      },
      "execution_count": null,
      "outputs": []
    },
    {
      "cell_type": "markdown",
      "metadata": {
        "id": "NGlBrwNDfTTl"
      },
      "source": [
        "**Question 8 - Create your own 2-D array with details of 3 Artists and Songs.\n",
        "Then create a file called Artist_Song.csv which stores the contents of the 2-D array.**\n"
      ]
    },
    {
      "cell_type": "markdown",
      "metadata": {
        "id": "mB0lI778fTTl"
      },
      "source": [
        "**Question 9 - Create a Program which outputs the contents of the file Artist_Song.txt**\n"
      ]
    },
    {
      "cell_type": "markdown",
      "metadata": {
        "id": "6P5e1sP4fTTm"
      },
      "source": [
        "##**Section 5.0 - What are the different ways you know of being able to permanently store information?**"
      ]
    },
    {
      "cell_type": "markdown",
      "metadata": {
        "id": "O69WTu2vfTTm"
      },
      "source": [
        "**Answer: Through external files and tables in databases**"
      ]
    },
    {
      "cell_type": "code",
      "execution_count": null,
      "metadata": {
        "id": "n13pK_BjfTTm"
      },
      "outputs": [],
      "source": []
    }
  ],
  "metadata": {
    "kernelspec": {
      "display_name": "Python 3",
      "language": "python",
      "name": "python3"
    },
    "language_info": {
      "codemirror_mode": {
        "name": "ipython",
        "version": 3
      },
      "file_extension": ".py",
      "mimetype": "text/x-python",
      "name": "python",
      "nbconvert_exporter": "python",
      "pygments_lexer": "ipython3",
      "version": "3.7.4"
    },
    "colab": {
      "provenance": [],
      "include_colab_link": true
    }
  },
  "nbformat": 4,
  "nbformat_minor": 0
}