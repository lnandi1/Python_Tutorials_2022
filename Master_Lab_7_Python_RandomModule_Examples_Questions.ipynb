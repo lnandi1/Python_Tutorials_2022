{
  "nbformat": 4,
  "nbformat_minor": 0,
  "metadata": {
    "colab": {
      "provenance": [],
      "include_colab_link": true
    },
    "kernelspec": {
      "name": "python3",
      "display_name": "Python 3"
    },
    "language_info": {
      "name": "python"
    }
  },
  "cells": [
    {
      "cell_type": "markdown",
      "metadata": {
        "id": "view-in-github",
        "colab_type": "text"
      },
      "source": [
        "<a href=\"https://colab.research.google.com/github/lnandi1/Python_Tutorials_2022/blob/main/Master_Lab_7_Python_RandomModule_Examples_Questions.ipynb\" target=\"_parent\"><img src=\"https://colab.research.google.com/assets/colab-badge.svg\" alt=\"Open In Colab\"/></a>"
      ]
    },
    {
      "cell_type": "markdown",
      "source": [
        "*Please note that the Notebook was created by CLNandi (Dr) and cannot be replicated or used without the permission of the author*"
      ],
      "metadata": {
        "id": "z6WQLa8weK8V"
      }
    },
    {
      "cell_type": "markdown",
      "source": [
        "##**Computer Lab 7 - Let us look at the Random Module in Python - Examples and Questions**\n",
        "\n",
        "\n",
        "1.   Generating Random Numbers and Trying to Guess that Number\n",
        "2.   Generating Random Passwords\n",
        "2.   Dice Games\n",
        "3.   Card Games\n",
        "\n",
        "<br> A YouTube video on the Random Module can be found here\n",
        "https://youtu.be/KzqSDvzOFNA\n",
        "\n"
      ],
      "metadata": {
        "id": "2vuaBhaXps-q"
      }
    },
    {
      "cell_type": "markdown",
      "source": [
        "## **L7 - Example 1 - Generating Random Numbers**\n",
        "Generating Random Numbers"
      ],
      "metadata": {
        "id": "6uRItitoeX6G"
      }
    },
    {
      "cell_type": "code",
      "source": [
        "# Example 1\n",
        "# Generating a Random Number between 1 and 10\n",
        "import random\n",
        "r = random.randint(1,10)\n",
        "print(r)"
      ],
      "metadata": {
        "colab": {
          "base_uri": "https://localhost:8080/"
        },
        "id": "vjSAYlZ_eP__",
        "outputId": "ff00dc30-2dcb-48fe-ffe7-7096bf0728b1"
      },
      "execution_count": null,
      "outputs": [
        {
          "output_type": "stream",
          "name": "stdout",
          "text": [
            "6\n"
          ]
        }
      ]
    },
    {
      "cell_type": "markdown",
      "source": [
        "## **L7 - Question 1 - Generates a Random Number between 1 and 100**\n",
        "<h6>Write a Program which generates a Random Number between 1 and 100"
      ],
      "metadata": {
        "id": "fj0cJ_kYfLb1"
      }
    },
    {
      "cell_type": "code",
      "source": [
        "#Insert Code Here\n",
        "import random\n",
        "r = random.randint(1,100)\n",
        "print(r)"
      ],
      "metadata": {
        "id": "kWz0Fmk5fR7N",
        "colab": {
          "base_uri": "https://localhost:8080/"
        },
        "outputId": "1d058963-6b56-46d4-ae0a-4d1b2647a3ce"
      },
      "execution_count": null,
      "outputs": [
        {
          "output_type": "stream",
          "name": "stdout",
          "text": [
            "85\n"
          ]
        }
      ]
    },
    {
      "cell_type": "markdown",
      "source": [
        "## **L7 - Example 2 - A Dice Playing Game with two Players**\n",
        "This is a Program which simulates a dice playing game.\n",
        "<br>Two Players roll a six-sided dice.\n",
        "<br>& Reports which Player has won\n",
        "<br>& Reports if the game is a draw"
      ],
      "metadata": {
        "id": "fIZ1z-BY6pCm"
      }
    },
    {
      "cell_type": "code",
      "source": [
        "# Example 2\n",
        "import random\n",
        "first_roll = random.randint(1,6)\n",
        "second_roll = random.randint(1,6)\n",
        "if first_roll > second_roll:\n",
        "  print(\"Player 1 Wins!\")\n",
        "elif second_roll > first_roll:\n",
        "  print(\"Player 2 Wins!\")\n",
        "else:\n",
        "  print(\"There was a draw.\")"
      ],
      "metadata": {
        "id": "afA18FMv68NB",
        "colab": {
          "base_uri": "https://localhost:8080/"
        },
        "outputId": "f89ea75f-87d7-4ab3-ab1f-901dc14864b6"
      },
      "execution_count": null,
      "outputs": [
        {
          "output_type": "stream",
          "name": "stdout",
          "text": [
            "Player 1 Wins!\n"
          ]
        }
      ]
    },
    {
      "cell_type": "markdown",
      "source": [
        "## **L7 - Question 2 - Another Game of Dice Between 2 Players**\n",
        "Write a Program in which 2 Players each roll a 10 Sided Dice and the Program reports which Player has won or whether the game is a draw"
      ],
      "metadata": {
        "id": "OIH_wGPe6Hn9"
      }
    },
    {
      "cell_type": "code",
      "source": [
        "#Insert Code\n",
        "import random\n",
        "roll1 = random.randint(1,10)\n",
        "roll2 = random.randint(1,10)\n",
        "print(roll1, roll2)\n",
        "if roll1 > roll2:\n",
        "  print(\"player 1 wins\")\n",
        "elif roll2 > roll1:\n",
        "  print(\"player 2 wins\")\n",
        "else:\n",
        "  print(\"draw\")"
      ],
      "metadata": {
        "id": "KZvWAjeC6KPJ",
        "colab": {
          "base_uri": "https://localhost:8080/"
        },
        "outputId": "8cfbbc64-a722-4b52-f1d9-a0aaa7c39136"
      },
      "execution_count": null,
      "outputs": [
        {
          "output_type": "stream",
          "name": "stdout",
          "text": [
            "3 8\n",
            "player 2 wins\n"
          ]
        }
      ]
    },
    {
      "cell_type": "markdown",
      "source": [
        "## **L7 - Example3 - User guesses the Computer Generated Number**\n",
        "<h6>This is a Program in which the computer randomly generates a number and the user has to guess what the number is"
      ],
      "metadata": {
        "id": "Kulwlae1TEht"
      }
    },
    {
      "cell_type": "code",
      "source": [
        "#Example 3\n",
        "import random\n",
        "target = random.randint(1,10)\n",
        "guess = int(input(\"Enter your guess: \"))\n",
        "while guess != target:\n",
        "  print(\"Incorrect - guess again!\")\n",
        "  guess = int(input(\"Enter your guess: \"))\n",
        "print(\"Correct, the number was \" + str(target))"
      ],
      "metadata": {
        "colab": {
          "base_uri": "https://localhost:8080/"
        },
        "id": "02PlvAkI42Yw",
        "outputId": "26e6044e-51b7-4736-a66f-d4f12848d7d4"
      },
      "execution_count": null,
      "outputs": [
        {
          "output_type": "stream",
          "name": "stdout",
          "text": [
            "Enter your guess: 1\n",
            "Incorrect - guess again!\n",
            "Enter your guess: 2\n",
            "Incorrect - guess again!\n",
            "Enter your guess: 3\n",
            "Incorrect - guess again!\n",
            "Enter your guess: 4\n",
            "Correct, the number was 4\n"
          ]
        }
      ]
    },
    {
      "cell_type": "markdown",
      "source": [
        "## **L7 - Question 3 - Question on User guesses the Computer Generated Number**\n",
        "Write a Program where the:-\n",
        "<br>(i) computer generates a random number between 1 and 100 and\n",
        "<br>(ii)you have to guess what the number is and you have a maximum of 5 attempts"
      ],
      "metadata": {
        "id": "mZFJO69nfVJ9"
      }
    },
    {
      "cell_type": "code",
      "source": [
        "#Insert Code Here\n",
        "import random\n",
        "compgen = random.randint(1,100)\n",
        "print(compgen)\n",
        "guess = int(input(\"enter guess \"))\n",
        "while guess != compgen:\n",
        "  if guess > compgen:\n",
        "    print(\"too large\")\n",
        "    guess = int(input(\"enter guess \"))\n",
        "  elif guess < compgen:\n",
        "    print(\"too small\")\n",
        "    guess = int(input(\"enter guess\"))\n",
        "  else:\n",
        "    print(\"correct guess number as \" + str(compgen))\n",
        "\n"
      ],
      "metadata": {
        "id": "Eri01MHbffuF",
        "colab": {
          "base_uri": "https://localhost:8080/"
        },
        "outputId": "b87e98f3-6e51-4181-ecc1-8b239b63ef79"
      },
      "execution_count": null,
      "outputs": [
        {
          "name": "stdout",
          "output_type": "stream",
          "text": [
            "96\n",
            "enter guess 96\n"
          ]
        }
      ]
    },
    {
      "cell_type": "markdown",
      "source": [
        "## **L7 - Question 3 - A Solution**"
      ],
      "metadata": {
        "id": "Lar16yPYLhMh"
      }
    },
    {
      "cell_type": "code",
      "source": [
        "#Question 3 - A Solution"
      ],
      "metadata": {
        "id": "Ba8Uk2pLLm9W"
      },
      "execution_count": null,
      "outputs": []
    },
    {
      "cell_type": "markdown",
      "source": [
        "## **L7 - Example 4 - Generating a Random List of Numbers**\n",
        "Generating a Random List of Numbers"
      ],
      "metadata": {
        "id": "UQQo4gmyfW0s"
      }
    },
    {
      "cell_type": "code",
      "source": [
        "#Example 4\n",
        "# A Random List\n",
        "import random\n",
        "A = []\n",
        "for j in range(1,4):\n",
        "  r = random.randint(1,100)\n",
        "  A.append(r)\n",
        "  print(\"The List currently contains \",A)\n",
        "\n",
        "print(\"\\nThe Final List is \", A)"
      ],
      "metadata": {
        "colab": {
          "base_uri": "https://localhost:8080/"
        },
        "id": "plIphZKLgo8w",
        "outputId": "239f22b2-1f59-4608-9da1-e2bddc09a9c5"
      },
      "execution_count": null,
      "outputs": [
        {
          "output_type": "stream",
          "name": "stdout",
          "text": [
            "The List currently contains  [26]\n",
            "The List currently contains  [26, 55]\n",
            "The List currently contains  [26, 55, 88]\n",
            "\n",
            "The Final List is  [26, 55, 88]\n"
          ]
        }
      ]
    },
    {
      "cell_type": "markdown",
      "source": [
        "## **L7 - Question 4 - Generates a List of 6 Lottery Numbers which can take values between 1 and 10**\n",
        "Write a Program which Generates a List of 6 Lottery Numbers which can take values between 1 and 10\n",
        "\n"
      ],
      "metadata": {
        "id": "PyR2ktwmhJii"
      }
    },
    {
      "cell_type": "code",
      "source": [
        "#Insert Code Here\n",
        "import random\n",
        "list1 = []\n",
        "for j in range(1,7):\n",
        "  r = random.randint(1,100)\n",
        "  list1.append(r)\n",
        "  print(\"the list currently contains\",list1)\n",
        "\n",
        "print(\"The final list is\", list1)"
      ],
      "metadata": {
        "id": "z1ikqn__hbRa",
        "colab": {
          "base_uri": "https://localhost:8080/"
        },
        "outputId": "c9057835-0b08-4dfd-eee6-db936124eda4"
      },
      "execution_count": null,
      "outputs": [
        {
          "output_type": "stream",
          "name": "stdout",
          "text": [
            "the list currently contains [9]\n",
            "the list currently contains [9, 36]\n",
            "the list currently contains [9, 36, 30]\n",
            "the list currently contains [9, 36, 30, 85]\n",
            "the list currently contains [9, 36, 30, 85, 44]\n",
            "the list currently contains [9, 36, 30, 85, 44, 21]\n",
            "The final list is [9, 36, 30, 85, 44, 21]\n"
          ]
        }
      ]
    },
    {
      "cell_type": "markdown",
      "source": [
        "## **L7 - Example 5 - Generating a Random Word/Code - Method 1**\n",
        "Generating a Random Word/Code - Method 1"
      ],
      "metadata": {
        "id": "tCva2CTJif9M"
      }
    },
    {
      "cell_type": "code",
      "source": [
        "#Example 5\n",
        "import random\n",
        "Random_Word = []\n",
        "for j in range(5):\n",
        "  ASCII_UpperCase = random.randint(65,90)\n",
        "  Letter = chr(ASCII_UpperCase)\n",
        "  Random_Word.append(Letter)\n",
        "  print(\"Word at the moment is \", Random_Word)\n",
        "\n",
        "print(\"\\n\",Random_Word)\n",
        "Code = ''.join(Random_Word)\n",
        "print(\"\\nCode is \",Code)\n"
      ],
      "metadata": {
        "id": "NlrcC1IsimqQ",
        "colab": {
          "base_uri": "https://localhost:8080/"
        },
        "outputId": "54dd0a3c-30a4-4658-c785-6debfb2153ed"
      },
      "execution_count": null,
      "outputs": [
        {
          "output_type": "stream",
          "name": "stdout",
          "text": [
            "Word at the moment is  ['I']\n",
            "Word at the moment is  ['I', 'Z']\n",
            "Word at the moment is  ['I', 'Z', 'M']\n",
            "Word at the moment is  ['I', 'Z', 'M', 'B']\n",
            "Word at the moment is  ['I', 'Z', 'M', 'B', 'Y']\n",
            "\n",
            " ['I', 'Z', 'M', 'B', 'Y']\n",
            "\n",
            "Code is  IZMBY\n"
          ]
        }
      ]
    },
    {
      "cell_type": "markdown",
      "source": [
        "## **L7 - Question 5 - Generates a random code made up of Uppercase letters and digits**\n",
        "Write a Program which generates a random code made up of Uppercase letters and digits"
      ],
      "metadata": {
        "id": "8z7DB0B-SGDg"
      }
    },
    {
      "cell_type": "code",
      "source": [
        "#Insert Code\n",
        "import random\n",
        "import string\n",
        "randompass = []\n",
        "for j in range(6):\n",
        "  uppercase = string.ascii_uppercase\n",
        "  lowercase = string.ascii_lowercase\n",
        "  digits = string.digits\n",
        "  all = uppercase + lowercase + digits\n",
        "  randompass.append(all)\n",
        "\n",
        "def random_passfinal():\n",
        "  sample = random.choices(all,k=13)\n",
        "  code = ''.join(sample)\n",
        "  print(\"the random code is\", code)\n",
        "\n",
        "random_passfinal()\n",
        "\n"
      ],
      "metadata": {
        "id": "Id39Q7sF6N6h",
        "colab": {
          "base_uri": "https://localhost:8080/"
        },
        "outputId": "4ef98eb4-2cf9-4803-d7d6-83b17dcf3fa6"
      },
      "execution_count": null,
      "outputs": [
        {
          "output_type": "stream",
          "name": "stdout",
          "text": [
            "the random code is j7Jj2chJ4DDhN\n"
          ]
        }
      ]
    },
    {
      "cell_type": "markdown",
      "source": [
        "## **L7 - Example 6 - Generating a Random Code - Method 2**\n",
        "Generating a Random Code - Method 2"
      ],
      "metadata": {
        "id": "OC-ncDOojCoo"
      }
    },
    {
      "cell_type": "code",
      "source": [
        "#Example 6\n",
        "import random\n",
        "# Program for Randomly Generating Passwords\n",
        "import random\n",
        "import string\n",
        "UppercaseLetters = string.ascii_uppercase\n",
        "LowercaseLetters = string.ascii_lowercase\n",
        "Digits = string.digits\n",
        "All = UppercaseLetters + LowercaseLetters + Digits\n",
        "\n",
        "\n",
        "def Random_Password():\n",
        "    Sampling = random.choices(All,k=4)\n",
        "    Code = ''.join(Sampling)\n",
        "    print(\"The Random Code is \", Code)\n",
        "\n",
        "Random_Password()"
      ],
      "metadata": {
        "id": "lhzjFUI0jFH5",
        "colab": {
          "base_uri": "https://localhost:8080/"
        },
        "outputId": "7f966a9e-3cc6-4465-8a72-9a595f7078d4"
      },
      "execution_count": null,
      "outputs": [
        {
          "output_type": "stream",
          "name": "stdout",
          "text": [
            "The Random Code is  IHeE\n"
          ]
        }
      ]
    },
    {
      "cell_type": "markdown",
      "source": [
        "## **L7 - Question 6 - Generates a Random Password with 8 Characters and comprising of Uppercase Letters and Lowercase Letters**\n",
        "Write a Program which generates a Random Password with 8 Characters and comprising of Uppercase Letters and Lowercase Letters"
      ],
      "metadata": {
        "id": "R1rUnXwRjfDr"
      }
    },
    {
      "cell_type": "code",
      "source": [
        "##Insert Code\n",
        "import random\n",
        "import random\n",
        "import string\n",
        "uppercase = string.ascii_uppercase\n",
        "lowercase = string.ascii_lowercase\n",
        "all = uppercase + lowercase\n",
        "\n",
        "def randpass():\n",
        "  sample = random.choices(all,k=13)\n",
        "  code = ''.join(sample)\n",
        "  print(\"the random code is \", code)\n",
        "\n",
        "randpass()"
      ],
      "metadata": {
        "id": "UZk8fZOxjlI-",
        "colab": {
          "base_uri": "https://localhost:8080/"
        },
        "outputId": "6e1f2d2b-5130-4ae0-8a5e-8879f6a6b617"
      },
      "execution_count": null,
      "outputs": [
        {
          "output_type": "stream",
          "name": "stdout",
          "text": [
            "the random code is  YLDFLJmYmqpwY\n"
          ]
        }
      ]
    },
    {
      "cell_type": "markdown",
      "source": [
        "## **L7 - Example 7 - Making a Random Choice of Number from a Given List of Numbers**\n",
        "Making a Random Choice\n"
      ],
      "metadata": {
        "id": "H_lQT6ZljkKN"
      }
    },
    {
      "cell_type": "code",
      "source": [
        "#Example 7\n",
        "import random\n",
        "numList = [5,15,84,3,14,8,10,14]\n",
        "Choices = random.choice(numList) #This chooses one item randomly\n",
        "Samples = random.sample(numList,3) #This chooses several items randomly\n",
        "print(\"The Original List is \",numList)\n",
        "print(\"One item chosen randomly \", Choices)\n",
        "print(\"Three items chosen randomly \", Samples)\n"
      ],
      "metadata": {
        "colab": {
          "base_uri": "https://localhost:8080/"
        },
        "id": "uXi5yC7-nAJb",
        "outputId": "f7eafbb4-9ce6-4213-8f97-d4af52adcc6a"
      },
      "execution_count": null,
      "outputs": [
        {
          "output_type": "stream",
          "name": "stdout",
          "text": [
            "The Original List is  [5, 15, 84, 3, 14, 8, 10, 14]\n",
            "One item chosen randomly  10\n",
            "Three items chosen randomly  [3, 15, 8]\n"
          ]
        }
      ]
    },
    {
      "cell_type": "markdown",
      "source": [
        "## **L7 - Question 7 -From a List of 5 Names, randomly choose 2 Names**\n",
        "Make a List of 5 Names and first of all randomly choose one name and then randomly choose 2 Names"
      ],
      "metadata": {
        "id": "Xh6GenHwSoMT"
      }
    },
    {
      "cell_type": "code",
      "source": [
        "import random\n",
        "namelist = ['amir','ilya','jeff','jacob','bob']\n",
        "choices =random.choice(namelist)\n",
        "sample = random.sample(namelist,3)\n",
        "print(\"original list\",namelist)\n",
        "print(\"one item chosen is\", choices)\n",
        "print(\"three items chosen are\", sample)"
      ],
      "metadata": {
        "colab": {
          "base_uri": "https://localhost:8080/"
        },
        "id": "WuSqYbBkRGZt",
        "outputId": "400b782a-e488-4f21-eaaf-6a6990bbcd82"
      },
      "execution_count": null,
      "outputs": [
        {
          "output_type": "stream",
          "name": "stdout",
          "text": [
            "original list ['amir', 'ilya', 'jeff', 'jacob', 'bob']\n",
            "one item chosen is ilya\n",
            "three items chosen are ['jeff', 'jacob', 'ilya']\n"
          ]
        }
      ]
    },
    {
      "cell_type": "markdown",
      "source": [
        "## **L7 - Example 8 - Randomly Picking a Card**\n",
        "Randomly Picking a Card"
      ],
      "metadata": {
        "id": "6B4vMWkdupQB"
      }
    },
    {
      "cell_type": "code",
      "source": [
        "#Example 8\n",
        "import random\n",
        "card_points =['A','K','Q','J','2','3','4','5','6','7','8','9','10']\n",
        "card_signs =['Heart','CLUB','DIAMOND','SPADE']\n",
        "\n",
        "# Randomly picking a card point\n",
        "random_point = random.choice(card_points)\n",
        "# Randomly picking a card sign\n",
        "random_sign = random.choice(card_signs)\n",
        "# Outputting the Choices\n",
        "random_card = random_point,random_sign\n",
        "print(random_card)"
      ],
      "metadata": {
        "id": "KSWIb4U2uv33",
        "colab": {
          "base_uri": "https://localhost:8080/"
        },
        "outputId": "d4b1dd31-7f8a-4ea6-c39e-63375b91eca8"
      },
      "execution_count": null,
      "outputs": [
        {
          "output_type": "stream",
          "name": "stdout",
          "text": [
            "('9', 'SPADE')\n"
          ]
        }
      ]
    },
    {
      "cell_type": "markdown",
      "source": [
        "## **L7 - Question 8**\n",
        "Write a Program in which an Ace, King, Queen or Jack of Diamond or Heart Card is Randomly Picked"
      ],
      "metadata": {
        "id": "o2xYTPWlFhX2"
      }
    },
    {
      "cell_type": "code",
      "source": [
        "#Insert Code\n",
        "import random\n",
        "import string\n",
        "cardval =['A','K','Q','J','1','2','3','4','5','6','7','8','9','10']\n",
        "cardsign =['heart','diamond']\n",
        "random_val = random.choice(cardval)\n",
        "random_sign = random.choice(cardsign)\n",
        "random_card = random_val, random_sign\n",
        "print(random_card)"
      ],
      "metadata": {
        "id": "7lTCWRJmFyKt",
        "colab": {
          "base_uri": "https://localhost:8080/"
        },
        "outputId": "a3e70a20-dcd7-4447-8e24-3efb32029e9a"
      },
      "execution_count": null,
      "outputs": [
        {
          "output_type": "stream",
          "name": "stdout",
          "text": [
            "('1', 'diamond')\n"
          ]
        }
      ]
    },
    {
      "cell_type": "markdown",
      "source": [
        "## **L7 - Example 9**\n",
        "Generating a Deck of Cards and then Randomly Shuffling them"
      ],
      "metadata": {
        "id": "fgDawY4ZJDpA"
      }
    },
    {
      "cell_type": "code",
      "source": [
        "#Example 9\n",
        "import random\n",
        "Cards = []\n",
        "card_points =['A','K','Q','J','2','3','4','5','6','7','8','9','10']\n",
        "card_signs =['Heart','CLUB','DIAMOND','SPADE']\n",
        "for i in range(len(card_points)):\n",
        "  for j in range(len(card_signs)):\n",
        "    New_Card = card_points[i]+card_signs[j]\n",
        "    Cards.append(New_Card)\n",
        "\n",
        "print(Cards)\n",
        "# Shuffling Cards\n",
        "print(\"\\nShuffling Cards\")\n",
        "random.shuffle(Cards)\n",
        "print(Cards)\n",
        "print(random.choice(Cards))"
      ],
      "metadata": {
        "id": "cp4qyQK4JJpr",
        "colab": {
          "base_uri": "https://localhost:8080/"
        },
        "outputId": "aad6ea45-75ce-4db2-b176-5382066e4fa8"
      },
      "execution_count": null,
      "outputs": [
        {
          "output_type": "stream",
          "name": "stdout",
          "text": [
            "['AHeart', 'ACLUB', 'ADIAMOND', 'ASPADE', 'KHeart', 'KCLUB', 'KDIAMOND', 'KSPADE', 'QHeart', 'QCLUB', 'QDIAMOND', 'QSPADE', 'JHeart', 'JCLUB', 'JDIAMOND', 'JSPADE', '2Heart', '2CLUB', '2DIAMOND', '2SPADE', '3Heart', '3CLUB', '3DIAMOND', '3SPADE', '4Heart', '4CLUB', '4DIAMOND', '4SPADE', '5Heart', '5CLUB', '5DIAMOND', '5SPADE', '6Heart', '6CLUB', '6DIAMOND', '6SPADE', '7Heart', '7CLUB', '7DIAMOND', '7SPADE', '8Heart', '8CLUB', '8DIAMOND', '8SPADE', '9Heart', '9CLUB', '9DIAMOND', '9SPADE', '10Heart', '10CLUB', '10DIAMOND', '10SPADE']\n",
            "\n",
            "Shuffling Cards\n",
            "['6CLUB', '5SPADE', '5CLUB', 'JDIAMOND', 'QSPADE', '3SPADE', '10DIAMOND', 'KSPADE', '5Heart', 'ASPADE', '3DIAMOND', '4Heart', '2Heart', '4SPADE', '3Heart', '7Heart', '8SPADE', '8CLUB', '4CLUB', 'JCLUB', '2CLUB', '7CLUB', '3CLUB', 'QHeart', 'ACLUB', '10SPADE', '9Heart', 'JSPADE', '2SPADE', 'KCLUB', 'ADIAMOND', 'QCLUB', '6Heart', '10CLUB', 'JHeart', '9SPADE', '5DIAMOND', '2DIAMOND', '9CLUB', '10Heart', 'KDIAMOND', '9DIAMOND', '8DIAMOND', '4DIAMOND', '7DIAMOND', '6DIAMOND', 'AHeart', '8Heart', 'KHeart', '7SPADE', 'QDIAMOND', '6SPADE']\n",
            "ADIAMOND\n"
          ]
        }
      ]
    },
    {
      "cell_type": "markdown",
      "source": [
        "## **L7 - Question 9**\n",
        "Write a Program which Outputs a Randomly Shuffled List of Hearts."
      ],
      "metadata": {
        "id": "iAr5nD3JF1KU"
      }
    },
    {
      "cell_type": "code",
      "source": [],
      "metadata": {
        "id": "638bhIeMU5ew"
      },
      "execution_count": null,
      "outputs": []
    },
    {
      "cell_type": "markdown",
      "source": [
        "## **L7 - Example 10 - There is no Example 10**\n"
      ],
      "metadata": {
        "id": "QDcsaeAaKMtw"
      }
    },
    {
      "cell_type": "markdown",
      "source": [
        "## **L7 - Question 10**\n",
        "Now go over all of the Examples, Questions and Answers\n",
        "and watch the YouTube Video on the Random Module\n",
        "https://youtu.be/KzqSDvzOFNA"
      ],
      "metadata": {
        "id": "M2cvmLxQFJJU"
      }
    }
  ]
}